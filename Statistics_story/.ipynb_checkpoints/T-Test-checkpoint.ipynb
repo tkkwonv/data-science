{
 "cells": [
  {
   "cell_type": "markdown",
   "metadata": {},
   "source": [
    "‘스튜던트’라는 가명을 써야 했던 과학자, 윌리엄 고셋(William Sealy Gosset)입니다.\n",
    "\n",
    "고셋은 영국의 통계학자이자 양조기술사였습니다. 통계전문 매체 <PRICEONOMICS>에 따르면 고셋은 윈체스터 대학에서 수학과 자연 과학을 공부한 뒤 옥스포드에 편입했고 1899년 기네스에 취직했다고 합니다.\n",
    "\n",
    "고셋이 처음 일을 시작했을 때 기네스는 세계적인 규모의 양조장을 가진 회사였습니다. 오늘날 주류회사 못지 않게 제품의 맛을 개선하는데 과학적인 방법을 사용했다는데요. 당시 기네스는 생산량을 증가시키면서도 특유의 향과 맛을 유지하기 위해 고셋에게 맥주에 들어가는 ‘홉’의 이상적인 비율을 알아내달라고 부탁합니다.\n",
    "\n",
    "분석을 위해 고셋에게 제공되는 맥주 양은 한계가 있었습니다. 때문에 그는 표본을 통해 전체의 비율을 유추하는 통계적 방법을 적용했고 적은 양의 맥주로 이상적인 홉의 비율을 알아내는데 성공합니다."
   ]
  },
  {
   "cell_type": "markdown",
   "metadata": {},
   "source": [
    "고셋은 이 발견을 자신의 이름으로 학계에 공표하고 싶었습니다. 하지만 기네스사는 이를 허용하지 않았죠. 기네스는 고셋의 발견을 독점해 다른 양조업체보다 경쟁 우위에 서고자 했습니다. 연구원이었지만 동시에 회사원이기도 했던 고셋은 기네스와 절충을 시도합니다.\n",
    "\n",
    "고셋은 기네스측에 ‘연구원 신분이 노출되지 않는 가명이라면 연구 내용을 발표해도 좋다’는 내용의 허락을 받아냅니다. 고셋은 본인의 연구 성과를 ‘스튜던트’라는 가명으로 1908년 옥스포드 대학교 학술지 <Biometrika>에 싣습니다."
   ]
  },
  {
   "cell_type": "markdown",
   "metadata": {},
   "source": [
    "이 사람이 바로 ‘티 테스트’\n",
    "\n",
    "\n",
    "T테스트에서 T값을 구하는 공식\n",
    "\n",
    "\n",
    "그렇습니다. 대학에서 통계나 조사방법론을 공부할 때 한 번쯤은 다루거나 듣게 되는 T-Test가 그의 연구입니다. 두 집단 간의 평균 차이를 검증하는 방법입니다.\n",
    "\n",
    "\n",
    "예를 들면 “한국인 남성과 덴마크 남성은 평균 신장의 차이가 있을 것이다”와 같은 연구를 진행할 때 쓰이는 방법이죠. T-Test의 ‘T’가 고셋의 가명 ‘스튜던트(Student)’에서 유래 됐다고 <PRICENOMICS> <PRICEONOMICS>는 전합니다."
   ]
  }
 ],
 "metadata": {
  "kernelspec": {
   "display_name": "Python 3",
   "language": "python",
   "name": "python3"
  },
  "language_info": {
   "codemirror_mode": {
    "name": "ipython",
    "version": 3
   },
   "file_extension": ".py",
   "mimetype": "text/x-python",
   "name": "python",
   "nbconvert_exporter": "python",
   "pygments_lexer": "ipython3",
   "version": "3.7.2"
  },
  "toc": {
   "base_numbering": 1,
   "nav_menu": {},
   "number_sections": true,
   "sideBar": true,
   "skip_h1_title": false,
   "title_cell": "Table of Contents",
   "title_sidebar": "Contents",
   "toc_cell": false,
   "toc_position": {},
   "toc_section_display": true,
   "toc_window_display": false
  }
 },
 "nbformat": 4,
 "nbformat_minor": 2
}
