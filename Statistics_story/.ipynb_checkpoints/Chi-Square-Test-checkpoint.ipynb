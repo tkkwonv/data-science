{
 "cells": [
  {
   "cell_type": "markdown",
   "metadata": {},
   "source": [
    "# Chi-Square Test"
   ]
  },
  {
   "cell_type": "markdown",
   "metadata": {},
   "source": [
    "1900년 영국 수학자 칼 피어슨(Karl Pearson)​이 발표한 Chi-Square Test에\n",
    "대하여 알아봅니다. 귀무 가설을 세울 때에는 보수적이고 변화를 일으키지 않을\n",
    "입장을 취하는 것이 이 분야에서의 관습입니다.\n",
    "\n",
    "유의수준을 대부분 5%로 설정하는 이유도 20개 데이타 중에서 1개\n",
    "정도의 예외가 나타나는 실세계의 일반적인 현상을 반영하였다는 설이\n",
    "​지배적입니다. 그 정도의 예외를 기준으로 세우고 검정을 했을 때 나온\n",
    "통계값이 20개 중에 1개 나오는 경우에 해당한다면, 그 상황은 귀무가설을\n",
    "버려야 할 정도로 의미가 있다(有意)고 말해도 충분하다는 것입니다.\n",
    "상당히 조심스럽게 결론을 내리면서도 확실히 보장하는 태도가 아니라는 점을\n",
    "이해할 필요가 있습니다.  \n",
    "\n",
    "칼 피어슨은 통계학 역사에서 선구자적 위치의 인물인데, 그는 열등한 인종에\n",
    "대한 전쟁을 지지했습니다."
   ]
  },
  {
   "cell_type": "code",
   "execution_count": null,
   "metadata": {},
   "outputs": [],
   "source": []
  }
 ],
 "metadata": {
  "kernelspec": {
   "display_name": "Python 3",
   "language": "python",
   "name": "python3"
  },
  "language_info": {
   "codemirror_mode": {
    "name": "ipython",
    "version": 3
   },
   "file_extension": ".py",
   "mimetype": "text/x-python",
   "name": "python",
   "nbconvert_exporter": "python",
   "pygments_lexer": "ipython3",
   "version": "3.7.2"
  },
  "toc": {
   "base_numbering": 1,
   "nav_menu": {},
   "number_sections": true,
   "sideBar": true,
   "skip_h1_title": false,
   "title_cell": "Table of Contents",
   "title_sidebar": "Contents",
   "toc_cell": false,
   "toc_position": {},
   "toc_section_display": true,
   "toc_window_display": false
  }
 },
 "nbformat": 4,
 "nbformat_minor": 2
}
