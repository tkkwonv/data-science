{
 "cells": [
  {
   "cell_type": "markdown",
   "metadata": {},
   "source": [
    "# 윌리엄 고셋\n",
    "\n",
    "![텍스트](https://upload.wikimedia.org/wikipedia/commons/thumb/4/42/William_Sealy_Gosset.jpg/220px-William_Sealy_Gosset.jpg)\n",
    "\n",
    "(윌리엄 고셋의 사진. William Sealy Gosset, who developed the \"t-statistic\" and published it under the pseudonym of \"Student\".) \n",
    "\n",
    "고셋은 영국의 통계학자이자 양조기술사였습니다.  \n",
    "통계전문 매체 <PRICEONOMICS>에 따르면 고셋은 윈체스터 대학에서 수학과 자연 과학을 공부한 뒤 옥스포드에 편입했고 1899년 기네스에 취직했다고 합니다.\n",
    "\n",
    "고셋이 처음 일을 시작했을 때 기네스는 세계적인 규모의 양조장을 가진 회사였습니다.  \n",
    "오늘날 주류회사 못지 않게 제품의 맛을 개선하는데 과학적인 방법을 사용했다는데요.  \n",
    "당시 기네스는 생산량을 증가시키면서도 특유의 향과 맛을 유지하기 위해 고셋에게 맥주에 들어가는 ‘홉’의 이상적인 비율을 알아내달라고 부탁합니다.\n",
    "\n",
    "분석을 위해 고셋에게 제공되는 맥주 양은 한계가 있었습니다.  \n",
    "때문에 그는 표본을 통해 전체의 비율을 유추하는 통계적 방법을 적용했고 적은 양의 맥주로 이상적인 홉의 비율을 알아내는데 성공합니다.\n",
    "\n",
    "고셋은 이 발견을 자신의 이름으로 학계에 공표하고 싶었습니다. 하지만 기네스사는 이를 허용하지 않았죠.  \n",
    "기네스는 고셋의 발견을 독점해 다른 양조업체보다 경쟁 우위에 서고자 했습니다. 연구원이었지만 동시에 회사원이기도 했던 고셋은 기네스와 절충을 시도합니다.\n",
    "\n",
    "고셋은 기네스측에 ‘연구원 신분이 노출되지 않는 가명이라면 연구 내용을 발표해도 좋다’는 내용의 허락을 받아냅니다.  \n",
    "고셋은 본인의 연구 성과를 ‘스튜던트’라는 가명으로 1908년 옥스포드 대학교 학술지 <Biometrika>에 싣습니다.\n",
    "\n",
    "이 사람이 바로 ‘티 테스트’\n",
    "\n",
    "T테스트에서 T값을 구하는 공식\n",
    "\n",
    "그렇습니다. 대학에서 통계나 조사방법론을 공부할 때 한 번쯤은 다루거나 듣게 되는 T-Test가 그의 연구입니다.  \n",
    "두 집단 간의 평균 차이를 검증하는 방법입니다.\n",
    "\n",
    "예를 들면 “한국인 남성과 덴마크 남성은 평균 신장의 차이가 있을 것이다”와 같은 연구를 진행할 때 쓰이는 방법이죠.  \n",
    "T-Test의 ‘T’가 고셋의 가명 ‘스튜던트(Student)’에서 유래 됐다고 <PRICENOMICS> <PRICEONOMICS>는 전합니다."
   ]
  },
  {
   "cell_type": "markdown",
   "metadata": {},
   "source": [
    "# T-Test\n",
    "\n",
    "두 집단의 평균 차이 검정. 모집단의 분산 표준편차를 알지 못할 경우. 모집단이 정규분포임을 가정.\n",
    "\n",
    "T값이 클수록 차이가 있을 가능성이 커짐. 귀무가설은 집단 간 차이가 없다.  \n",
    "따라서 p-value가 유의 수준보다 낮을 경우 귀무가설이 기각되고, 통계적으로 유의미한 차이가 있다고 해석할 수 있음."
   ]
  },
  {
   "cell_type": "markdown",
   "metadata": {},
   "source": [
    "## 단일 표본 T-test (One Sample T-test)\n",
    "\n",
    "하나의 표본의 값을 비교할 때 (ex. 한국 성인의 평균 주량을 작년과 올해 비교) \n",
    "\n",
    "> t.test(x, mu=10) --- 비교 대상이 평균값을 mu 값으로 대입"
   ]
  },
  {
   "cell_type": "markdown",
   "metadata": {},
   "source": [
    "## 독립 표본 T-test (Two Sample T-test) \n",
    "\n",
    "   - 서로 다른 두 표본을 비교할 때 (ex: 남vs.여의 평균 키 차이)\n",
    "\n",
    "   - 두 집단은 독립적이어야 함. (집단 간 교집합이 없고 영향을 주지 않아야 함)\n",
    "\n",
    "   - 분산이 같은 경우 student t-test, 분산이 다른 경우 welch test 사용 \n",
    "\n",
    "\n",
    "> var.test(x,y)  --- 등분산성 검증\n",
    "\n",
    "> t.test(x, y, var.equal=TRUE)  --- 분산이 같은 경우\n",
    "\n",
    "> t.test(x, y)  --- 분산이 다른 경우"
   ]
  },
  {
   "cell_type": "markdown",
   "metadata": {},
   "source": [
    "## 대응표본 T-test (Paired T-test)\n",
    "\n",
    "   - 동일한 샘플의 수치 비교 \n",
    "\n",
    "   - 샘플의 구성이 동일하고 당연히 샘플 수가 동일함"
   ]
  }
 ],
 "metadata": {
  "kernelspec": {
   "display_name": "R",
   "language": "R",
   "name": "ir"
  },
  "language_info": {
   "codemirror_mode": "r",
   "file_extension": ".r",
   "mimetype": "text/x-r-source",
   "name": "R",
   "pygments_lexer": "r",
   "version": "3.5.1"
  },
  "toc": {
   "base_numbering": 1,
   "nav_menu": {},
   "number_sections": true,
   "sideBar": true,
   "skip_h1_title": false,
   "title_cell": "Table of Contents",
   "title_sidebar": "Contents",
   "toc_cell": false,
   "toc_position": {},
   "toc_section_display": true,
   "toc_window_display": true
  }
 },
 "nbformat": 4,
 "nbformat_minor": 2
}
