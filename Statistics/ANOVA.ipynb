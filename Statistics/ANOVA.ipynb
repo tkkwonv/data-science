{
 "cells": [
  {
   "cell_type": "markdown",
   "metadata": {},
   "source": [
    "# F분포\n",
    "\n",
    "- 연속 확률 분포 중 하나\n",
    "\n",
    "- 독립적인 카이스퀘어 변수들이 해당되는 자유도에 의해 나눠진 값의 비율에 의한 분포\n",
    "\n",
    "![텍스트](http://postfiles7.naver.net/20140816_6/hyear1004_1408190252394aaCY8_GIF/F%BA%D0%C6%F71.GIF?type=w2)\n",
    "\n",
    "![텍스트](http://postfiles6.naver.net/20140816_133/hyear1004_1408189731244D7cDC_GIF/F%BA%D0%C6%F72.GIF?type=w2)"
   ]
  },
  {
   "cell_type": "markdown",
   "metadata": {},
   "source": [
    "# 기본 개념\n",
    "\n",
    "- 특성치의 산포를 제곱합으로 나타내고 이 제곱합을 요인마다의 제곱합으로 분해하여 오차에 비해 특히 큰 영향을 주는 요인이 무엇인지 찾아내는 분석 방법\n",
    "\n",
    "- 독립변수를 몇개의 범주나 수준으로 나누고, 그에 따라 나뉜 집단 간의 평균차이 검정\n",
    "\n",
    "![텍스트](http://postfiles4.naver.net/20140816_179/hyear1004_1408190328813uNe3D_GIF/%BA%D0%BB%EA%BA%D0%BC%AE.GIF?type=w2 )\n",
    " \n",
    "\n",
    "- total variation(총변동) =  between group variation(집단간 변동)  +  within group variation(집단내 변동)\n",
    " \n",
    "![텍스트](http://postfiles8.naver.net/20140816_87/hyear1004_1408190329181zH69B_GIF/%BA%AF%B7%AE%BA%D0%BC%AE2.GIF?type=w2)"
   ]
  },
  {
   "cell_type": "markdown",
   "metadata": {},
   "source": [
    "# 기본 가정\n",
    "\n",
    "- 각 집단에 해당되는 모집단의 분포가 정규분포이다\n",
    "\n",
    "- 각 집단에 해당되는 모집단의 분산이 같다.\n",
    "\n",
    "- 각 모집단 내에서의 오차나 모집단 간의 오차는 서로 독립이다."
   ]
  },
  {
   "cell_type": "markdown",
   "metadata": {},
   "source": [
    "# 분산분석 종류\n",
    "\n",
    "## one way ANOVA (일원분산분석)\n",
    "\n",
    "- 요인이 하나\n",
    "\n",
    "- 모집단의 수에 제한이 없으며, 각 표본의 수가 같지 않아도 됨\n",
    "\n",
    "- F분포 이용\n",
    " \n",
    "\n",
    "## Two way ANOVA(이원분산분석)\n",
    "\n",
    "- 요인이 두개인 경우 요인 2개가 결과치에 미치는 영향을 알아내기 위해\n",
    "\n",
    "- 상호작용 효과를 살펴볼 수 있음"
   ]
  },
  {
   "cell_type": "code",
   "execution_count": null,
   "metadata": {},
   "outputs": [],
   "source": []
  }
 ],
 "metadata": {
  "kernelspec": {
   "display_name": "Python 3",
   "language": "python",
   "name": "python3"
  },
  "language_info": {
   "codemirror_mode": {
    "name": "ipython",
    "version": 3
   },
   "file_extension": ".py",
   "mimetype": "text/x-python",
   "name": "python",
   "nbconvert_exporter": "python",
   "pygments_lexer": "ipython3",
   "version": "3.7.2"
  },
  "toc": {
   "base_numbering": 1,
   "nav_menu": {},
   "number_sections": true,
   "sideBar": true,
   "skip_h1_title": false,
   "title_cell": "Table of Contents",
   "title_sidebar": "Contents",
   "toc_cell": false,
   "toc_position": {},
   "toc_section_display": true,
   "toc_window_display": false
  }
 },
 "nbformat": 4,
 "nbformat_minor": 2
}
