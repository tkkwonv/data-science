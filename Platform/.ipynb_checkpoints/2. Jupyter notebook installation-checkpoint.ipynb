{
 "cells": [
  {
   "cell_type": "markdown",
   "metadata": {},
   "source": [
    "# Jupyter notebook 설치\n",
    "\n",
    "* Google Cloud Console 설치후 SSH 접속"
   ]
  },
  {
   "cell_type": "markdown",
   "metadata": {
    "hide_input": true
   },
   "source": [
    "## Anaconda 설치\n",
    "\n",
    "### wget 설치\n",
    "sudo yum install wget\n",
    "* wget : 웹 서버로부터 콘텐츠를 가져오는 프로그램으로, GNU 프로젝트의 일부이다. 이 프로그램의 이름은 월드 와이드 웹과 get에서 가져온 것이다. HTTP, HTTPS, FTP 프로토콜을 통해 내려받기를 지원한다.\n",
    "\n",
    "### bzip (압축 유틸리티) 설치\n",
    "sudo yum install bzip2\n",
    "* 미설치시 anaconda 설치 중 에러\n",
    "\n",
    "### Anaconda 다운로드 \n",
    "sudo wget https://repo.anaconda.com/archive/Anaconda3-5.3.1-Linux-x86_64.sh\n",
    "\n",
    "### Anaconda 설치\n",
    "sh Anaconda3-5.3.1-Linux-x86_64.sh\n",
    "\n",
    "### Path 설정 확인\n",
    "* Anaconda 설치시 마지막에 자동 설정\n",
    "\n",
    "##### path 확인\n",
    "vi .bashrc\n",
    "\n",
    "export PATH=/home/<user_directory>/anaconda3/bin:$\n",
    "\n",
    "##### .bashrc 실행\n",
    "source .bashrc"
   ]
  },
  {
   "cell_type": "markdown",
   "metadata": {},
   "source": [
    "## Jupyter 설정\n",
    "### 주피터 노트북 설정 파일 생성\n",
    "jupyter notebook --generate-config\n",
    "\n",
    "### 주피터 노트북 설정 파일 편집\n",
    "vi <안내되는경로>/.jupyter/jupyter_notebook_config.py\n",
    "* 아래 내용 입력\n",
    "\n",
    "c = get_config()\n",
    "\n",
    "c.IPKernelApp.pylab = 'inline'\n",
    "\n",
    "c.NotebookApp.ip = '*'\n",
    "\n",
    "c.NotebookApp.open_browser = False\n",
    "\n",
    "c.NotebookApp.token = ''\n",
    "\n",
    "c.NotebookApp.port = 8888"
   ]
  },
  {
   "cell_type": "markdown",
   "metadata": {
    "hide_input": true
   },
   "source": [
    "## Jupyter Nbextensions \n",
    "### Install \n",
    "pip install jupyter_contrib_nbextensions\n",
    "\n",
    "jupyter contrib nbextension install --user execute \n",
    "\n",
    "jupyter nbextension enable init_cell/main"
   ]
  },
  {
   "cell_type": "markdown",
   "metadata": {},
   "source": [
    "\n",
    "## Thema\n",
    "### Install\n",
    "pip install jupyterthemes\n",
    "\n",
    "### Setting\n",
    "jt -t onedork -fs 95 -tfs 11 -nfs 115 -cellw 70% -T\n",
    "\n",
    "jt -t onedork -f consolamono -T -N -kl\n",
    "\n",
    "### Recovery\n",
    "jt -r\n",
    "\n",
    "\n"
   ]
  },
  {
   "cell_type": "markdown",
   "metadata": {},
   "source": [
    "### Thema sample"
   ]
  },
  {
   "cell_type": "raw",
   "metadata": {},
   "source": [
    " # list available themes\n",
    "# onedork | grade3 | oceans16 | chesterish | monokai | solarizedl | solarizedd\n",
    "jt -l\n",
    "\n",
    "# select theme...\n",
    "jt -t chesterish\n",
    "\n",
    "# restore default theme\n",
    "# NOTE: Need to delete browser cache after running jt -r\n",
    "# If this doesn't work, try starting a new notebook session.\n",
    "jt -r\n",
    "\n",
    "# toggle toolbar ON and notebook name ON\n",
    "jt -t grade3 -T -N\n",
    "\n",
    "# toggle kernel logo.  kernel logo is in same container as name\n",
    "# toggled with -N.  That means that making the kernel logo visible is\n",
    "# pointless without also making the name visible\n",
    "jt -t grade3 -N -kl\n",
    "\n",
    "# set code font to 'Roboto Mono' 12pt\n",
    "# (see monospace font table below)\n",
    "jt -t onedork -f roboto -fs 12\n",
    "\n",
    "# set code font to Fira Mono, 11.5pt\n",
    "# 3digit font-sizes get converted into float (115-->11.5)\n",
    "# 2digit font-sizes > 25 get converted into float (85-->8.5)\n",
    "jt -t solarizedd -f fira -fs 115\n",
    "\n",
    "# set font/font-size of markdown (text cells) and notebook (interface)\n",
    "# see sans-serif & serif font tables below\n",
    "jt -t oceans16 -tf merriserif -tfs 10 -nf ptsans -nfs 13\n",
    "\n",
    "# adjust cell width (% screen width) and line height\n",
    "jt -t chesterish -cellw 90% -lineh 170\n",
    "\n",
    "# or set the cell width in pixels by leaving off the '%' sign\n",
    "jt -t solarizedl -cellw 860\n",
    "\n",
    "# fix the container-margins on the intro page (defaults to 'auto')\n",
    "jt -t monokai -m 200\n",
    "\n",
    "# adjust cursor width (in px) and make cursor red\n",
    "# options: b (blue), o (orange), r (red), p (purple), g (green), x (font color)\n",
    "jt -t oceans16 -cursc r -cursw 5\n",
    "\n",
    "# choose alternate prompt layout (narrower/no numbers)\n",
    "jt -t grade3 -altp\n",
    "\n",
    "# my two go-to styles\n",
    "# dark\n",
    "jt -t onedork -fs 95 altp -tfs 11 -nfs 115 -cellw 88% -T\n",
    "# light\n",
    "jt -t grade3 -fs 95 -altp -tfs 11 -nfs 115 -cellw 88% -T\n",
    " "
   ]
  }
 ],
 "metadata": {
  "kernelspec": {
   "display_name": "R",
   "language": "R",
   "name": "ir"
  },
  "language_info": {
   "codemirror_mode": "r",
   "file_extension": ".r",
   "mimetype": "text/x-r-source",
   "name": "R",
   "pygments_lexer": "r",
   "version": "3.5.1"
  },
  "toc": {
   "base_numbering": 1,
   "nav_menu": {},
   "number_sections": true,
   "sideBar": true,
   "skip_h1_title": false,
   "title_cell": "Table of Contents",
   "title_sidebar": "Contents",
   "toc_cell": false,
   "toc_position": {
    "height": "calc(100% - 180px)",
    "left": "10px",
    "top": "150px",
    "width": "256px"
   },
   "toc_section_display": true,
   "toc_window_display": true
  }
 },
 "nbformat": 4,
 "nbformat_minor": 2
}
