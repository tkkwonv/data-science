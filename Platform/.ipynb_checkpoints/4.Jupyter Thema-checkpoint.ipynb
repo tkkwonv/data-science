{
 "cells": [
  {
   "cell_type": "markdown",
   "metadata": {},
   "source": [
    "# Jupyter Thema"
   ]
  },
  {
   "cell_type": "markdown",
   "metadata": {},
   "source": [
    "## Install\n",
    "pip install jupyterthemes\n",
    "\n",
    "## Setting\n",
    "jt -t onedork -fs 95 -tfs 11 -nfs 115 -cellw 70% -T\n",
    "\n",
    "jt -t onedork -f consolamono -T -N -kl\n",
    "\n",
    "## Recovery\n",
    "jt -r"
   ]
  },
  {
   "cell_type": "markdown",
   "metadata": {},
   "source": [
    "# Thema sample"
   ]
  },
  {
   "cell_type": "raw",
   "metadata": {},
   "source": [
    " # list available themes\n",
    "# onedork | grade3 | oceans16 | chesterish | monokai | solarizedl | solarizedd\n",
    "jt -l\n",
    "\n",
    "# select theme...\n",
    "jt -t chesterish\n",
    "\n",
    "# restore default theme\n",
    "# NOTE: Need to delete browser cache after running jt -r\n",
    "# If this doesn't work, try starting a new notebook session.\n",
    "jt -r\n",
    "\n",
    "# toggle toolbar ON and notebook name ON\n",
    "jt -t grade3 -T -N\n",
    "\n",
    "# toggle kernel logo.  kernel logo is in same container as name\n",
    "# toggled with -N.  That means that making the kernel logo visible is\n",
    "# pointless without also making the name visible\n",
    "jt -t grade3 -N -kl\n",
    "\n",
    "# set code font to 'Roboto Mono' 12pt\n",
    "# (see monospace font table below)\n",
    "jt -t onedork -f roboto -fs 12\n",
    "\n",
    "# set code font to Fira Mono, 11.5pt\n",
    "# 3digit font-sizes get converted into float (115-->11.5)\n",
    "# 2digit font-sizes > 25 get converted into float (85-->8.5)\n",
    "jt -t solarizedd -f fira -fs 115\n",
    "\n",
    "# set font/font-size of markdown (text cells) and notebook (interface)\n",
    "# see sans-serif & serif font tables below\n",
    "jt -t oceans16 -tf merriserif -tfs 10 -nf ptsans -nfs 13\n",
    "\n",
    "# adjust cell width (% screen width) and line height\n",
    "jt -t chesterish -cellw 90% -lineh 170\n",
    "\n",
    "# or set the cell width in pixels by leaving off the '%' sign\n",
    "jt -t solarizedl -cellw 860\n",
    "\n",
    "# fix the container-margins on the intro page (defaults to 'auto')\n",
    "jt -t monokai -m 200\n",
    "\n",
    "# adjust cursor width (in px) and make cursor red\n",
    "# options: b (blue), o (orange), r (red), p (purple), g (green), x (font color)\n",
    "jt -t oceans16 -cursc r -cursw 5\n",
    "\n",
    "# choose alternate prompt layout (narrower/no numbers)\n",
    "jt -t grade3 -altp\n",
    "\n",
    "# my two go-to styles\n",
    "# dark\n",
    "jt -t onedork -fs 95 altp -tfs 11 -nfs 115 -cellw 88% -T\n",
    "# light\n",
    "jt -t grade3 -fs 95 -altp -tfs 11 -nfs 115 -cellw 88% -T"
   ]
  }
 ],
 "metadata": {
  "kernelspec": {
   "display_name": "Python 3",
   "language": "python",
   "name": "python3"
  },
  "language_info": {
   "codemirror_mode": {
    "name": "ipython",
    "version": 3
   },
   "file_extension": ".py",
   "mimetype": "text/x-python",
   "name": "python",
   "nbconvert_exporter": "python",
   "pygments_lexer": "ipython3",
   "version": "3.7.2"
  },
  "toc": {
   "base_numbering": 1,
   "nav_menu": {},
   "number_sections": true,
   "sideBar": true,
   "skip_h1_title": false,
   "title_cell": "Table of Contents",
   "title_sidebar": "Contents",
   "toc_cell": false,
   "toc_position": {},
   "toc_section_display": true,
   "toc_window_display": true
  }
 },
 "nbformat": 4,
 "nbformat_minor": 2
}
