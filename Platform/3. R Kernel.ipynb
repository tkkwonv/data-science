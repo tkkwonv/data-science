{
 "cells": [
  {
   "cell_type": "markdown",
   "metadata": {},
   "source": [
    "# R kernel Installation and Jupyter connection"
   ]
  },
  {
   "cell_type": "markdown",
   "metadata": {},
   "source": [
    "## R 커널 설치\n",
    "centos> conda install -c r r-irkernel\n",
    "\n",
    "centos> conda install -c r r-essentials\n",
    "\n",
    "##### R kernel 설치 확인\n",
    "centos> jupyter kernelspec list"
   ]
  },
  {
   "cell_type": "markdown",
   "metadata": {},
   "source": [
    "## Jupyter 연동\n",
    "##### R 실행\n",
    "centos> R\n",
    "\n",
    "##### R 에서 아래 패키지 설치\n",
    "install.packages(c('repr', 'IRdisplay', 'IRkernel'), type='source')\n",
    "\n",
    "library(IRkernel)\n",
    "\n",
    "IRkernel::installspec()\n",
    "\n",
    "##### R 종료\n",
    "q()"
   ]
  },
  {
   "cell_type": "markdown",
   "metadata": {},
   "source": [
    "## jupyter 실행\n",
    "##### Jupyter 실행\n",
    "nohup jupyter notebook &\n",
    "--> & : background 실행 옵션\n",
    "\n",
    "##### Web에서 Jupyter 접속\n",
    "http://외부IP:8888 로 웹브라우저 접속하면 완성"
   ]
  },
  {
   "cell_type": "code",
   "execution_count": null,
   "metadata": {},
   "outputs": [],
   "source": []
  }
 ],
 "metadata": {
  "kernelspec": {
   "display_name": "R",
   "language": "R",
   "name": "ir"
  },
  "language_info": {
   "codemirror_mode": "r",
   "file_extension": ".r",
   "mimetype": "text/x-r-source",
   "name": "R",
   "pygments_lexer": "r",
   "version": "3.5.1"
  },
  "toc": {
   "base_numbering": 1,
   "nav_menu": {},
   "number_sections": true,
   "sideBar": true,
   "skip_h1_title": false,
   "title_cell": "Table of Contents",
   "title_sidebar": "Contents",
   "toc_cell": false,
   "toc_position": {},
   "toc_section_display": true,
   "toc_window_display": true
  }
 },
 "nbformat": 4,
 "nbformat_minor": 2
}
