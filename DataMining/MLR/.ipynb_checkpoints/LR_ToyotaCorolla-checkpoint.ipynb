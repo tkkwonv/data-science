{
 "cells": [
  {
   "cell_type": "code",
   "execution_count": 3,
   "metadata": {},
   "outputs": [],
   "source": [
    "car.df <- read.csv(\"ToyotaCorolla.csv\")"
   ]
  },
  {
   "cell_type": "code",
   "execution_count": 4,
   "metadata": {},
   "outputs": [
    {
     "data": {
      "text/html": [
       "<table>\n",
       "<caption>A data.frame: 6 × 10</caption>\n",
       "<thead>\n",
       "\t<tr><th scope=col>Price</th><th scope=col>Age</th><th scope=col>KM</th><th scope=col>FuelType</th><th scope=col>HP</th><th scope=col>MetColor</th><th scope=col>Automatic</th><th scope=col>CC</th><th scope=col>Doors</th><th scope=col>Weight</th></tr>\n",
       "\t<tr><th scope=col>&lt;int&gt;</th><th scope=col>&lt;int&gt;</th><th scope=col>&lt;int&gt;</th><th scope=col>&lt;fct&gt;</th><th scope=col>&lt;int&gt;</th><th scope=col>&lt;int&gt;</th><th scope=col>&lt;int&gt;</th><th scope=col>&lt;int&gt;</th><th scope=col>&lt;int&gt;</th><th scope=col>&lt;int&gt;</th></tr>\n",
       "</thead>\n",
       "<tbody>\n",
       "\t<tr><td>13500</td><td>23</td><td>46986</td><td>Diesel</td><td>90</td><td>1</td><td>0</td><td>2000</td><td>3</td><td>1165</td></tr>\n",
       "\t<tr><td>13750</td><td>23</td><td>72937</td><td>Diesel</td><td>90</td><td>1</td><td>0</td><td>2000</td><td>3</td><td>1165</td></tr>\n",
       "\t<tr><td>13950</td><td>24</td><td>41711</td><td>Diesel</td><td>90</td><td>1</td><td>0</td><td>2000</td><td>3</td><td>1165</td></tr>\n",
       "\t<tr><td>14950</td><td>26</td><td>48000</td><td>Diesel</td><td>90</td><td>0</td><td>0</td><td>2000</td><td>3</td><td>1165</td></tr>\n",
       "\t<tr><td>13750</td><td>30</td><td>38500</td><td>Diesel</td><td>90</td><td>0</td><td>0</td><td>2000</td><td>3</td><td>1170</td></tr>\n",
       "\t<tr><td>12950</td><td>32</td><td>61000</td><td>Diesel</td><td>90</td><td>0</td><td>0</td><td>2000</td><td>3</td><td>1170</td></tr>\n",
       "</tbody>\n",
       "</table>\n"
      ],
      "text/latex": [
       "A data.frame: 6 × 10\n",
       "\\begin{tabular}{r|llllllllll}\n",
       " Price & Age & KM & FuelType & HP & MetColor & Automatic & CC & Doors & Weight\\\\\n",
       " <int> & <int> & <int> & <fct> & <int> & <int> & <int> & <int> & <int> & <int>\\\\\n",
       "\\hline\n",
       "\t 13500 & 23 & 46986 & Diesel & 90 & 1 & 0 & 2000 & 3 & 1165\\\\\n",
       "\t 13750 & 23 & 72937 & Diesel & 90 & 1 & 0 & 2000 & 3 & 1165\\\\\n",
       "\t 13950 & 24 & 41711 & Diesel & 90 & 1 & 0 & 2000 & 3 & 1165\\\\\n",
       "\t 14950 & 26 & 48000 & Diesel & 90 & 0 & 0 & 2000 & 3 & 1165\\\\\n",
       "\t 13750 & 30 & 38500 & Diesel & 90 & 0 & 0 & 2000 & 3 & 1170\\\\\n",
       "\t 12950 & 32 & 61000 & Diesel & 90 & 0 & 0 & 2000 & 3 & 1170\\\\\n",
       "\\end{tabular}\n"
      ],
      "text/markdown": [
       "\n",
       "A data.frame: 6 × 10\n",
       "\n",
       "| Price &lt;int&gt; | Age &lt;int&gt; | KM &lt;int&gt; | FuelType &lt;fct&gt; | HP &lt;int&gt; | MetColor &lt;int&gt; | Automatic &lt;int&gt; | CC &lt;int&gt; | Doors &lt;int&gt; | Weight &lt;int&gt; |\n",
       "|---|---|---|---|---|---|---|---|---|---|\n",
       "| 13500 | 23 | 46986 | Diesel | 90 | 1 | 0 | 2000 | 3 | 1165 |\n",
       "| 13750 | 23 | 72937 | Diesel | 90 | 1 | 0 | 2000 | 3 | 1165 |\n",
       "| 13950 | 24 | 41711 | Diesel | 90 | 1 | 0 | 2000 | 3 | 1165 |\n",
       "| 14950 | 26 | 48000 | Diesel | 90 | 0 | 0 | 2000 | 3 | 1165 |\n",
       "| 13750 | 30 | 38500 | Diesel | 90 | 0 | 0 | 2000 | 3 | 1170 |\n",
       "| 12950 | 32 | 61000 | Diesel | 90 | 0 | 0 | 2000 | 3 | 1170 |\n",
       "\n"
      ],
      "text/plain": [
       "  Price Age KM    FuelType HP MetColor Automatic CC   Doors Weight\n",
       "1 13500 23  46986 Diesel   90 1        0         2000 3     1165  \n",
       "2 13750 23  72937 Diesel   90 1        0         2000 3     1165  \n",
       "3 13950 24  41711 Diesel   90 1        0         2000 3     1165  \n",
       "4 14950 26  48000 Diesel   90 0        0         2000 3     1165  \n",
       "5 13750 30  38500 Diesel   90 0        0         2000 3     1170  \n",
       "6 12950 32  61000 Diesel   90 0        0         2000 3     1170  "
      ]
     },
     "metadata": {},
     "output_type": "display_data"
    }
   ],
   "source": [
    "head(car.df)"
   ]
  },
  {
   "cell_type": "code",
   "execution_count": null,
   "metadata": {},
   "outputs": [],
   "source": []
  }
 ],
 "metadata": {
  "kernelspec": {
   "display_name": "R",
   "language": "R",
   "name": "ir"
  },
  "language_info": {
   "codemirror_mode": "r",
   "file_extension": ".r",
   "mimetype": "text/x-r-source",
   "name": "R",
   "pygments_lexer": "r",
   "version": "3.5.1"
  }
 },
 "nbformat": 4,
 "nbformat_minor": 2
}
