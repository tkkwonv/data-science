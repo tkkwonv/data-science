{
 "cells": [
  {
   "cell_type": "code",
   "execution_count": 17,
   "metadata": {},
   "outputs": [],
   "source": [
    "car.df <- read.csv(\"ToyotaCorolla.csv\")"
   ]
  },
  {
   "cell_type": "code",
   "execution_count": 18,
   "metadata": {},
   "outputs": [
    {
     "data": {
      "text/html": [
       "<table>\n",
       "<caption>A data.frame: 6 × 10</caption>\n",
       "<thead>\n",
       "\t<tr><th scope=col>Price</th><th scope=col>Age</th><th scope=col>KM</th><th scope=col>FuelType</th><th scope=col>HP</th><th scope=col>MetColor</th><th scope=col>Automatic</th><th scope=col>CC</th><th scope=col>Doors</th><th scope=col>Weight</th></tr>\n",
       "\t<tr><th scope=col>&lt;int&gt;</th><th scope=col>&lt;int&gt;</th><th scope=col>&lt;int&gt;</th><th scope=col>&lt;fct&gt;</th><th scope=col>&lt;int&gt;</th><th scope=col>&lt;int&gt;</th><th scope=col>&lt;int&gt;</th><th scope=col>&lt;int&gt;</th><th scope=col>&lt;int&gt;</th><th scope=col>&lt;int&gt;</th></tr>\n",
       "</thead>\n",
       "<tbody>\n",
       "\t<tr><td>13500</td><td>23</td><td>46986</td><td>Diesel</td><td>90</td><td>1</td><td>0</td><td>2000</td><td>3</td><td>1165</td></tr>\n",
       "\t<tr><td>13750</td><td>23</td><td>72937</td><td>Diesel</td><td>90</td><td>1</td><td>0</td><td>2000</td><td>3</td><td>1165</td></tr>\n",
       "\t<tr><td>13950</td><td>24</td><td>41711</td><td>Diesel</td><td>90</td><td>1</td><td>0</td><td>2000</td><td>3</td><td>1165</td></tr>\n",
       "\t<tr><td>14950</td><td>26</td><td>48000</td><td>Diesel</td><td>90</td><td>0</td><td>0</td><td>2000</td><td>3</td><td>1165</td></tr>\n",
       "\t<tr><td>13750</td><td>30</td><td>38500</td><td>Diesel</td><td>90</td><td>0</td><td>0</td><td>2000</td><td>3</td><td>1170</td></tr>\n",
       "\t<tr><td>12950</td><td>32</td><td>61000</td><td>Diesel</td><td>90</td><td>0</td><td>0</td><td>2000</td><td>3</td><td>1170</td></tr>\n",
       "</tbody>\n",
       "</table>\n"
      ],
      "text/latex": [
       "A data.frame: 6 × 10\n",
       "\\begin{tabular}{r|llllllllll}\n",
       " Price & Age & KM & FuelType & HP & MetColor & Automatic & CC & Doors & Weight\\\\\n",
       " <int> & <int> & <int> & <fct> & <int> & <int> & <int> & <int> & <int> & <int>\\\\\n",
       "\\hline\n",
       "\t 13500 & 23 & 46986 & Diesel & 90 & 1 & 0 & 2000 & 3 & 1165\\\\\n",
       "\t 13750 & 23 & 72937 & Diesel & 90 & 1 & 0 & 2000 & 3 & 1165\\\\\n",
       "\t 13950 & 24 & 41711 & Diesel & 90 & 1 & 0 & 2000 & 3 & 1165\\\\\n",
       "\t 14950 & 26 & 48000 & Diesel & 90 & 0 & 0 & 2000 & 3 & 1165\\\\\n",
       "\t 13750 & 30 & 38500 & Diesel & 90 & 0 & 0 & 2000 & 3 & 1170\\\\\n",
       "\t 12950 & 32 & 61000 & Diesel & 90 & 0 & 0 & 2000 & 3 & 1170\\\\\n",
       "\\end{tabular}\n"
      ],
      "text/markdown": [
       "\n",
       "A data.frame: 6 × 10\n",
       "\n",
       "| Price &lt;int&gt; | Age &lt;int&gt; | KM &lt;int&gt; | FuelType &lt;fct&gt; | HP &lt;int&gt; | MetColor &lt;int&gt; | Automatic &lt;int&gt; | CC &lt;int&gt; | Doors &lt;int&gt; | Weight &lt;int&gt; |\n",
       "|---|---|---|---|---|---|---|---|---|---|\n",
       "| 13500 | 23 | 46986 | Diesel | 90 | 1 | 0 | 2000 | 3 | 1165 |\n",
       "| 13750 | 23 | 72937 | Diesel | 90 | 1 | 0 | 2000 | 3 | 1165 |\n",
       "| 13950 | 24 | 41711 | Diesel | 90 | 1 | 0 | 2000 | 3 | 1165 |\n",
       "| 14950 | 26 | 48000 | Diesel | 90 | 0 | 0 | 2000 | 3 | 1165 |\n",
       "| 13750 | 30 | 38500 | Diesel | 90 | 0 | 0 | 2000 | 3 | 1170 |\n",
       "| 12950 | 32 | 61000 | Diesel | 90 | 0 | 0 | 2000 | 3 | 1170 |\n",
       "\n"
      ],
      "text/plain": [
       "  Price Age KM    FuelType HP MetColor Automatic CC   Doors Weight\n",
       "1 13500 23  46986 Diesel   90 1        0         2000 3     1165  \n",
       "2 13750 23  72937 Diesel   90 1        0         2000 3     1165  \n",
       "3 13950 24  41711 Diesel   90 1        0         2000 3     1165  \n",
       "4 14950 26  48000 Diesel   90 0        0         2000 3     1165  \n",
       "5 13750 30  38500 Diesel   90 0        0         2000 3     1170  \n",
       "6 12950 32  61000 Diesel   90 0        0         2000 3     1170  "
      ]
     },
     "metadata": {},
     "output_type": "display_data"
    }
   ],
   "source": [
    "head(car.df)"
   ]
  },
  {
   "cell_type": "code",
   "execution_count": 19,
   "metadata": {},
   "outputs": [
    {
     "name": "stdout",
     "output_type": "stream",
     "text": [
      "'data.frame':\t1436 obs. of  10 variables:\n",
      " $ Price    : int  13500 13750 13950 14950 13750 12950 16900 18600 21500 12950 ...\n",
      " $ Age      : int  23 23 24 26 30 32 27 30 27 23 ...\n",
      " $ KM       : int  46986 72937 41711 48000 38500 61000 94612 75889 19700 71138 ...\n",
      " $ FuelType : Factor w/ 3 levels \"CNG\",\"Diesel\",..: 2 2 2 2 2 2 2 2 3 2 ...\n",
      " $ HP       : int  90 90 90 90 90 90 90 90 192 69 ...\n",
      " $ MetColor : int  1 1 1 0 0 0 1 1 0 0 ...\n",
      " $ Automatic: int  0 0 0 0 0 0 0 0 0 0 ...\n",
      " $ CC       : int  2000 2000 2000 2000 2000 2000 2000 2000 1800 1900 ...\n",
      " $ Doors    : int  3 3 3 3 3 3 3 3 3 3 ...\n",
      " $ Weight   : int  1165 1165 1165 1165 1170 1170 1245 1245 1185 1105 ...\n"
     ]
    }
   ],
   "source": [
    "str(car.df)"
   ]
  },
  {
   "cell_type": "code",
   "execution_count": 20,
   "metadata": {},
   "outputs": [],
   "source": [
    "# use first 1000 rows of data\n",
    "car.df <- car.df[1:1000, ]"
   ]
  },
  {
   "cell_type": "code",
   "execution_count": 40,
   "metadata": {},
   "outputs": [],
   "source": [
    "# select variables for regression\n",
    "selected.var <- c(3, 4, 7, 8, 9, 10)"
   ]
  },
  {
   "cell_type": "code",
   "execution_count": 41,
   "metadata": {},
   "outputs": [],
   "source": [
    "# partition data\n",
    "set.seed(1) # set seed for reproducing the partition"
   ]
  },
  {
   "cell_type": "code",
   "execution_count": 42,
   "metadata": {},
   "outputs": [],
   "source": [
    "train.index <- sample(c(1:1000), 600)"
   ]
  },
  {
   "cell_type": "code",
   "execution_count": 43,
   "metadata": {},
   "outputs": [
    {
     "name": "stdout",
     "output_type": "stream",
     "text": [
      " int [1:600] 266 372 572 906 201 894 940 657 625 62 ...\n"
     ]
    }
   ],
   "source": [
    "str(train.index)"
   ]
  },
  {
   "cell_type": "code",
   "execution_count": 44,
   "metadata": {},
   "outputs": [],
   "source": [
    "train.df <- car.df[train.index, selected.var]"
   ]
  },
  {
   "cell_type": "code",
   "execution_count": 46,
   "metadata": {},
   "outputs": [
    {
     "data": {
      "text/html": [
       "<ol class=list-inline>\n",
       "\t<li>600</li>\n",
       "\t<li>6</li>\n",
       "</ol>\n"
      ],
      "text/latex": [
       "\\begin{enumerate*}\n",
       "\\item 600\n",
       "\\item 6\n",
       "\\end{enumerate*}\n"
      ],
      "text/markdown": [
       "1. 600\n",
       "2. 6\n",
       "\n",
       "\n"
      ],
      "text/plain": [
       "[1] 600   6"
      ]
     },
     "metadata": {},
     "output_type": "display_data"
    }
   ],
   "source": [
    "dim(train.df)"
   ]
  },
  {
   "cell_type": "code",
   "execution_count": 38,
   "metadata": {},
   "outputs": [
    {
     "data": {
      "text/html": [
       "<ol class=list-inline>\n",
       "\t<li>1000</li>\n",
       "\t<li>10</li>\n",
       "</ol>\n"
      ],
      "text/latex": [
       "\\begin{enumerate*}\n",
       "\\item 1000\n",
       "\\item 10\n",
       "\\end{enumerate*}\n"
      ],
      "text/markdown": [
       "1. 1000\n",
       "2. 10\n",
       "\n",
       "\n"
      ],
      "text/plain": [
       "[1] 1000   10"
      ]
     },
     "metadata": {},
     "output_type": "display_data"
    }
   ],
   "source": [
    "dim(car.df)"
   ]
  },
  {
   "cell_type": "code",
   "execution_count": null,
   "metadata": {},
   "outputs": [],
   "source": []
  }
 ],
 "metadata": {
  "kernelspec": {
   "display_name": "R",
   "language": "R",
   "name": "ir"
  },
  "language_info": {
   "codemirror_mode": "r",
   "file_extension": ".r",
   "mimetype": "text/x-r-source",
   "name": "R",
   "pygments_lexer": "r",
   "version": "3.5.1"
  }
 },
 "nbformat": 4,
 "nbformat_minor": 2
}
