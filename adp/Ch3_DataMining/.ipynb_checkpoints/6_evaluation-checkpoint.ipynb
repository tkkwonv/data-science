{
 "cells": [
  {
   "cell_type": "markdown",
   "metadata": {},
   "source": [
    "# 모형 평가\n",
    "분류 분석 모형의 평가는 예측 및 분류를 위해 구축된 모형이 임의의 모형보다 더 우수한 분류 성과를 보이는지와 고려된 서로 다른 모형들 중 어느것이 가장 우수한 예측 및 분류 성과를 보유하고 있는지 등을 비교 분석하는 과정이다."
   ]
  },
  {
   "cell_type": "markdown",
   "metadata": {},
   "source": [
    "## 모형평가 기준\n",
    "\n",
    "### 일반화의 가능성\n",
    "같은 모집단 내의 다른 데이터에 적용하는 경우에도 안정적인 결과를 제공하는 것을 의미하며 데이터를 확장하며 데이터를 확장하여 적용할 수 있는지에 대한 평가 기준이다.\n",
    "\n",
    "### 효율성\n",
    "분류 분석 모형이 얼마나 효과적으로 구축되었는지 평가하게 되며 적은 입력변수를 필요로 할수록 효율성이 높다고 할 수 있다.\n",
    "\n",
    "### 예측과 분류의 정확성\n",
    "구축된 모형의 정확성 측면에서 평가하는 것으로 안정적이고 효율적인 모형을 구축하였다 하더라도 실제 문제에 적용했을 때 정확하지 못한 결과만을 양산한다면 그 모형은 의미를 가질 수 없다."
   ]
  },
  {
   "cell_type": "markdown",
   "metadata": {},
   "source": [
    "## 검증용 자료 추출\n",
    "분류 분석 모형의 평가를 위해서 먼저 전체 자료에서 모형 구축을 위한 훈련용 자료와 모형의 성과를 검증하기 위한 검증용 자료를 추출한다.\n",
    "\n",
    "### 홀드아웃 방법(Holdout method)\n",
    "일반적으로 전체 데이터 중 70%의 데이터는 훈련용 자료로 사용하고 나머지는 검증용 자료로 사용한다.\n",
    "\n",
    "### 교차검증(cross-validation)\n",
    "주어진 데이터를 가지고 반복적으로 성과를 측정하여 그 결과를 평균한 것으로 분류 분석 모형을 평가하는 방법이다.\n",
    "\n",
    "### 붓스트랩(bootstrap)\n",
    "평가를 반복하는 측면에서 교차검증과 유사하나 훈련용 자료를 반복 재선정한다는 점에서 차이가 있다."
   ]
  },
  {
   "cell_type": "markdown",
   "metadata": {},
   "source": [
    "# 오분류표(Confusion matrix)\n",
    "대부분의 분류 분석 모형의 예측 결과는 분류 범주로 나타남에 따라 분류 분석 모형의 평가에는 Confusion matrix가 일반적으로 사용된다."
   ]
  },
  {
   "cell_type": "markdown",
   "metadata": {},
   "source": [
    "## 정분류율(accuracy, recognition rate)\n",
    "전체 관측치중 실제값과 예측치가 일치한 정도를 나타낸다.\n",
    "\n",
    "accuracy = (TP+TN)/(P+N)\n",
    "\n",
    "## 민감도(sensitivity) \n",
    "실제값이 True인 관측치 중 예측치가 적중한 정도를 나타낸다.\n",
    "\n",
    "sensitivity = TP/P\n",
    "\n",
    "## 특이도(specificity)\n",
    "실제값이 False인 관측치 중 예측치가 적중한 정도를 나타낸다.\n",
    "\n",
    "specificity = TN/N\n",
    "\n",
    "## 정확도(precision)\n",
    "True로 예측한 관측치 중 실제값이 True인 정도를 나타내는 정확성(exactness) 지표이다.\n",
    "\n",
    "Precision = TP/(TP+FP)\n",
    "\n",
    "## 재현율(recall)\n",
    "실제값이 True인 관측치 중 예측치가 적중한 정도를 나타내는 민감도와 동일한 지표로 모형의 완전성(completeness)을 평가하는 지표이다.\n",
    "\n",
    "Recall = TP/(TP+FN) = TP/P\n",
    "\n",
    "## F1지표(F1 score)\n",
    "정확도와 재현율은 모형의 평가에 대표적으로 사용되는 지표이긴 하지만 한 지표의 값이 높아지면 다른 지표의 값이 낮아질 가능성이 높은 관계를 지니고 있다. 예를 들어 암환자의 분류 분석 모형에서 대부분의 사람을 암환자로 예측하였다고 가정하면 높은 정확도를 가지게 되지만 재편율은 현저히 낮은 값을 보이게 된다. 따라서 이러한 효과를 보정하여 하나의 지표로 나타낸 것이 F1지표(F1 score)이다.\n",
    "\n",
    "F1 = 1*Precision*Recall/(Precision+Recall)\n",
    "\n",
    "F1지표는 정확도와 재현율의 조화평균을 나타내며 정확도와 재현율에 같은 가중치를 부여하여 평균하게 된다."
   ]
  },
  {
   "cell_type": "markdown",
   "metadata": {},
   "source": [
    "## [예제]\n",
    "iris 자료에 대해 범주가 2개인 분류 모형을 구축하기 위해 iris 자료의 일부분만 이용하기로 한다.  \n",
    "Species가 setosa와 versicolor인 100개의 자료만을 이용하여 70%의 훈련용 자료를 추출한다."
   ]
  },
  {
   "cell_type": "code",
   "execution_count": 23,
   "metadata": {},
   "outputs": [
    {
     "data": {
      "text/html": [
       "70"
      ],
      "text/latex": [
       "70"
      ],
      "text/markdown": [
       "70"
      ],
      "text/plain": [
       "[1] 70"
      ]
     },
     "metadata": {},
     "output_type": "display_data"
    }
   ],
   "source": [
    "iris <- subset(iris, Species == \"setosa\" | Species == \"versicolor\")\n",
    "iris$Species <- factor(iris$Species)\n",
    "set.seed(1234)\n",
    "iris <- iris[sample(nrow(iris)),] #Randomly shuffle the data\n",
    "trainData <- iris[1:(nrow(iris)*0.7),]\n",
    "testData <- iris[((nrow(iris)*0.7)+1):nrow(iris),]\n",
    "nrow(trainData)"
   ]
  },
  {
   "cell_type": "markdown",
   "metadata": {},
   "source": [
    "훈련용 자료를 사용하여 각 모형을 학습한다.  \n",
    "신경망 모형은 R패키지{nnet}의 nnet() 함수를 이용하며 의사결정나무 모형은 {rpart}의 rpart() 함수를 이용하여 모형을 학습한다."
   ]
  },
  {
   "cell_type": "code",
   "execution_count": 24,
   "metadata": {},
   "outputs": [
    {
     "name": "stdout",
     "output_type": "stream",
     "text": [
      "# weights:  13\n",
      "initial  value 48.595561 \n",
      "iter  10 value 3.452562\n",
      "iter  20 value 1.844546\n",
      "iter  30 value 0.370742\n",
      "iter  40 value 0.308649\n",
      "iter  50 value 0.207881\n",
      "iter  60 value 0.188132\n",
      "iter  70 value 0.185151\n",
      "iter  80 value 0.180655\n",
      "iter  90 value 0.178071\n",
      "iter 100 value 0.177566\n",
      "iter 110 value 0.174469\n",
      "iter 120 value 0.144074\n",
      "iter 130 value 0.128616\n",
      "iter 140 value 0.115327\n",
      "iter 150 value 0.111269\n",
      "iter 160 value 0.106597\n",
      "iter 170 value 0.103916\n",
      "iter 180 value 0.103372\n",
      "iter 190 value 0.103151\n",
      "iter 200 value 0.103034\n",
      "final  value 0.103034 \n",
      "stopped after 200 iterations\n"
     ]
    }
   ],
   "source": [
    "library(nnet)\n",
    "library(rpart)\n",
    "nn.iris <- nnet(Species~., data=trainData, size=2, rang=0.1, decay=5e-4, maxit=200) # Neural network"
   ]
  },
  {
   "cell_type": "code",
   "execution_count": 25,
   "metadata": {},
   "outputs": [],
   "source": [
    "dt.iris <- rpart(Species~., data=trainData) # Decision tree"
   ]
  },
  {
   "cell_type": "markdown",
   "metadata": {},
   "source": [
    "다음은 학습된 각 분류 분석 모형을 검증용 자료에 적용시켜 예측값을 도출한다.  \n",
    "이를 위하여 predict() 함수를 사용한다."
   ]
  },
  {
   "cell_type": "code",
   "execution_count": 26,
   "metadata": {},
   "outputs": [],
   "source": [
    "nn_pred <- predict(nn.iris, testData, type=\"class\")\n",
    "dt_pred <- predict(dt.iris, testData, type=\"class\")"
   ]
  },
  {
   "cell_type": "markdown",
   "metadata": {},
   "source": [
    "각 모형의 오분류표를 도출하기 위하여 R 패키지 {caret}의 confusionMatrix() 함수를 이용한다.   \n",
    "R 패키지 {e1071} 설치 필요"
   ]
  },
  {
   "cell_type": "code",
   "execution_count": 27,
   "metadata": {},
   "outputs": [],
   "source": [
    "library(caret)\n",
    "library(lattice)\n",
    "library(ggplot2)"
   ]
  },
  {
   "cell_type": "code",
   "execution_count": 37,
   "metadata": {
    "scrolled": true
   },
   "outputs": [
    {
     "name": "stdout",
     "output_type": "stream",
     "text": [
      " Factor w/ 2 levels \"setosa\",\"versicolor\": 1 1 2 1 2 2 1 1 2 1 ...\n"
     ]
    }
   ],
   "source": [
    "str(testData$Species)"
   ]
  },
  {
   "cell_type": "code",
   "execution_count": 39,
   "metadata": {},
   "outputs": [
    {
     "data": {
      "text/html": [
       "<ol class=list-inline>\n",
       "\t<li>setosa</li>\n",
       "\t<li>setosa</li>\n",
       "\t<li>versicolor</li>\n",
       "\t<li>setosa</li>\n",
       "\t<li>versicolor</li>\n",
       "\t<li>versicolor</li>\n",
       "</ol>\n",
       "\n",
       "<details>\n",
       "\t<summary style=display:list-item;cursor:pointer>\n",
       "\t\t<strong>Levels</strong>:\n",
       "\t</summary>\n",
       "\t<ol class=list-inline>\n",
       "\t\t<li>'setosa'</li>\n",
       "\t\t<li>'versicolor'</li>\n",
       "\t</ol>\n",
       "</details>"
      ],
      "text/latex": [
       "\\begin{enumerate*}\n",
       "\\item setosa\n",
       "\\item setosa\n",
       "\\item versicolor\n",
       "\\item setosa\n",
       "\\item versicolor\n",
       "\\item versicolor\n",
       "\\end{enumerate*}\n",
       "\n",
       "\\emph{Levels}: \\begin{enumerate*}\n",
       "\\item 'setosa'\n",
       "\\item 'versicolor'\n",
       "\\end{enumerate*}\n"
      ],
      "text/markdown": [
       "1. setosa\n",
       "2. setosa\n",
       "3. versicolor\n",
       "4. setosa\n",
       "5. versicolor\n",
       "6. versicolor\n",
       "\n",
       "\n",
       "\n",
       "**Levels**: 1. 'setosa'\n",
       "2. 'versicolor'\n",
       "\n",
       "\n"
      ],
      "text/plain": [
       "[1] setosa     setosa     versicolor setosa     versicolor versicolor\n",
       "Levels: setosa versicolor"
      ]
     },
     "metadata": {},
     "output_type": "display_data"
    }
   ],
   "source": [
    "nn_pred = as.factor(nn_pred)"
   ]
  },
  {
   "cell_type": "code",
   "execution_count": 43,
   "metadata": {},
   "outputs": [
    {
     "data": {
      "text/plain": [
       "            Reference\n",
       "Prediction   setosa versicolor\n",
       "  setosa         13          0\n",
       "  versicolor      0         17"
      ]
     },
     "metadata": {},
     "output_type": "display_data"
    }
   ],
   "source": [
    "nn_con=confusionMatrix(nn_pred, testData$Species)\n",
    "dt_con=confusionMatrix(dt_pred, testData$Species)\n",
    "nn_con$table"
   ]
  },
  {
   "cell_type": "markdown",
   "metadata": {},
   "source": [
    "오분류표를 이용하여 대표적인 지표인 정분류율(accuracy), 정확도(precision), 재현율(recall), F1지표를 계산하고 비교한 결과 신경망 모형이 모든 지표에서 의사결정 모형보다 더 높은 예측 정확도를 보인다."
   ]
  },
  {
   "cell_type": "code",
   "execution_count": 44,
   "metadata": {},
   "outputs": [
    {
     "data": {
      "text/html": [
       "<table>\n",
       "<caption>A data.frame: 4 × 2</caption>\n",
       "<thead>\n",
       "\t<tr><th></th><th scope=col>Nural Network</th><th scope=col>Decision Tree</th></tr>\n",
       "\t<tr><th></th><th scope=col>&lt;dbl&gt;</th><th scope=col>&lt;dbl&gt;</th></tr>\n",
       "</thead>\n",
       "<tbody>\n",
       "\t<tr><th scope=row>accuracy</th><td>1</td><td>1</td></tr>\n",
       "\t<tr><th scope=row>precision</th><td>1</td><td>1</td></tr>\n",
       "\t<tr><th scope=row>recall</th><td>1</td><td>1</td></tr>\n",
       "\t<tr><th scope=row>f1</th><td>1</td><td>1</td></tr>\n",
       "</tbody>\n",
       "</table>\n"
      ],
      "text/latex": [
       "A data.frame: 4 × 2\n",
       "\\begin{tabular}{r|ll}\n",
       "  & Nural Network & Decision Tree\\\\\n",
       "  & <dbl> & <dbl>\\\\\n",
       "\\hline\n",
       "\taccuracy & 1 & 1\\\\\n",
       "\tprecision & 1 & 1\\\\\n",
       "\trecall & 1 & 1\\\\\n",
       "\tf1 & 1 & 1\\\\\n",
       "\\end{tabular}\n"
      ],
      "text/markdown": [
       "\n",
       "A data.frame: 4 × 2\n",
       "\n",
       "| <!--/--> | Nural Network &lt;dbl&gt; | Decision Tree &lt;dbl&gt; |\n",
       "|---|---|---|\n",
       "| accuracy | 1 | 1 |\n",
       "| precision | 1 | 1 |\n",
       "| recall | 1 | 1 |\n",
       "| f1 | 1 | 1 |\n",
       "\n"
      ],
      "text/plain": [
       "          Nural Network Decision Tree\n",
       "accuracy  1             1            \n",
       "precision 1             1            \n",
       "recall    1             1            \n",
       "f1        1             1            "
      ]
     },
     "metadata": {},
     "output_type": "display_data"
    }
   ],
   "source": [
    "accuracy <- c(nn_con$overall['Accuracy'], dt_con$overall['Accuracy'])\n",
    "precision <- c(nn_con$byClass['Pos Pred Value'], dt_con$byClass['Pos Pred Value'])\n",
    "recall <- c(nn_con$byClass['Sensitivity'], dt_con$byClass['Sensitivity'])\n",
    "f1 <- 2 * ((precision * recall) / (precision + recall))\n",
    "result <- data.frame(rbind(accuracy, precision, recall, f1))\n",
    "names(result) <- c(\"Nural Network\", \"Decision Tree\")\n",
    "result"
   ]
  },
  {
   "cell_type": "markdown",
   "metadata": {},
   "source": [
    "## ROC 그래프\n",
    "레이더 이미지 분석의 성과를 측정하기 위해 개발된 ROC(Receiver Operating Characteristic) 그래프는 두 분류 분석 모형을 비교 분석 결과를 가시화할 수 있다는 점에서 유용한 평가 도구이다.  \n",
    "ROC 그래프의 x축에는 FP Ratio(1-특이도)를 나타내며 y축에는 민감도를 나타내 이 두 평가 값의 관계로 모형을 평가한다.  \n",
    "모형의 성과를 평가하는 기준은 ROC 그래프의 밑부분 면적(Area Under the ROC Curve, AUC)이 넓을수록 좋은 모형으로 평가한다."
   ]
  },
  {
   "cell_type": "markdown",
   "metadata": {},
   "source": [
    "![ROC그래프](http://postfiles3.naver.net/20160115_50/biostat_yu_14528174890937ska9_PNG/3.PNG?type=w580)"
   ]
  },
  {
   "cell_type": "markdown",
   "metadata": {},
   "source": [
    "## [예제] - ROC\n",
    "infert 자료에 대한 분류 분석 모형 평가 비교를 위하여 의사결정나무 모형의 R패키지 [C50]의 C5.0() 함수를 사용하고 신경망 모형은 {neuralnet}의 neuralnet()함수를 사용한다. 모형 학습 및 검증을 위하여 70%의 훈련용 자료와 30%의 검증용 자료로 구분한다."
   ]
  },
  {
   "cell_type": "code",
   "execution_count": 14,
   "metadata": {},
   "outputs": [],
   "source": [
    "set.seed(1234)\n",
    "infert <- infert[sample(nrow(infert)),] #Randomly shuffle the data\n",
    "infert <- infert[,c(\"age\",\"parity\",\"induced\",\"spontaneous\",\"case\")]\n",
    "trainData <- infert[1:(nrow(infert)*0.7), ]\n",
    "testData <- infert[((nrow(infert)*0.7)+1):nrow(infert), ]"
   ]
  },
  {
   "cell_type": "markdown",
   "metadata": {},
   "source": [
    "각 모형을 학습하고 학습된 모형을 검증용 자료에 적용시켜 예측값을 도출시킨 뒤 ROC 그래프 작성을 위해 각 예측 결과를 검증용 자료에 함께 저장한다."
   ]
  },
  {
   "cell_type": "code",
   "execution_count": 16,
   "metadata": {},
   "outputs": [
    {
     "data": {
      "text/html": [
       "<table>\n",
       "<caption>A data.frame: 6 × 6</caption>\n",
       "<thead>\n",
       "\t<tr><th></th><th scope=col>age</th><th scope=col>parity</th><th scope=col>induced</th><th scope=col>spontaneous</th><th scope=col>case</th><th scope=col>net_pred</th></tr>\n",
       "\t<tr><th></th><th scope=col>&lt;dbl&gt;</th><th scope=col>&lt;dbl&gt;</th><th scope=col>&lt;dbl&gt;</th><th scope=col>&lt;dbl&gt;</th><th scope=col>&lt;dbl&gt;</th><th scope=col>&lt;dbl[,1]&gt;</th></tr>\n",
       "</thead>\n",
       "<tbody>\n",
       "\t<tr><th scope=row>86</th><td>39</td><td>6</td><td>2</td><td>0</td><td>0</td><td>0.1175629</td></tr>\n",
       "\t<tr><th scope=row>26</th><td>40</td><td>2</td><td>0</td><td>2</td><td>1</td><td>0.9164605</td></tr>\n",
       "\t<tr><th scope=row>79</th><td>31</td><td>1</td><td>0</td><td>1</td><td>1</td><td>0.6781952</td></tr>\n",
       "\t<tr><th scope=row>235</th><td>25</td><td>1</td><td>1</td><td>0</td><td>0</td><td>0.1579072</td></tr>\n",
       "\t<tr><th scope=row>129</th><td>37</td><td>1</td><td>0</td><td>0</td><td>0</td><td>0.1189380</td></tr>\n",
       "\t<tr><th scope=row>153</th><td>25</td><td>1</td><td>0</td><td>0</td><td>0</td><td>0.1139197</td></tr>\n",
       "</tbody>\n",
       "</table>\n"
      ],
      "text/latex": [
       "A data.frame: 6 × 6\n",
       "\\begin{tabular}{r|llllll}\n",
       "  & age & parity & induced & spontaneous & case & net\\_pred\\\\\n",
       "  & <dbl> & <dbl> & <dbl> & <dbl> & <dbl> & <dbl{[},1{]}>\\\\\n",
       "\\hline\n",
       "\t86 & 39 & 6 & 2 & 0 & 0 & 0.1175629\\\\\n",
       "\t26 & 40 & 2 & 0 & 2 & 1 & 0.9164605\\\\\n",
       "\t79 & 31 & 1 & 0 & 1 & 1 & 0.6781952\\\\\n",
       "\t235 & 25 & 1 & 1 & 0 & 0 & 0.1579072\\\\\n",
       "\t129 & 37 & 1 & 0 & 0 & 0 & 0.1189380\\\\\n",
       "\t153 & 25 & 1 & 0 & 0 & 0 & 0.1139197\\\\\n",
       "\\end{tabular}\n"
      ],
      "text/markdown": [
       "\n",
       "A data.frame: 6 × 6\n",
       "\n",
       "| <!--/--> | age &lt;dbl&gt; | parity &lt;dbl&gt; | induced &lt;dbl&gt; | spontaneous &lt;dbl&gt; | case &lt;dbl&gt; | net_pred &lt;dbl[,1]&gt; |\n",
       "|---|---|---|---|---|---|---|\n",
       "| 86 | 39 | 6 | 2 | 0 | 0 | 0.1175629 |\n",
       "| 26 | 40 | 2 | 0 | 2 | 1 | 0.9164605 |\n",
       "| 79 | 31 | 1 | 0 | 1 | 1 | 0.6781952 |\n",
       "| 235 | 25 | 1 | 1 | 0 | 0 | 0.1579072 |\n",
       "| 129 | 37 | 1 | 0 | 0 | 0 | 0.1189380 |\n",
       "| 153 | 25 | 1 | 0 | 0 | 0 | 0.1139197 |\n",
       "\n"
      ],
      "text/plain": [
       "    age parity induced spontaneous case net_pred \n",
       "86  39  6      2       0           0    0.1175629\n",
       "26  40  2      0       2           1    0.9164605\n",
       "79  31  1      0       1           1    0.6781952\n",
       "235 25  1      1       0           0    0.1579072\n",
       "129 37  1      0       0           0    0.1189380\n",
       "153 25  1      0       0           0    0.1139197"
      ]
     },
     "metadata": {},
     "output_type": "display_data"
    }
   ],
   "source": [
    "library(neuralnet) #neural network\n",
    "net.infert <- neuralnet(case~age+parity+induced+spontaneous, data=trainData, hidden=3, \n",
    "                        err.fct=\"ce\", linear.output=FALSE, likelihood=TRUE)\n",
    "n_test <- subset(testData, select=-case)\n",
    "nn_pred <- compute(net.infert, n_test)\n",
    "testData$net_pred <- nn_pred$net.result\n",
    "head(testData)"
   ]
  },
  {
   "cell_type": "code",
   "execution_count": 19,
   "metadata": {},
   "outputs": [
    {
     "data": {
      "text/html": [
       "<table>\n",
       "<caption>A data.frame: 6 × 7</caption>\n",
       "<thead>\n",
       "\t<tr><th></th><th scope=col>age</th><th scope=col>parity</th><th scope=col>induced</th><th scope=col>spontaneous</th><th scope=col>case</th><th scope=col>net_pred</th><th scope=col>dt_pred</th></tr>\n",
       "\t<tr><th></th><th scope=col>&lt;dbl&gt;</th><th scope=col>&lt;dbl&gt;</th><th scope=col>&lt;dbl&gt;</th><th scope=col>&lt;dbl&gt;</th><th scope=col>&lt;dbl&gt;</th><th scope=col>&lt;dbl[,1]&gt;</th><th scope=col>&lt;dbl&gt;</th></tr>\n",
       "</thead>\n",
       "<tbody>\n",
       "\t<tr><th scope=row>86</th><td>39</td><td>6</td><td>2</td><td>0</td><td>0</td><td>0.1175629</td><td>0.1971806</td></tr>\n",
       "\t<tr><th scope=row>26</th><td>40</td><td>2</td><td>0</td><td>2</td><td>1</td><td>0.9164605</td><td>0.6801542</td></tr>\n",
       "\t<tr><th scope=row>79</th><td>31</td><td>1</td><td>0</td><td>1</td><td>1</td><td>0.6781952</td><td>0.6056227</td></tr>\n",
       "\t<tr><th scope=row>235</th><td>25</td><td>1</td><td>1</td><td>0</td><td>0</td><td>0.1579072</td><td>0.1971806</td></tr>\n",
       "\t<tr><th scope=row>129</th><td>37</td><td>1</td><td>0</td><td>0</td><td>0</td><td>0.1189380</td><td>0.1971806</td></tr>\n",
       "\t<tr><th scope=row>153</th><td>25</td><td>1</td><td>0</td><td>0</td><td>0</td><td>0.1139197</td><td>0.1971806</td></tr>\n",
       "</tbody>\n",
       "</table>\n"
      ],
      "text/latex": [
       "A data.frame: 6 × 7\n",
       "\\begin{tabular}{r|lllllll}\n",
       "  & age & parity & induced & spontaneous & case & net\\_pred & dt\\_pred\\\\\n",
       "  & <dbl> & <dbl> & <dbl> & <dbl> & <dbl> & <dbl{[},1{]}> & <dbl>\\\\\n",
       "\\hline\n",
       "\t86 & 39 & 6 & 2 & 0 & 0 & 0.1175629 & 0.1971806\\\\\n",
       "\t26 & 40 & 2 & 0 & 2 & 1 & 0.9164605 & 0.6801542\\\\\n",
       "\t79 & 31 & 1 & 0 & 1 & 1 & 0.6781952 & 0.6056227\\\\\n",
       "\t235 & 25 & 1 & 1 & 0 & 0 & 0.1579072 & 0.1971806\\\\\n",
       "\t129 & 37 & 1 & 0 & 0 & 0 & 0.1189380 & 0.1971806\\\\\n",
       "\t153 & 25 & 1 & 0 & 0 & 0 & 0.1139197 & 0.1971806\\\\\n",
       "\\end{tabular}\n"
      ],
      "text/markdown": [
       "\n",
       "A data.frame: 6 × 7\n",
       "\n",
       "| <!--/--> | age &lt;dbl&gt; | parity &lt;dbl&gt; | induced &lt;dbl&gt; | spontaneous &lt;dbl&gt; | case &lt;dbl&gt; | net_pred &lt;dbl[,1]&gt; | dt_pred &lt;dbl&gt; |\n",
       "|---|---|---|---|---|---|---|---|\n",
       "| 86 | 39 | 6 | 2 | 0 | 0 | 0.1175629 | 0.1971806 |\n",
       "| 26 | 40 | 2 | 0 | 2 | 1 | 0.9164605 | 0.6801542 |\n",
       "| 79 | 31 | 1 | 0 | 1 | 1 | 0.6781952 | 0.6056227 |\n",
       "| 235 | 25 | 1 | 1 | 0 | 0 | 0.1579072 | 0.1971806 |\n",
       "| 129 | 37 | 1 | 0 | 0 | 0 | 0.1189380 | 0.1971806 |\n",
       "| 153 | 25 | 1 | 0 | 0 | 0 | 0.1139197 | 0.1971806 |\n",
       "\n"
      ],
      "text/plain": [
       "    age parity induced spontaneous case net_pred  dt_pred  \n",
       "86  39  6      2       0           0    0.1175629 0.1971806\n",
       "26  40  2      0       2           1    0.9164605 0.6801542\n",
       "79  31  1      0       1           1    0.6781952 0.6056227\n",
       "235 25  1      1       0           0    0.1579072 0.1971806\n",
       "129 37  1      0       0           0    0.1189380 0.1971806\n",
       "153 25  1      0       0           0    0.1139197 0.1971806"
      ]
     },
     "metadata": {},
     "output_type": "display_data"
    }
   ],
   "source": [
    "library(C50) #decision tree\n",
    "trainData$case <- factor(trainData$case)\n",
    "dt.infert <- C5.0(case~age+parity+induced+spontaneous, data=trainData)\n",
    "testData$dt_pred <- predict(dt.infert, testData, type=\"prob\")[,2]\n",
    "head(testData)"
   ]
  }
 ],
 "metadata": {
  "kernelspec": {
   "display_name": "R",
   "language": "R",
   "name": "ir"
  },
  "language_info": {
   "codemirror_mode": "r",
   "file_extension": ".r",
   "mimetype": "text/x-r-source",
   "name": "R",
   "pygments_lexer": "r",
   "version": "3.5.1"
  },
  "toc": {
   "base_numbering": 1,
   "nav_menu": {},
   "number_sections": true,
   "sideBar": true,
   "skip_h1_title": false,
   "title_cell": "Table of Contents",
   "title_sidebar": "Contents",
   "toc_cell": false,
   "toc_position": {},
   "toc_section_display": true,
   "toc_window_display": true
  }
 },
 "nbformat": 4,
 "nbformat_minor": 2
}
