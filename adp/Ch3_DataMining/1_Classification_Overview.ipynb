{
 "cells": [
  {
   "cell_type": "markdown",
   "metadata": {},
   "source": [
    "##### 분류 분석은 반응변수(또는 종속변수)가 알려진 다변량 자료를 이용하여 모형을 구축하고, 이를 통해 새로운 자료에 대한 예측 및 분류를 수행하는 것이 목적이다.\n",
    "\n",
    "##### 반응변수가 범주형인 경우의 예측모형은 새로운 자료에 대한 분류가 주목적이며, 반응변수가 연속형인 경우에는 그 값을 예측하는 것이 주목적이다.\n",
    "\n",
    "* 로지스틱회귀(logistic regression) 모형, 신경망(artificial neural network) 모형, 의사결정나무(decision tree) 모형, 앙상블(ensemble)\n",
    "* 규칙기반(rule-based)분류, 사례기반(case-based)분류, 인접이웃(nearest neighbor)분류모형, 베이즈(bayesian) 분류모형, SVM(support vector machine), 유전자 알고리즘(genetic algorithm)"
   ]
  }
 ],
 "metadata": {
  "kernelspec": {
   "display_name": "R",
   "language": "R",
   "name": "ir"
  },
  "language_info": {
   "codemirror_mode": "r",
   "file_extension": ".r",
   "mimetype": "text/x-r-source",
   "name": "R",
   "pygments_lexer": "r",
   "version": "3.5.1"
  },
  "toc": {
   "base_numbering": 1,
   "nav_menu": {},
   "number_sections": true,
   "sideBar": true,
   "skip_h1_title": false,
   "title_cell": "Table of Contents",
   "title_sidebar": "Contents",
   "toc_cell": false,
   "toc_position": {},
   "toc_section_display": true,
   "toc_window_display": true
  }
 },
 "nbformat": 4,
 "nbformat_minor": 2
}
