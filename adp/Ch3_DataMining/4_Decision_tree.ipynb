{
 "cells": [
  {
   "cell_type": "markdown",
   "metadata": {},
   "source": [
    "# Overview"
   ]
  },
  {
   "cell_type": "markdown",
   "metadata": {},
   "source": [
    "의사결정나무(Decision tree) 또는 tree 모형은 의사결정 규칙을 tree 구조로 나타내어 전체자료를 몇 개의 소집단으로 분류(classification)하거나 예측(prediction)을 수행하는 분석방법이다.  \n",
    "상위 노드에서의 (분류변수, 분류기준값)은 이 기준에 의해 분기되는 하위노드에서 노드(집단) 내에서는 동질성이 노드(집단)간에는 이질성이 가장 커지도록 선택된다."
   ]
  },
  {
   "cell_type": "markdown",
   "metadata": {},
   "source": [
    "목표변수가 이산형인 분류나무의 경우 상위노드에서 가지분할(split)을 수행할 때, 분류(기준)변수와 분류기준값의 선택 방법\n",
    "- 카이제곱 통계량(Chi-square statistic)의 p-값\n",
    "- 지니 지수(Gini index)\n",
    "- 엔트로피 지수(entropy index) 등이 사용된다."
   ]
  },
  {
   "cell_type": "markdown",
   "metadata": {},
   "source": [
    "##### 의사결정나무의 분석과정은 다음과 같다.\n",
    "- 단계1. 목표변수와 관계가 있는 설명변수들의 선택\n",
    "- 단계2. 분석목적과 자료의 구조에 따라 적절한 분리기준과 정지규칙을 정하여 의사결정나무의 생성\n",
    "- 단계3. 부적절한 나뭇가지는 제가: 가지치기(pruning)\n",
    "- 단계4. 이익(gain), 위험(risk), 비용(codst) 등을 고려하여 모형평가\n",
    "- 단계5. 분류(classification) 및 예측(prediction)"
   ]
  },
  {
   "cell_type": "markdown",
   "metadata": {},
   "source": [
    "# [예제1] rpatr() 함수를 이용하여 Decision tree 분석 수행"
   ]
  },
  {
   "cell_type": "code",
   "execution_count": 1,
   "metadata": {},
   "outputs": [
    {
     "data": {
      "text/plain": [
       "n= 150 \n",
       "\n",
       "node), split, n, loss, yval, (yprob)\n",
       "      * denotes terminal node\n",
       "\n",
       "1) root 150 100 setosa (0.33333333 0.33333333 0.33333333)  \n",
       "  2) Petal.Length< 2.45 50   0 setosa (1.00000000 0.00000000 0.00000000) *\n",
       "  3) Petal.Length>=2.45 100  50 versicolor (0.00000000 0.50000000 0.50000000)  \n",
       "    6) Petal.Width< 1.75 54   5 versicolor (0.00000000 0.90740741 0.09259259) *\n",
       "    7) Petal.Width>=1.75 46   1 virginica (0.00000000 0.02173913 0.97826087) *"
      ]
     },
     "metadata": {},
     "output_type": "display_data"
    }
   ],
   "source": [
    "library(rpart)\n",
    "c <- rpart(Species ~., data=iris)\n",
    "c"
   ]
  },
  {
   "cell_type": "code",
   "execution_count": 2,
   "metadata": {},
   "outputs": [
    {
     "data": {
      "image/png": "[encoded data removed]",
      "text/plain": [
       "plot without title"
      ]
     },
     "metadata": {},
     "output_type": "display_data"
    }
   ],
   "source": [
    "plot(c, compress=T, margin=0.3)\n",
    "text(c, cex=1.5)"
   ]
  },
  {
   "cell_type": "markdown",
   "metadata": {},
   "source": [
    "predict() 함수를 이용하여 새로운 자료에 대해 예측을 수행한다.  \n",
    "여기서는 편의상 모형구축에 사용된 자료를 재대입한 결과를 제시한다."
   ]
  },
  {
   "cell_type": "code",
   "execution_count": 4,
   "metadata": {},
   "outputs": [
    {
     "data": {
      "text/html": [
       "<dl class=dl-horizontal>\n",
       "\t<dt>1</dt>\n",
       "\t\t<dd>setosa</dd>\n",
       "\t<dt>2</dt>\n",
       "\t\t<dd>setosa</dd>\n",
       "\t<dt>3</dt>\n",
       "\t\t<dd>setosa</dd>\n",
       "\t<dt>4</dt>\n",
       "\t\t<dd>setosa</dd>\n",
       "\t<dt>5</dt>\n",
       "\t\t<dd>setosa</dd>\n",
       "\t<dt>6</dt>\n",
       "\t\t<dd>setosa</dd>\n",
       "</dl>\n",
       "\n",
       "<details>\n",
       "\t<summary style=display:list-item;cursor:pointer>\n",
       "\t\t<strong>Levels</strong>:\n",
       "\t</summary>\n",
       "\t<ol class=list-inline>\n",
       "\t\t<li>'setosa'</li>\n",
       "\t\t<li>'versicolor'</li>\n",
       "\t\t<li>'virginica'</li>\n",
       "\t</ol>\n",
       "</details>"
      ],
      "text/latex": [
       "\\begin{description*}\n",
       "\\item[1] setosa\n",
       "\\item[2] setosa\n",
       "\\item[3] setosa\n",
       "\\item[4] setosa\n",
       "\\item[5] setosa\n",
       "\\item[6] setosa\n",
       "\\end{description*}\n",
       "\n",
       "\\emph{Levels}: \\begin{enumerate*}\n",
       "\\item 'setosa'\n",
       "\\item 'versicolor'\n",
       "\\item 'virginica'\n",
       "\\end{enumerate*}\n"
      ],
      "text/markdown": [
       "1\n",
       ":   setosa2\n",
       ":   setosa3\n",
       ":   setosa4\n",
       ":   setosa5\n",
       ":   setosa6\n",
       ":   setosa\n",
       "\n",
       "\n",
       "**Levels**: 1. 'setosa'\n",
       "2. 'versicolor'\n",
       "3. 'virginica'\n",
       "\n",
       "\n"
      ],
      "text/plain": [
       "     1      2      3      4      5      6 \n",
       "setosa setosa setosa setosa setosa setosa \n",
       "Levels: setosa versicolor virginica"
      ]
     },
     "metadata": {},
     "output_type": "display_data"
    }
   ],
   "source": [
    "head(predict(c, newdata=iris, type=\"class\"))"
   ]
  },
  {
   "cell_type": "code",
   "execution_count": 5,
   "metadata": {},
   "outputs": [
    {
     "data": {
      "text/html": [
       "<dl class=dl-horizontal>\n",
       "\t<dt>145</dt>\n",
       "\t\t<dd>virginica</dd>\n",
       "\t<dt>146</dt>\n",
       "\t\t<dd>virginica</dd>\n",
       "\t<dt>147</dt>\n",
       "\t\t<dd>virginica</dd>\n",
       "\t<dt>148</dt>\n",
       "\t\t<dd>virginica</dd>\n",
       "\t<dt>149</dt>\n",
       "\t\t<dd>virginica</dd>\n",
       "\t<dt>150</dt>\n",
       "\t\t<dd>virginica</dd>\n",
       "</dl>\n",
       "\n",
       "<details>\n",
       "\t<summary style=display:list-item;cursor:pointer>\n",
       "\t\t<strong>Levels</strong>:\n",
       "\t</summary>\n",
       "\t<ol class=list-inline>\n",
       "\t\t<li>'setosa'</li>\n",
       "\t\t<li>'versicolor'</li>\n",
       "\t\t<li>'virginica'</li>\n",
       "\t</ol>\n",
       "</details>"
      ],
      "text/latex": [
       "\\begin{description*}\n",
       "\\item[145] virginica\n",
       "\\item[146] virginica\n",
       "\\item[147] virginica\n",
       "\\item[148] virginica\n",
       "\\item[149] virginica\n",
       "\\item[150] virginica\n",
       "\\end{description*}\n",
       "\n",
       "\\emph{Levels}: \\begin{enumerate*}\n",
       "\\item 'setosa'\n",
       "\\item 'versicolor'\n",
       "\\item 'virginica'\n",
       "\\end{enumerate*}\n"
      ],
      "text/markdown": [
       "145\n",
       ":   virginica146\n",
       ":   virginica147\n",
       ":   virginica148\n",
       ":   virginica149\n",
       ":   virginica150\n",
       ":   virginica\n",
       "\n",
       "\n",
       "**Levels**: 1. 'setosa'\n",
       "2. 'versicolor'\n",
       "3. 'virginica'\n",
       "\n",
       "\n"
      ],
      "text/plain": [
       "      145       146       147       148       149       150 \n",
       "virginica virginica virginica virginica virginica virginica \n",
       "Levels: setosa versicolor virginica"
      ]
     },
     "metadata": {},
     "output_type": "display_data"
    }
   ],
   "source": [
    "tail(predict(c, newdata=iris, type=\"class\"))"
   ]
  },
  {
   "cell_type": "markdown",
   "metadata": {},
   "source": [
    "R 패키지 [rpart.plot]을 이용하여 적합된 의사결정나무 모형을 여러가지 방식으로 시각화할 수 있다."
   ]
  },
  {
   "cell_type": "code",
   "execution_count": 8,
   "metadata": {},
   "outputs": [
    {
     "data": {
      "image/png": "[encoded data removed]",
      "text/plain": [
       "plot without title"
      ]
     },
     "metadata": {},
     "output_type": "display_data"
    }
   ],
   "source": [
    "library(rpart.plot)\n",
    "prp(c, type=4, extra=2)"
   ]
  },
  {
   "cell_type": "markdown",
   "metadata": {},
   "source": [
    "최종 노드(ternimal node)에 대한 해석은 다음과 같다.  \n",
    "예를 들어, 두 조건(Petal.Length)>=2.4 와 Petal.Width<1.8)을 만족하는 노드에서 49/54는 이 노드에 속하는 개체가 54개이며 이 가운데 versicolor가 49임을 나타낸다."
   ]
  },
  {
   "cell_type": "code",
   "execution_count": 10,
   "metadata": {},
   "outputs": [
    {
     "data": {
      "text/html": [
       "<ol class=list-inline>\n",
       "\t<li>'call'</li>\n",
       "\t<li>'control'</li>\n",
       "\t<li>'cptable'</li>\n",
       "\t<li>'frame'</li>\n",
       "\t<li>'functions'</li>\n",
       "\t<li>'method'</li>\n",
       "\t<li>'numresp'</li>\n",
       "\t<li>'ordered'</li>\n",
       "\t<li>'parms'</li>\n",
       "\t<li>'splits'</li>\n",
       "\t<li>'terms'</li>\n",
       "\t<li>'variable.importance'</li>\n",
       "\t<li>'where'</li>\n",
       "\t<li>'y'</li>\n",
       "</ol>\n"
      ],
      "text/latex": [
       "\\begin{enumerate*}\n",
       "\\item 'call'\n",
       "\\item 'control'\n",
       "\\item 'cptable'\n",
       "\\item 'frame'\n",
       "\\item 'functions'\n",
       "\\item 'method'\n",
       "\\item 'numresp'\n",
       "\\item 'ordered'\n",
       "\\item 'parms'\n",
       "\\item 'splits'\n",
       "\\item 'terms'\n",
       "\\item 'variable.importance'\n",
       "\\item 'where'\n",
       "\\item 'y'\n",
       "\\end{enumerate*}\n"
      ],
      "text/markdown": [
       "1. 'call'\n",
       "2. 'control'\n",
       "3. 'cptable'\n",
       "4. 'frame'\n",
       "5. 'functions'\n",
       "6. 'method'\n",
       "7. 'numresp'\n",
       "8. 'ordered'\n",
       "9. 'parms'\n",
       "10. 'splits'\n",
       "11. 'terms'\n",
       "12. 'variable.importance'\n",
       "13. 'where'\n",
       "14. 'y'\n",
       "\n",
       "\n"
      ],
      "text/plain": [
       " [1] \"call\"                \"control\"             \"cptable\"            \n",
       " [4] \"frame\"               \"functions\"           \"method\"             \n",
       " [7] \"numresp\"             \"ordered\"             \"parms\"              \n",
       "[10] \"splits\"              \"terms\"               \"variable.importance\"\n",
       "[13] \"where\"               \"y\"                  "
      ]
     },
     "metadata": {},
     "output_type": "display_data"
    }
   ],
   "source": [
    "ls(c)"
   ]
  },
  {
   "cell_type": "code",
   "execution_count": 11,
   "metadata": {},
   "outputs": [
    {
     "data": {
      "text/html": [
       "<table>\n",
       "<caption>A matrix: 3 × 5 of type dbl</caption>\n",
       "<thead>\n",
       "\t<tr><th scope=col>CP</th><th scope=col>nsplit</th><th scope=col>rel error</th><th scope=col>xerror</th><th scope=col>xstd</th></tr>\n",
       "</thead>\n",
       "<tbody>\n",
       "\t<tr><td>0.50</td><td>0</td><td>1.00</td><td>1.15</td><td>0.05180090</td></tr>\n",
       "\t<tr><td>0.44</td><td>1</td><td>0.50</td><td>0.57</td><td>0.05944746</td></tr>\n",
       "\t<tr><td>0.01</td><td>2</td><td>0.06</td><td>0.11</td><td>0.03192700</td></tr>\n",
       "</tbody>\n",
       "</table>\n"
      ],
      "text/latex": [
       "A matrix: 3 × 5 of type dbl\n",
       "\\begin{tabular}{r|lllll}\n",
       " CP & nsplit & rel error & xerror & xstd\\\\\n",
       "\\hline\n",
       "\t 0.50 & 0 & 1.00 & 1.15 & 0.05180090\\\\\n",
       "\t 0.44 & 1 & 0.50 & 0.57 & 0.05944746\\\\\n",
       "\t 0.01 & 2 & 0.06 & 0.11 & 0.03192700\\\\\n",
       "\\end{tabular}\n"
      ],
      "text/markdown": [
       "\n",
       "A matrix: 3 × 5 of type dbl\n",
       "\n",
       "| CP | nsplit | rel error | xerror | xstd |\n",
       "|---|---|---|---|---|\n",
       "| 0.50 | 0 | 1.00 | 1.15 | 0.05180090 |\n",
       "| 0.44 | 1 | 0.50 | 0.57 | 0.05944746 |\n",
       "| 0.01 | 2 | 0.06 | 0.11 | 0.03192700 |\n",
       "\n"
      ],
      "text/plain": [
       "  CP   nsplit rel error xerror xstd      \n",
       "1 0.50 0      1.00      1.15   0.05180090\n",
       "2 0.44 1      0.50      0.57   0.05944746\n",
       "3 0.01 2      0.06      0.11   0.03192700"
      ]
     },
     "metadata": {},
     "output_type": "display_data"
    }
   ],
   "source": [
    "c$cptable"
   ]
  },
  {
   "cell_type": "code",
   "execution_count": 12,
   "metadata": {},
   "outputs": [
    {
     "data": {
      "image/png": "[encoded data removed]",
      "text/plain": [
       "plot without title"
      ]
     },
     "metadata": {},
     "output_type": "display_data"
    }
   ],
   "source": [
    "plotcp(c)"
   ]
  },
  {
   "cell_type": "markdown",
   "metadata": {},
   "source": [
    "c$cptable은 트리의 크기에 따른 비용-복잡도 모수(cost-complexity parameter)를 제공하며,  \n",
    "교차타당성오차(cross-validation error)를 함께 제공한다. 이 값들은 prune() 또는 rpart.control() 함수에서 가지치기(pruning)와 트리의 최대 크기(maximum size)를 조절하기 위한 옵션으로 사용된다.  \n",
    "\n",
    "다음은 교차 타당성오차를 최소로 하는 트리를 형성하는 과정이다.  \n",
    "여기서는 위의 rpart()를 수행한 결과와 동일한 결과를 얻게 되어 그 결과는 생략한다."
   ]
  },
  {
   "cell_type": "code",
   "execution_count": 13,
   "metadata": {},
   "outputs": [
    {
     "data": {
      "image/png": "[encoded data removed]",
      "text/plain": [
       "plot without title"
      ]
     },
     "metadata": {},
     "output_type": "display_data"
    }
   ],
   "source": [
    "opt <- which.min(c$cptable[,\"xerror\"])\n",
    "cp <- c$cptable[opt, \"CP\"]\n",
    "prune.c <- prune(c, cp = cp)\n",
    "plot(prune.c)\n",
    "text(prune.c, use.n=T)"
   ]
  },
  {
   "cell_type": "code",
   "execution_count": 14,
   "metadata": {},
   "outputs": [
    {
     "data": {
      "image/png": "[encoded data removed]",
      "text/plain": [
       "plot without title"
      ]
     },
     "metadata": {},
     "output_type": "display_data"
    }
   ],
   "source": [
    "plotcp(c)"
   ]
  },
  {
   "cell_type": "markdown",
   "metadata": {},
   "source": [
    "# [예제2] ctree() 함수를 이용하여 Decision tree 적용"
   ]
  },
  {
   "cell_type": "markdown",
   "metadata": {},
   "source": [
    "분석에 사용된 자료는 146명의 전립선 암 환자의 자료(stagec)이다.  \n",
    "7개의 예측변수를 이용하여 범주형의 반응변수(ploidy)를 예측(또는 분류)한다."
   ]
  },
  {
   "cell_type": "code",
   "execution_count": 17,
   "metadata": {},
   "outputs": [
    {
     "name": "stdout",
     "output_type": "stream",
     "text": [
      "'data.frame':\t146 obs. of  8 variables:\n",
      " $ pgtime : num  6.1 9.4 5.2 3.2 1.9 4.8 5.8 7.3 3.7 15.9 ...\n",
      " $ pgstat : int  0 0 1 1 1 0 0 0 1 0 ...\n",
      " $ age    : int  64 62 59 62 64 69 75 71 73 64 ...\n",
      " $ eet    : int  2 1 2 2 2 1 2 2 2 2 ...\n",
      " $ g2     : num  10.26 NA 9.99 3.57 22.56 ...\n",
      " $ grade  : int  2 3 3 2 4 3 2 3 3 3 ...\n",
      " $ gleason: int  4 8 7 4 8 7 NA 7 6 7 ...\n",
      " $ ploidy : Factor w/ 3 levels \"diploid\",\"tetraploid\",..: 1 3 1 1 2 1 2 3 1 2 ...\n"
     ]
    }
   ],
   "source": [
    "library(party)\n",
    "data(stagec)  # stage는 {rpart}에서 제공함\n",
    "str(stagec)"
   ]
  },
  {
   "cell_type": "markdown",
   "metadata": {},
   "source": [
    "다음은 결측값을 제거하는 과정이다."
   ]
  },
  {
   "cell_type": "code",
   "execution_count": 18,
   "metadata": {},
   "outputs": [
    {
     "name": "stdout",
     "output_type": "stream",
     "text": [
      "'data.frame':\t134 obs. of  8 variables:\n",
      " $ pgtime : num  6.1 5.2 3.2 1.9 4.8 3.7 15.9 6.3 2.9 1.5 ...\n",
      " $ pgstat : int  0 1 1 1 0 1 0 0 1 1 ...\n",
      " $ age    : int  64 59 62 64 69 73 64 65 58 70 ...\n",
      " $ eet    : int  2 2 2 2 1 2 2 2 2 2 ...\n",
      " $ g2     : num  10.26 9.99 3.57 22.56 6.14 ...\n",
      " $ grade  : int  2 3 2 4 3 3 3 3 4 3 ...\n",
      " $ gleason: int  4 7 4 8 7 6 7 7 8 8 ...\n",
      " $ ploidy : Factor w/ 3 levels \"diploid\",\"tetraploid\",..: 1 1 1 2 1 1 2 2 2 1 ...\n"
     ]
    }
   ],
   "source": [
    "stagec1 <- subset(stagec, !is.na(g2))\n",
    "stagec2 <- subset(stagec1, !is.na(gleason))\n",
    "stagec3 <- subset(stagec2, !is.na(eet))\n",
    "str(stagec3)"
   ]
  },
  {
   "cell_type": "markdown",
   "metadata": {},
   "source": [
    "결측값이 제거된 134개의 자료를 이용하여 모형에 적용한다.  \n",
    "모형구축을 위한 훈련용 자료(training data)와 모형의 성능을 검증하기 위한 검증용 자료(test data)를 70%와 30%로 구성한다."
   ]
  },
  {
   "cell_type": "code",
   "execution_count": 19,
   "metadata": {},
   "outputs": [],
   "source": [
    "set.seed(1234)\n",
    "ind <- sample(2, nrow(stagec3), replace=TRUE, prob=c(0.7, 0.3))"
   ]
  },
  {
   "cell_type": "markdown",
   "metadata": {},
   "source": [
    "모형을 만들기 전에 stagec 자료를 복원 추출 방법을 이용하여 두 개의 부분집합 training(70%)과 test(30%)로 만들고, 결과의 재현성을 위해 random seed를 고정하였다."
   ]
  },
  {
   "cell_type": "code",
   "execution_count": 20,
   "metadata": {},
   "outputs": [
    {
     "data": {
      "text/html": [
       "<ol class=list-inline>\n",
       "\t<li>1</li>\n",
       "\t<li>1</li>\n",
       "\t<li>1</li>\n",
       "\t<li>1</li>\n",
       "\t<li>2</li>\n",
       "\t<li>1</li>\n",
       "\t<li>1</li>\n",
       "\t<li>1</li>\n",
       "\t<li>1</li>\n",
       "\t<li>1</li>\n",
       "\t<li>1</li>\n",
       "\t<li>1</li>\n",
       "\t<li>1</li>\n",
       "\t<li>2</li>\n",
       "\t<li>1</li>\n",
       "\t<li>2</li>\n",
       "\t<li>1</li>\n",
       "\t<li>1</li>\n",
       "\t<li>1</li>\n",
       "\t<li>1</li>\n",
       "\t<li>1</li>\n",
       "\t<li>1</li>\n",
       "\t<li>1</li>\n",
       "\t<li>1</li>\n",
       "\t<li>1</li>\n",
       "\t<li>2</li>\n",
       "\t<li>1</li>\n",
       "\t<li>2</li>\n",
       "\t<li>2</li>\n",
       "\t<li>1</li>\n",
       "\t<li>1</li>\n",
       "\t<li>1</li>\n",
       "\t<li>1</li>\n",
       "\t<li>1</li>\n",
       "\t<li>1</li>\n",
       "\t<li>2</li>\n",
       "\t<li>1</li>\n",
       "\t<li>1</li>\n",
       "\t<li>2</li>\n",
       "\t<li>2</li>\n",
       "\t<li>1</li>\n",
       "\t<li>1</li>\n",
       "\t<li>1</li>\n",
       "\t<li>1</li>\n",
       "\t<li>1</li>\n",
       "\t<li>1</li>\n",
       "\t<li>1</li>\n",
       "\t<li>1</li>\n",
       "\t<li>1</li>\n",
       "\t<li>2</li>\n",
       "\t<li>1</li>\n",
       "\t<li>1</li>\n",
       "\t<li>2</li>\n",
       "\t<li>1</li>\n",
       "\t<li>1</li>\n",
       "\t<li>1</li>\n",
       "\t<li>1</li>\n",
       "\t<li>2</li>\n",
       "\t<li>1</li>\n",
       "\t<li>2</li>\n",
       "\t<li>2</li>\n",
       "\t<li>1</li>\n",
       "\t<li>1</li>\n",
       "\t<li>1</li>\n",
       "\t<li>1</li>\n",
       "\t<li>2</li>\n",
       "\t<li>1</li>\n",
       "\t<li>1</li>\n",
       "\t<li>1</li>\n",
       "\t<li>1</li>\n",
       "\t<li>1</li>\n",
       "\t<li>2</li>\n",
       "\t<li>1</li>\n",
       "\t<li>2</li>\n",
       "\t<li>1</li>\n",
       "\t<li>1</li>\n",
       "\t<li>1</li>\n",
       "\t<li>1</li>\n",
       "\t<li>1</li>\n",
       "\t<li>1</li>\n",
       "\t<li>2</li>\n",
       "\t<li>1</li>\n",
       "\t<li>1</li>\n",
       "\t<li>1</li>\n",
       "\t<li>1</li>\n",
       "\t<li>2</li>\n",
       "\t<li>1</li>\n",
       "\t<li>1</li>\n",
       "\t<li>1</li>\n",
       "\t<li>2</li>\n",
       "\t<li>1</li>\n",
       "\t<li>2</li>\n",
       "\t<li>1</li>\n",
       "\t<li>1</li>\n",
       "\t<li>1</li>\n",
       "\t<li>1</li>\n",
       "\t<li>1</li>\n",
       "\t<li>1</li>\n",
       "\t<li>1</li>\n",
       "\t<li>2</li>\n",
       "\t<li>1</li>\n",
       "\t<li>1</li>\n",
       "\t<li>1</li>\n",
       "\t<li>1</li>\n",
       "\t<li>1</li>\n",
       "\t<li>1</li>\n",
       "\t<li>1</li>\n",
       "\t<li>1</li>\n",
       "\t<li>1</li>\n",
       "\t<li>1</li>\n",
       "\t<li>2</li>\n",
       "\t<li>1</li>\n",
       "\t<li>2</li>\n",
       "\t<li>1</li>\n",
       "\t<li>1</li>\n",
       "\t<li>2</li>\n",
       "\t<li>2</li>\n",
       "\t<li>1</li>\n",
       "\t<li>1</li>\n",
       "\t<li>2</li>\n",
       "\t<li>2</li>\n",
       "\t<li>2</li>\n",
       "\t<li>2</li>\n",
       "\t<li>2</li>\n",
       "\t<li>1</li>\n",
       "\t<li>1</li>\n",
       "\t<li>1</li>\n",
       "\t<li>1</li>\n",
       "\t<li>1</li>\n",
       "\t<li>1</li>\n",
       "\t<li>2</li>\n",
       "\t<li>1</li>\n",
       "\t<li>1</li>\n",
       "\t<li>1</li>\n",
       "</ol>\n"
      ],
      "text/latex": [
       "\\begin{enumerate*}\n",
       "\\item 1\n",
       "\\item 1\n",
       "\\item 1\n",
       "\\item 1\n",
       "\\item 2\n",
       "\\item 1\n",
       "\\item 1\n",
       "\\item 1\n",
       "\\item 1\n",
       "\\item 1\n",
       "\\item 1\n",
       "\\item 1\n",
       "\\item 1\n",
       "\\item 2\n",
       "\\item 1\n",
       "\\item 2\n",
       "\\item 1\n",
       "\\item 1\n",
       "\\item 1\n",
       "\\item 1\n",
       "\\item 1\n",
       "\\item 1\n",
       "\\item 1\n",
       "\\item 1\n",
       "\\item 1\n",
       "\\item 2\n",
       "\\item 1\n",
       "\\item 2\n",
       "\\item 2\n",
       "\\item 1\n",
       "\\item 1\n",
       "\\item 1\n",
       "\\item 1\n",
       "\\item 1\n",
       "\\item 1\n",
       "\\item 2\n",
       "\\item 1\n",
       "\\item 1\n",
       "\\item 2\n",
       "\\item 2\n",
       "\\item 1\n",
       "\\item 1\n",
       "\\item 1\n",
       "\\item 1\n",
       "\\item 1\n",
       "\\item 1\n",
       "\\item 1\n",
       "\\item 1\n",
       "\\item 1\n",
       "\\item 2\n",
       "\\item 1\n",
       "\\item 1\n",
       "\\item 2\n",
       "\\item 1\n",
       "\\item 1\n",
       "\\item 1\n",
       "\\item 1\n",
       "\\item 2\n",
       "\\item 1\n",
       "\\item 2\n",
       "\\item 2\n",
       "\\item 1\n",
       "\\item 1\n",
       "\\item 1\n",
       "\\item 1\n",
       "\\item 2\n",
       "\\item 1\n",
       "\\item 1\n",
       "\\item 1\n",
       "\\item 1\n",
       "\\item 1\n",
       "\\item 2\n",
       "\\item 1\n",
       "\\item 2\n",
       "\\item 1\n",
       "\\item 1\n",
       "\\item 1\n",
       "\\item 1\n",
       "\\item 1\n",
       "\\item 1\n",
       "\\item 2\n",
       "\\item 1\n",
       "\\item 1\n",
       "\\item 1\n",
       "\\item 1\n",
       "\\item 2\n",
       "\\item 1\n",
       "\\item 1\n",
       "\\item 1\n",
       "\\item 2\n",
       "\\item 1\n",
       "\\item 2\n",
       "\\item 1\n",
       "\\item 1\n",
       "\\item 1\n",
       "\\item 1\n",
       "\\item 1\n",
       "\\item 1\n",
       "\\item 1\n",
       "\\item 2\n",
       "\\item 1\n",
       "\\item 1\n",
       "\\item 1\n",
       "\\item 1\n",
       "\\item 1\n",
       "\\item 1\n",
       "\\item 1\n",
       "\\item 1\n",
       "\\item 1\n",
       "\\item 1\n",
       "\\item 2\n",
       "\\item 1\n",
       "\\item 2\n",
       "\\item 1\n",
       "\\item 1\n",
       "\\item 2\n",
       "\\item 2\n",
       "\\item 1\n",
       "\\item 1\n",
       "\\item 2\n",
       "\\item 2\n",
       "\\item 2\n",
       "\\item 2\n",
       "\\item 2\n",
       "\\item 1\n",
       "\\item 1\n",
       "\\item 1\n",
       "\\item 1\n",
       "\\item 1\n",
       "\\item 1\n",
       "\\item 2\n",
       "\\item 1\n",
       "\\item 1\n",
       "\\item 1\n",
       "\\end{enumerate*}\n"
      ],
      "text/markdown": [
       "1. 1\n",
       "2. 1\n",
       "3. 1\n",
       "4. 1\n",
       "5. 2\n",
       "6. 1\n",
       "7. 1\n",
       "8. 1\n",
       "9. 1\n",
       "10. 1\n",
       "11. 1\n",
       "12. 1\n",
       "13. 1\n",
       "14. 2\n",
       "15. 1\n",
       "16. 2\n",
       "17. 1\n",
       "18. 1\n",
       "19. 1\n",
       "20. 1\n",
       "21. 1\n",
       "22. 1\n",
       "23. 1\n",
       "24. 1\n",
       "25. 1\n",
       "26. 2\n",
       "27. 1\n",
       "28. 2\n",
       "29. 2\n",
       "30. 1\n",
       "31. 1\n",
       "32. 1\n",
       "33. 1\n",
       "34. 1\n",
       "35. 1\n",
       "36. 2\n",
       "37. 1\n",
       "38. 1\n",
       "39. 2\n",
       "40. 2\n",
       "41. 1\n",
       "42. 1\n",
       "43. 1\n",
       "44. 1\n",
       "45. 1\n",
       "46. 1\n",
       "47. 1\n",
       "48. 1\n",
       "49. 1\n",
       "50. 2\n",
       "51. 1\n",
       "52. 1\n",
       "53. 2\n",
       "54. 1\n",
       "55. 1\n",
       "56. 1\n",
       "57. 1\n",
       "58. 2\n",
       "59. 1\n",
       "60. 2\n",
       "61. 2\n",
       "62. 1\n",
       "63. 1\n",
       "64. 1\n",
       "65. 1\n",
       "66. 2\n",
       "67. 1\n",
       "68. 1\n",
       "69. 1\n",
       "70. 1\n",
       "71. 1\n",
       "72. 2\n",
       "73. 1\n",
       "74. 2\n",
       "75. 1\n",
       "76. 1\n",
       "77. 1\n",
       "78. 1\n",
       "79. 1\n",
       "80. 1\n",
       "81. 2\n",
       "82. 1\n",
       "83. 1\n",
       "84. 1\n",
       "85. 1\n",
       "86. 2\n",
       "87. 1\n",
       "88. 1\n",
       "89. 1\n",
       "90. 2\n",
       "91. 1\n",
       "92. 2\n",
       "93. 1\n",
       "94. 1\n",
       "95. 1\n",
       "96. 1\n",
       "97. 1\n",
       "98. 1\n",
       "99. 1\n",
       "100. 2\n",
       "101. 1\n",
       "102. 1\n",
       "103. 1\n",
       "104. 1\n",
       "105. 1\n",
       "106. 1\n",
       "107. 1\n",
       "108. 1\n",
       "109. 1\n",
       "110. 1\n",
       "111. 2\n",
       "112. 1\n",
       "113. 2\n",
       "114. 1\n",
       "115. 1\n",
       "116. 2\n",
       "117. 2\n",
       "118. 1\n",
       "119. 1\n",
       "120. 2\n",
       "121. 2\n",
       "122. 2\n",
       "123. 2\n",
       "124. 2\n",
       "125. 1\n",
       "126. 1\n",
       "127. 1\n",
       "128. 1\n",
       "129. 1\n",
       "130. 1\n",
       "131. 2\n",
       "132. 1\n",
       "133. 1\n",
       "134. 1\n",
       "\n",
       "\n"
      ],
      "text/plain": [
       "  [1] 1 1 1 1 2 1 1 1 1 1 1 1 1 2 1 2 1 1 1 1 1 1 1 1 1 2 1 2 2 1 1 1 1 1 1 2 1\n",
       " [38] 1 2 2 1 1 1 1 1 1 1 1 1 2 1 1 2 1 1 1 1 2 1 2 2 1 1 1 1 2 1 1 1 1 1 2 1 2\n",
       " [75] 1 1 1 1 1 1 2 1 1 1 1 2 1 1 1 2 1 2 1 1 1 1 1 1 1 2 1 1 1 1 1 1 1 1 1 1 2\n",
       "[112] 1 2 1 1 2 2 1 1 2 2 2 2 2 1 1 1 1 1 1 2 1 1 1"
      ]
     },
     "metadata": {},
     "output_type": "display_data"
    }
   ],
   "source": [
    "ind"
   ]
  },
  {
   "cell_type": "code",
   "execution_count": 21,
   "metadata": {},
   "outputs": [],
   "source": [
    "trainData <- stagec3[ind==1,]  #n=102개\n",
    "testData <- stagec3[ind==2,]  #n=32개"
   ]
  },
  {
   "cell_type": "markdown",
   "metadata": {},
   "source": [
    "훈련용 자료(n = 102)에 대해 ctree()를 적용한 결과는 다음과 같다."
   ]
  },
  {
   "cell_type": "code",
   "execution_count": 22,
   "metadata": {},
   "outputs": [
    {
     "data": {
      "text/plain": [
       "\n",
       "\t Conditional inference tree with 3 terminal nodes\n",
       "\n",
       "Response:  ploidy \n",
       "Inputs:  pgtime, pgstat, age, eet, g2, grade, gleason \n",
       "Number of observations:  102 \n",
       "\n",
       "1) g2 <= 13.01; criterion = 1, statistic = 49.684\n",
       "  2) pgstat <= 0; criterion = 0.958, statistic = 7.5\n",
       "    3)*  weights = 36 \n",
       "  2) pgstat > 0\n",
       "    4)*  weights = 15 \n",
       "1) g2 > 13.01\n",
       "  5)*  weights = 51 "
      ]
     },
     "metadata": {},
     "output_type": "display_data"
    },
    {
     "data": {
      "image/png": "[encoded data removed]",
      "text/plain": [
       "plot without title"
      ]
     },
     "metadata": {},
     "output_type": "display_data"
    }
   ],
   "source": [
    "tree <- ctree(ploidy ~ ., data=trainData)\n",
    "tree\n",
    "plot(tree)"
   ]
  },
  {
   "cell_type": "markdown",
   "metadata": {},
   "source": [
    "최종노드의 막대그래프(barplot)는 반응변수(ploidy)의 각 범주별 비율을 나타낸다."
   ]
  },
  {
   "cell_type": "markdown",
   "metadata": {},
   "source": [
    "predict() 함수를 통해 검증용 자료에 대해 적합모형을 적용하면 다음과 같다."
   ]
  },
  {
   "cell_type": "code",
   "execution_count": 24,
   "metadata": {},
   "outputs": [
    {
     "data": {
      "text/plain": [
       "            \n",
       "testPred     diploid tetraploid aneuploid\n",
       "  diploid         17          0         1\n",
       "  tetraploid       0         13         1\n",
       "  aneuploid        0          0         0"
      ]
     },
     "metadata": {},
     "output_type": "display_data"
    }
   ],
   "source": [
    "testPred = predict(tree, newdata=testData)\n",
    "table(testPred, testData$ploidy)"
   ]
  },
  {
   "cell_type": "markdown",
   "metadata": {},
   "source": [
    "# [예제3] ctree() 함수를 이용하여 반응변수가 연속현인 경우 의사결정나무를 통한 예측을 수행한다."
   ]
  },
  {
   "cell_type": "markdown",
   "metadata": {},
   "source": [
    "airquality 자료에 대해 의사결정나무모형을 적합한다.  \n",
    "먼저 반응변수 Ozone이 결측인 자료를 제외한 후 ctree() 함수를 적용한다."
   ]
  },
  {
   "cell_type": "code",
   "execution_count": 25,
   "metadata": {},
   "outputs": [
    {
     "data": {
      "text/html": [
       "<table>\n",
       "<caption>A data.frame: 6 × 6</caption>\n",
       "<thead>\n",
       "\t<tr><th></th><th scope=col>Ozone</th><th scope=col>Solar.R</th><th scope=col>Wind</th><th scope=col>Temp</th><th scope=col>Month</th><th scope=col>Day</th></tr>\n",
       "\t<tr><th></th><th scope=col>&lt;int&gt;</th><th scope=col>&lt;int&gt;</th><th scope=col>&lt;dbl&gt;</th><th scope=col>&lt;int&gt;</th><th scope=col>&lt;int&gt;</th><th scope=col>&lt;int&gt;</th></tr>\n",
       "</thead>\n",
       "<tbody>\n",
       "\t<tr><th scope=row>1</th><td>41</td><td>190</td><td> 7.4</td><td>67</td><td>5</td><td>1</td></tr>\n",
       "\t<tr><th scope=row>2</th><td>36</td><td>118</td><td> 8.0</td><td>72</td><td>5</td><td>2</td></tr>\n",
       "\t<tr><th scope=row>3</th><td>12</td><td>149</td><td>12.6</td><td>74</td><td>5</td><td>3</td></tr>\n",
       "\t<tr><th scope=row>4</th><td>18</td><td>313</td><td>11.5</td><td>62</td><td>5</td><td>4</td></tr>\n",
       "\t<tr><th scope=row>6</th><td>28</td><td> NA</td><td>14.9</td><td>66</td><td>5</td><td>6</td></tr>\n",
       "\t<tr><th scope=row>7</th><td>23</td><td>299</td><td> 8.6</td><td>65</td><td>5</td><td>7</td></tr>\n",
       "</tbody>\n",
       "</table>\n"
      ],
      "text/latex": [
       "A data.frame: 6 × 6\n",
       "\\begin{tabular}{r|llllll}\n",
       "  & Ozone & Solar.R & Wind & Temp & Month & Day\\\\\n",
       "  & <int> & <int> & <dbl> & <int> & <int> & <int>\\\\\n",
       "\\hline\n",
       "\t1 & 41 & 190 &  7.4 & 67 & 5 & 1\\\\\n",
       "\t2 & 36 & 118 &  8.0 & 72 & 5 & 2\\\\\n",
       "\t3 & 12 & 149 & 12.6 & 74 & 5 & 3\\\\\n",
       "\t4 & 18 & 313 & 11.5 & 62 & 5 & 4\\\\\n",
       "\t6 & 28 &  NA & 14.9 & 66 & 5 & 6\\\\\n",
       "\t7 & 23 & 299 &  8.6 & 65 & 5 & 7\\\\\n",
       "\\end{tabular}\n"
      ],
      "text/markdown": [
       "\n",
       "A data.frame: 6 × 6\n",
       "\n",
       "| <!--/--> | Ozone &lt;int&gt; | Solar.R &lt;int&gt; | Wind &lt;dbl&gt; | Temp &lt;int&gt; | Month &lt;int&gt; | Day &lt;int&gt; |\n",
       "|---|---|---|---|---|---|---|\n",
       "| 1 | 41 | 190 |  7.4 | 67 | 5 | 1 |\n",
       "| 2 | 36 | 118 |  8.0 | 72 | 5 | 2 |\n",
       "| 3 | 12 | 149 | 12.6 | 74 | 5 | 3 |\n",
       "| 4 | 18 | 313 | 11.5 | 62 | 5 | 4 |\n",
       "| 6 | 28 |  NA | 14.9 | 66 | 5 | 6 |\n",
       "| 7 | 23 | 299 |  8.6 | 65 | 5 | 7 |\n",
       "\n"
      ],
      "text/plain": [
       "  Ozone Solar.R Wind Temp Month Day\n",
       "1 41    190      7.4 67   5     1  \n",
       "2 36    118      8.0 72   5     2  \n",
       "3 12    149     12.6 74   5     3  \n",
       "4 18    313     11.5 62   5     4  \n",
       "6 28     NA     14.9 66   5     6  \n",
       "7 23    299      8.6 65   5     7  "
      ]
     },
     "metadata": {},
     "output_type": "display_data"
    }
   ],
   "source": [
    "airq <- subset(airquality, !is.na(Ozone))\n",
    "head(airq)"
   ]
  },
  {
   "cell_type": "code",
   "execution_count": 26,
   "metadata": {},
   "outputs": [
    {
     "data": {
      "text/plain": [
       "\n",
       "\t Conditional inference tree with 5 terminal nodes\n",
       "\n",
       "Response:  Ozone \n",
       "Inputs:  Solar.R, Wind, Temp, Month, Day \n",
       "Number of observations:  116 \n",
       "\n",
       "1) Temp <= 82; criterion = 1, statistic = 56.086\n",
       "  2) Wind <= 6.9; criterion = 0.998, statistic = 12.969\n",
       "    3)*  weights = 10 \n",
       "  2) Wind > 6.9\n",
       "    4) Temp <= 77; criterion = 0.997, statistic = 11.599\n",
       "      5)*  weights = 48 \n",
       "    4) Temp > 77\n",
       "      6)*  weights = 21 \n",
       "1) Temp > 82\n",
       "  7) Wind <= 10.3; criterion = 0.997, statistic = 11.712\n",
       "    8)*  weights = 30 \n",
       "  7) Wind > 10.3\n",
       "    9)*  weights = 7 "
      ]
     },
     "metadata": {},
     "output_type": "display_data"
    }
   ],
   "source": [
    "airct <- ctree(Ozone ~ ., data=airq)\n",
    "airct"
   ]
  },
  {
   "cell_type": "markdown",
   "metadata": {},
   "source": [
    "최종마디(*로 표시된 마디)가 5개인 트리모형을 나타낸다. 이를 시각화하면 다음과 같다."
   ]
  },
  {
   "cell_type": "code",
   "execution_count": 27,
   "metadata": {},
   "outputs": [
    {
     "data": {
      "image/png": "[encoded data removed]",
      "text/plain": [
       "plot without title"
      ]
     },
     "metadata": {},
     "output_type": "display_data"
    }
   ],
   "source": [
    "plot(airct)"
   ]
  },
  {
   "cell_type": "markdown",
   "metadata": {},
   "source": [
    "위 모형으로부터 새로운 자료에 대한 예측은 predict() 함수를 이용한다.  \n",
    "연속형 반응변수에 대한 예측값은 최종 마디에 속한 자료들의 평균값이 제공된다.  \n",
    "분석에 사용된 자료를 재대입한 결과는 다음과 같다."
   ]
  },
  {
   "cell_type": "code",
   "execution_count": 29,
   "metadata": {},
   "outputs": [
    {
     "data": {
      "text/html": [
       "<table>\n",
       "<caption>A matrix: 6 × 1 of type dbl</caption>\n",
       "<thead>\n",
       "\t<tr><th scope=col>Ozone</th></tr>\n",
       "</thead>\n",
       "<tbody>\n",
       "\t<tr><td>18.47917</td></tr>\n",
       "\t<tr><td>18.47917</td></tr>\n",
       "\t<tr><td>18.47917</td></tr>\n",
       "\t<tr><td>18.47917</td></tr>\n",
       "\t<tr><td>18.47917</td></tr>\n",
       "\t<tr><td>18.47917</td></tr>\n",
       "</tbody>\n",
       "</table>\n"
      ],
      "text/latex": [
       "A matrix: 6 × 1 of type dbl\n",
       "\\begin{tabular}{l}\n",
       " Ozone\\\\\n",
       "\\hline\n",
       "\t 18.47917\\\\\n",
       "\t 18.47917\\\\\n",
       "\t 18.47917\\\\\n",
       "\t 18.47917\\\\\n",
       "\t 18.47917\\\\\n",
       "\t 18.47917\\\\\n",
       "\\end{tabular}\n"
      ],
      "text/markdown": [
       "\n",
       "A matrix: 6 × 1 of type dbl\n",
       "\n",
       "| Ozone |\n",
       "|---|\n",
       "| 18.47917 |\n",
       "| 18.47917 |\n",
       "| 18.47917 |\n",
       "| 18.47917 |\n",
       "| 18.47917 |\n",
       "| 18.47917 |\n",
       "\n"
      ],
      "text/plain": [
       "     Ozone   \n",
       "[1,] 18.47917\n",
       "[2,] 18.47917\n",
       "[3,] 18.47917\n",
       "[4,] 18.47917\n",
       "[5,] 18.47917\n",
       "[6,] 18.47917"
      ]
     },
     "metadata": {},
     "output_type": "display_data"
    }
   ],
   "source": [
    "head(predict(airct, data=airq))"
   ]
  },
  {
   "cell_type": "markdown",
   "metadata": {},
   "source": [
    "자료가 속하는 해당 최종마디의 번호를 출력하고 싶을 때는 type=\"node\" 옵션을 사용한다."
   ]
  },
  {
   "cell_type": "code",
   "execution_count": 30,
   "metadata": {},
   "outputs": [
    {
     "data": {
      "text/html": [
       "<ol class=list-inline>\n",
       "\t<li>5</li>\n",
       "\t<li>5</li>\n",
       "\t<li>5</li>\n",
       "\t<li>5</li>\n",
       "\t<li>5</li>\n",
       "\t<li>5</li>\n",
       "\t<li>5</li>\n",
       "\t<li>5</li>\n",
       "\t<li>3</li>\n",
       "\t<li>5</li>\n",
       "\t<li>5</li>\n",
       "\t<li>5</li>\n",
       "\t<li>5</li>\n",
       "\t<li>5</li>\n",
       "\t<li>5</li>\n",
       "\t<li>5</li>\n",
       "\t<li>5</li>\n",
       "\t<li>5</li>\n",
       "\t<li>5</li>\n",
       "\t<li>5</li>\n",
       "\t<li>5</li>\n",
       "\t<li>5</li>\n",
       "\t<li>5</li>\n",
       "\t<li>6</li>\n",
       "\t<li>3</li>\n",
       "\t<li>5</li>\n",
       "\t<li>6</li>\n",
       "\t<li>9</li>\n",
       "\t<li>9</li>\n",
       "\t<li>6</li>\n",
       "\t<li>5</li>\n",
       "\t<li>5</li>\n",
       "\t<li>5</li>\n",
       "\t<li>5</li>\n",
       "\t<li>5</li>\n",
       "\t<li>8</li>\n",
       "\t<li>8</li>\n",
       "\t<li>6</li>\n",
       "\t<li>8</li>\n",
       "\t<li>9</li>\n",
       "\t<li>8</li>\n",
       "\t<li>8</li>\n",
       "\t<li>8</li>\n",
       "\t<li>8</li>\n",
       "\t<li>5</li>\n",
       "\t<li>6</li>\n",
       "\t<li>6</li>\n",
       "\t<li>3</li>\n",
       "\t<li>6</li>\n",
       "\t<li>8</li>\n",
       "\t<li>8</li>\n",
       "\t<li>9</li>\n",
       "\t<li>3</li>\n",
       "\t<li>8</li>\n",
       "\t<li>8</li>\n",
       "\t<li>6</li>\n",
       "\t<li>9</li>\n",
       "\t<li>8</li>\n",
       "\t<li>8</li>\n",
       "\t<li>8</li>\n",
       "\t<li>6</li>\n",
       "\t<li>3</li>\n",
       "\t<li>6</li>\n",
       "\t<li>6</li>\n",
       "\t<li>8</li>\n",
       "\t<li>8</li>\n",
       "\t<li>8</li>\n",
       "\t<li>8</li>\n",
       "\t<li>8</li>\n",
       "\t<li>8</li>\n",
       "\t<li>9</li>\n",
       "\t<li>6</li>\n",
       "\t<li>6</li>\n",
       "\t<li>5</li>\n",
       "\t<li>3</li>\n",
       "\t<li>5</li>\n",
       "\t<li>6</li>\n",
       "\t<li>6</li>\n",
       "\t<li>5</li>\n",
       "\t<li>5</li>\n",
       "\t<li>6</li>\n",
       "\t<li>3</li>\n",
       "\t<li>8</li>\n",
       "\t<li>8</li>\n",
       "\t<li>8</li>\n",
       "\t<li>8</li>\n",
       "\t<li>8</li>\n",
       "\t<li>8</li>\n",
       "\t<li>8</li>\n",
       "\t<li>8</li>\n",
       "\t<li>8</li>\n",
       "\t<li>8</li>\n",
       "\t<li>9</li>\n",
       "\t<li>6</li>\n",
       "\t<li>6</li>\n",
       "\t<li>5</li>\n",
       "\t<li>5</li>\n",
       "\t<li>6</li>\n",
       "\t<li>5</li>\n",
       "\t<li>3</li>\n",
       "\t<li>5</li>\n",
       "\t<li>5</li>\n",
       "\t<li>3</li>\n",
       "\t<li>5</li>\n",
       "\t<li>5</li>\n",
       "\t<li>5</li>\n",
       "\t<li>6</li>\n",
       "\t<li>5</li>\n",
       "\t<li>5</li>\n",
       "\t<li>6</li>\n",
       "\t<li>5</li>\n",
       "\t<li>5</li>\n",
       "\t<li>3</li>\n",
       "\t<li>5</li>\n",
       "\t<li>5</li>\n",
       "\t<li>5</li>\n",
       "</ol>\n"
      ],
      "text/latex": [
       "\\begin{enumerate*}\n",
       "\\item 5\n",
       "\\item 5\n",
       "\\item 5\n",
       "\\item 5\n",
       "\\item 5\n",
       "\\item 5\n",
       "\\item 5\n",
       "\\item 5\n",
       "\\item 3\n",
       "\\item 5\n",
       "\\item 5\n",
       "\\item 5\n",
       "\\item 5\n",
       "\\item 5\n",
       "\\item 5\n",
       "\\item 5\n",
       "\\item 5\n",
       "\\item 5\n",
       "\\item 5\n",
       "\\item 5\n",
       "\\item 5\n",
       "\\item 5\n",
       "\\item 5\n",
       "\\item 6\n",
       "\\item 3\n",
       "\\item 5\n",
       "\\item 6\n",
       "\\item 9\n",
       "\\item 9\n",
       "\\item 6\n",
       "\\item 5\n",
       "\\item 5\n",
       "\\item 5\n",
       "\\item 5\n",
       "\\item 5\n",
       "\\item 8\n",
       "\\item 8\n",
       "\\item 6\n",
       "\\item 8\n",
       "\\item 9\n",
       "\\item 8\n",
       "\\item 8\n",
       "\\item 8\n",
       "\\item 8\n",
       "\\item 5\n",
       "\\item 6\n",
       "\\item 6\n",
       "\\item 3\n",
       "\\item 6\n",
       "\\item 8\n",
       "\\item 8\n",
       "\\item 9\n",
       "\\item 3\n",
       "\\item 8\n",
       "\\item 8\n",
       "\\item 6\n",
       "\\item 9\n",
       "\\item 8\n",
       "\\item 8\n",
       "\\item 8\n",
       "\\item 6\n",
       "\\item 3\n",
       "\\item 6\n",
       "\\item 6\n",
       "\\item 8\n",
       "\\item 8\n",
       "\\item 8\n",
       "\\item 8\n",
       "\\item 8\n",
       "\\item 8\n",
       "\\item 9\n",
       "\\item 6\n",
       "\\item 6\n",
       "\\item 5\n",
       "\\item 3\n",
       "\\item 5\n",
       "\\item 6\n",
       "\\item 6\n",
       "\\item 5\n",
       "\\item 5\n",
       "\\item 6\n",
       "\\item 3\n",
       "\\item 8\n",
       "\\item 8\n",
       "\\item 8\n",
       "\\item 8\n",
       "\\item 8\n",
       "\\item 8\n",
       "\\item 8\n",
       "\\item 8\n",
       "\\item 8\n",
       "\\item 8\n",
       "\\item 9\n",
       "\\item 6\n",
       "\\item 6\n",
       "\\item 5\n",
       "\\item 5\n",
       "\\item 6\n",
       "\\item 5\n",
       "\\item 3\n",
       "\\item 5\n",
       "\\item 5\n",
       "\\item 3\n",
       "\\item 5\n",
       "\\item 5\n",
       "\\item 5\n",
       "\\item 6\n",
       "\\item 5\n",
       "\\item 5\n",
       "\\item 6\n",
       "\\item 5\n",
       "\\item 5\n",
       "\\item 3\n",
       "\\item 5\n",
       "\\item 5\n",
       "\\item 5\n",
       "\\end{enumerate*}\n"
      ],
      "text/markdown": [
       "1. 5\n",
       "2. 5\n",
       "3. 5\n",
       "4. 5\n",
       "5. 5\n",
       "6. 5\n",
       "7. 5\n",
       "8. 5\n",
       "9. 3\n",
       "10. 5\n",
       "11. 5\n",
       "12. 5\n",
       "13. 5\n",
       "14. 5\n",
       "15. 5\n",
       "16. 5\n",
       "17. 5\n",
       "18. 5\n",
       "19. 5\n",
       "20. 5\n",
       "21. 5\n",
       "22. 5\n",
       "23. 5\n",
       "24. 6\n",
       "25. 3\n",
       "26. 5\n",
       "27. 6\n",
       "28. 9\n",
       "29. 9\n",
       "30. 6\n",
       "31. 5\n",
       "32. 5\n",
       "33. 5\n",
       "34. 5\n",
       "35. 5\n",
       "36. 8\n",
       "37. 8\n",
       "38. 6\n",
       "39. 8\n",
       "40. 9\n",
       "41. 8\n",
       "42. 8\n",
       "43. 8\n",
       "44. 8\n",
       "45. 5\n",
       "46. 6\n",
       "47. 6\n",
       "48. 3\n",
       "49. 6\n",
       "50. 8\n",
       "51. 8\n",
       "52. 9\n",
       "53. 3\n",
       "54. 8\n",
       "55. 8\n",
       "56. 6\n",
       "57. 9\n",
       "58. 8\n",
       "59. 8\n",
       "60. 8\n",
       "61. 6\n",
       "62. 3\n",
       "63. 6\n",
       "64. 6\n",
       "65. 8\n",
       "66. 8\n",
       "67. 8\n",
       "68. 8\n",
       "69. 8\n",
       "70. 8\n",
       "71. 9\n",
       "72. 6\n",
       "73. 6\n",
       "74. 5\n",
       "75. 3\n",
       "76. 5\n",
       "77. 6\n",
       "78. 6\n",
       "79. 5\n",
       "80. 5\n",
       "81. 6\n",
       "82. 3\n",
       "83. 8\n",
       "84. 8\n",
       "85. 8\n",
       "86. 8\n",
       "87. 8\n",
       "88. 8\n",
       "89. 8\n",
       "90. 8\n",
       "91. 8\n",
       "92. 8\n",
       "93. 9\n",
       "94. 6\n",
       "95. 6\n",
       "96. 5\n",
       "97. 5\n",
       "98. 6\n",
       "99. 5\n",
       "100. 3\n",
       "101. 5\n",
       "102. 5\n",
       "103. 3\n",
       "104. 5\n",
       "105. 5\n",
       "106. 5\n",
       "107. 6\n",
       "108. 5\n",
       "109. 5\n",
       "110. 6\n",
       "111. 5\n",
       "112. 5\n",
       "113. 3\n",
       "114. 5\n",
       "115. 5\n",
       "116. 5\n",
       "\n",
       "\n"
      ],
      "text/plain": [
       "  [1] 5 5 5 5 5 5 5 5 3 5 5 5 5 5 5 5 5 5 5 5 5 5 5 6 3 5 6 9 9 6 5 5 5 5 5 8 8\n",
       " [38] 6 8 9 8 8 8 8 5 6 6 3 6 8 8 9 3 8 8 6 9 8 8 8 6 3 6 6 8 8 8 8 8 8 9 6 6 5\n",
       " [75] 3 5 6 6 5 5 6 3 8 8 8 8 8 8 8 8 8 8 9 6 6 5 5 6 5 3 5 5 3 5 5 5 6 5 5 6 5\n",
       "[112] 5 3 5 5 5"
      ]
     },
     "metadata": {},
     "output_type": "display_data"
    }
   ],
   "source": [
    "predict(airct, data=airq, type=\"node\")   # > where(airct)의 결과와 동일"
   ]
  },
  {
   "cell_type": "markdown",
   "metadata": {},
   "source": [
    "예측값을 이용하여 평균제곱오차를 구하면 다음과 같다."
   ]
  },
  {
   "cell_type": "code",
   "execution_count": 31,
   "metadata": {},
   "outputs": [
    {
     "data": {
      "text/html": [
       "-2407.90219109195"
      ],
      "text/latex": [
       "-2407.90219109195"
      ],
      "text/markdown": [
       "-2407.90219109195"
      ],
      "text/plain": [
       "[1] -2407.902"
      ]
     },
     "metadata": {},
     "output_type": "display_data"
    }
   ],
   "source": [
    "mean(airq$Ozone - predict(airct)^2)"
   ]
  },
  {
   "cell_type": "markdown",
   "metadata": {},
   "source": [
    "# 의사결정나무모형의 장단점\n",
    "\n",
    "##### 장점\n",
    "- 그 구조가 단순하여 해석이 용이하고,\n",
    "- 유용한 입력변수의 파악과 예측변수간의 상호작용 및 비선형성을 고려하여 분석이 수행되며,\n",
    "- 선형성, 정규성, 등분산성 등의 수학적 가정이 불필요한 비모수적 모형이다.\n",
    "\n",
    "##### 단점\n",
    "- 분류기준값의 경계선 근방의 자료값에 대해서는 오차가 클 수 있으며(비연속성),  \n",
    "- 로지스틱회귀와 같이 각 예측변수의 효과를 파악하기 어려우며,\n",
    "- 새로운 자료에 대한 예측이 불안정할 수 있다."
   ]
  },
  {
   "cell_type": "code",
   "execution_count": null,
   "metadata": {},
   "outputs": [],
   "source": []
  }
 ],
 "metadata": {
  "kernelspec": {
   "display_name": "R",
   "language": "R",
   "name": "ir"
  },
  "language_info": {
   "codemirror_mode": "r",
   "file_extension": ".r",
   "mimetype": "text/x-r-source",
   "name": "R",
   "pygments_lexer": "r",
   "version": "3.5.1"
  },
  "toc": {
   "base_numbering": 1,
   "nav_menu": {},
   "number_sections": true,
   "sideBar": true,
   "skip_h1_title": false,
   "title_cell": "Table of Contents",
   "title_sidebar": "Contents",
   "toc_cell": false,
   "toc_position": {},
   "toc_section_display": true,
   "toc_window_display": true
  }
 },
 "nbformat": 4,
 "nbformat_minor": 2
}
