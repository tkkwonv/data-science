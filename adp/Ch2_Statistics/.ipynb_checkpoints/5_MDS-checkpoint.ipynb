{
 "cells": [
  {
   "cell_type": "markdown",
   "metadata": {},
   "source": [
    "# 다차원 척도법(Multidimensional Scaling, MDS)"
   ]
  },
  {
   "cell_type": "markdown",
   "metadata": {},
   "source": [
    "##### 여러 대상 간의 거리가 주어져 있을 때, 대상들을 동일한 상대적 거리를 가진 실수 공간의 점들로 배치시키는 방법이다.\n",
    "주어진 거리는 추상적인 대상들간의 거리가 될 수도 있고,\n",
    "실수 공간에서의 거리가 될 수도 있다."
   ]
  },
  {
   "cell_type": "code",
   "execution_count": 1,
   "metadata": {},
   "outputs": [
    {
     "data": {
      "text/plain": [
       "                Athens Barcelona Brussels Calais Cherbourg Cologne Copenhagen\n",
       "Barcelona         3313                                                       \n",
       "Brussels          2963      1318                                             \n",
       "Calais            3175      1326      204                                    \n",
       "Cherbourg         3339      1294      583    460                             \n",
       "Cologne           2762      1498      206    409       785                   \n",
       "Copenhagen        3276      2218      966   1136      1545     760           \n",
       "Geneva            2610       803      677    747       853    1662       1418\n",
       "Gibraltar         4485      1172     2256   2224      2047    2436       3196\n",
       "Hamburg           2977      2018      597    714      1115     460        460\n",
       "Hook of Holland   3030      1490      172    330       731     269        269\n",
       "Lisbon            4532      1305     2084   2052      1827    2290       2971\n",
       "Lyons             2753       645      690    739       789     714       1458\n",
       "Madrid            3949       636     1558   1550      1347    1764       2498\n",
       "Marseilles        2865       521     1011   1059      1101    1035       1778\n",
       "Milan             2282      1014      925   1077      1209     911       1537\n",
       "Munich            2179      1365      747    977      1160     583       1104\n",
       "Paris             3000      1033      285    280       340     465       1176\n",
       "Rome               817      1460     1511   1662      1794    1497       2050\n",
       "Stockholm         3927      2868     1616   1786      2196    1403        650\n",
       "Vienna            1991      1802     1175   1381      1588     937       1455\n",
       "                Geneva Gibraltar Hamburg Hook of Holland Lisbon Lyons Madrid\n",
       "Barcelona                                                                   \n",
       "Brussels                                                                    \n",
       "Calais                                                                      \n",
       "Cherbourg                                                                   \n",
       "Cologne                                                                     \n",
       "Copenhagen                                                                  \n",
       "Geneva                                                                      \n",
       "Gibraltar         1975                                                      \n",
       "Hamburg           1118      2897                                            \n",
       "Hook of Holland    895      2428     550                                    \n",
       "Lisbon            1936       676    2671            2280                    \n",
       "Lyons              158      1817    1159             863   1178             \n",
       "Madrid            1439       698    2198            1730    668  1281       \n",
       "Marseilles         425      1693    1479            1183   1762   320   1157\n",
       "Milan              328      2185    1238            1098   2250   328   1724\n",
       "Munich             591      2565     805             851   2507   724   2010\n",
       "Paris              513      1971     877             457   1799   471   1273\n",
       "Rome               995      2631    1751            1683   2700  1048   2097\n",
       "Stockholm         2068      3886     949            1500   3231  2108   3188\n",
       "Vienna            1019      2974    1155            1205   2937  1157   2409\n",
       "                Marseilles Milan Munich Paris Rome Stockholm\n",
       "Barcelona                                                   \n",
       "Brussels                                                    \n",
       "Calais                                                      \n",
       "Cherbourg                                                   \n",
       "Cologne                                                     \n",
       "Copenhagen                                                  \n",
       "Geneva                                                      \n",
       "Gibraltar                                                   \n",
       "Hamburg                                                     \n",
       "Hook of Holland                                             \n",
       "Lisbon                                                      \n",
       "Lyons                                                       \n",
       "Madrid                                                      \n",
       "Marseilles                                                  \n",
       "Milan                  618                                  \n",
       "Munich                1109   331                            \n",
       "Paris                  792   856    821                     \n",
       "Rome                  1011   586    946  1476               \n",
       "Stockholm             2428  2187   1754  1827 2707          \n",
       "Vienna                1363   898    428  1249 1209      2105"
      ]
     },
     "metadata": {},
     "output_type": "display_data"
    }
   ],
   "source": [
    "data(eurodist)\n",
    "eurodist"
   ]
  },
  {
   "cell_type": "code",
   "execution_count": 4,
   "metadata": {},
   "outputs": [
    {
     "data": {
      "text/html": [
       "<table>\n",
       "<caption>A matrix: 21 × 2 of type dbl</caption>\n",
       "<tbody>\n",
       "\t<tr><th scope=row>Athens</th><td> 2290.274680</td><td> 1798.80293</td></tr>\n",
       "\t<tr><th scope=row>Barcelona</th><td> -825.382790</td><td>  546.81148</td></tr>\n",
       "\t<tr><th scope=row>Brussels</th><td>   59.183341</td><td> -367.08135</td></tr>\n",
       "\t<tr><th scope=row>Calais</th><td>  -82.845973</td><td> -429.91466</td></tr>\n",
       "\t<tr><th scope=row>Cherbourg</th><td> -352.499435</td><td> -290.90843</td></tr>\n",
       "\t<tr><th scope=row>Cologne</th><td>  293.689633</td><td> -405.31194</td></tr>\n",
       "\t<tr><th scope=row>Copenhagen</th><td>  681.931545</td><td>-1108.64478</td></tr>\n",
       "\t<tr><th scope=row>Geneva</th><td>   -9.423364</td><td>  240.40600</td></tr>\n",
       "\t<tr><th scope=row>Gibraltar</th><td>-2048.449113</td><td>  642.45854</td></tr>\n",
       "\t<tr><th scope=row>Hamburg</th><td>  561.108970</td><td> -773.36929</td></tr>\n",
       "\t<tr><th scope=row>Hook of Holland</th><td>  164.921799</td><td> -549.36704</td></tr>\n",
       "\t<tr><th scope=row>Lisbon</th><td>-1935.040811</td><td>   49.12514</td></tr>\n",
       "\t<tr><th scope=row>Lyons</th><td> -226.423236</td><td>  187.08779</td></tr>\n",
       "\t<tr><th scope=row>Madrid</th><td>-1423.353697</td><td>  305.87513</td></tr>\n",
       "\t<tr><th scope=row>Marseilles</th><td> -299.498710</td><td>  388.80726</td></tr>\n",
       "\t<tr><th scope=row>Milan</th><td>  260.878046</td><td>  416.67381</td></tr>\n",
       "\t<tr><th scope=row>Munich</th><td>  587.675679</td><td>   81.18224</td></tr>\n",
       "\t<tr><th scope=row>Paris</th><td> -156.836257</td><td> -211.13911</td></tr>\n",
       "\t<tr><th scope=row>Rome</th><td>  709.413282</td><td> 1109.36665</td></tr>\n",
       "\t<tr><th scope=row>Stockholm</th><td>  839.445911</td><td>-1836.79055</td></tr>\n",
       "\t<tr><th scope=row>Vienna</th><td>  911.230500</td><td>  205.93020</td></tr>\n",
       "</tbody>\n",
       "</table>\n"
      ],
      "text/latex": [
       "A matrix: 21 × 2 of type dbl\n",
       "\\begin{tabular}{r|ll}\n",
       "\tAthens &  2290.274680 &  1798.80293\\\\\n",
       "\tBarcelona &  -825.382790 &   546.81148\\\\\n",
       "\tBrussels &    59.183341 &  -367.08135\\\\\n",
       "\tCalais &   -82.845973 &  -429.91466\\\\\n",
       "\tCherbourg &  -352.499435 &  -290.90843\\\\\n",
       "\tCologne &   293.689633 &  -405.31194\\\\\n",
       "\tCopenhagen &   681.931545 & -1108.64478\\\\\n",
       "\tGeneva &    -9.423364 &   240.40600\\\\\n",
       "\tGibraltar & -2048.449113 &   642.45854\\\\\n",
       "\tHamburg &   561.108970 &  -773.36929\\\\\n",
       "\tHook of Holland &   164.921799 &  -549.36704\\\\\n",
       "\tLisbon & -1935.040811 &    49.12514\\\\\n",
       "\tLyons &  -226.423236 &   187.08779\\\\\n",
       "\tMadrid & -1423.353697 &   305.87513\\\\\n",
       "\tMarseilles &  -299.498710 &   388.80726\\\\\n",
       "\tMilan &   260.878046 &   416.67381\\\\\n",
       "\tMunich &   587.675679 &    81.18224\\\\\n",
       "\tParis &  -156.836257 &  -211.13911\\\\\n",
       "\tRome &   709.413282 &  1109.36665\\\\\n",
       "\tStockholm &   839.445911 & -1836.79055\\\\\n",
       "\tVienna &   911.230500 &   205.93020\\\\\n",
       "\\end{tabular}\n"
      ],
      "text/markdown": [
       "\n",
       "A matrix: 21 × 2 of type dbl\n",
       "\n",
       "| Athens |  2290.274680 |  1798.80293 |\n",
       "| Barcelona |  -825.382790 |   546.81148 |\n",
       "| Brussels |    59.183341 |  -367.08135 |\n",
       "| Calais |   -82.845973 |  -429.91466 |\n",
       "| Cherbourg |  -352.499435 |  -290.90843 |\n",
       "| Cologne |   293.689633 |  -405.31194 |\n",
       "| Copenhagen |   681.931545 | -1108.64478 |\n",
       "| Geneva |    -9.423364 |   240.40600 |\n",
       "| Gibraltar | -2048.449113 |   642.45854 |\n",
       "| Hamburg |   561.108970 |  -773.36929 |\n",
       "| Hook of Holland |   164.921799 |  -549.36704 |\n",
       "| Lisbon | -1935.040811 |    49.12514 |\n",
       "| Lyons |  -226.423236 |   187.08779 |\n",
       "| Madrid | -1423.353697 |   305.87513 |\n",
       "| Marseilles |  -299.498710 |   388.80726 |\n",
       "| Milan |   260.878046 |   416.67381 |\n",
       "| Munich |   587.675679 |    81.18224 |\n",
       "| Paris |  -156.836257 |  -211.13911 |\n",
       "| Rome |   709.413282 |  1109.36665 |\n",
       "| Stockholm |   839.445911 | -1836.79055 |\n",
       "| Vienna |   911.230500 |   205.93020 |\n",
       "\n"
      ],
      "text/plain": [
       "                [,1]         [,2]       \n",
       "Athens           2290.274680  1798.80293\n",
       "Barcelona        -825.382790   546.81148\n",
       "Brussels           59.183341  -367.08135\n",
       "Calais            -82.845973  -429.91466\n",
       "Cherbourg        -352.499435  -290.90843\n",
       "Cologne           293.689633  -405.31194\n",
       "Copenhagen        681.931545 -1108.64478\n",
       "Geneva             -9.423364   240.40600\n",
       "Gibraltar       -2048.449113   642.45854\n",
       "Hamburg           561.108970  -773.36929\n",
       "Hook of Holland   164.921799  -549.36704\n",
       "Lisbon          -1935.040811    49.12514\n",
       "Lyons            -226.423236   187.08779\n",
       "Madrid          -1423.353697   305.87513\n",
       "Marseilles       -299.498710   388.80726\n",
       "Milan             260.878046   416.67381\n",
       "Munich            587.675679    81.18224\n",
       "Paris            -156.836257  -211.13911\n",
       "Rome              709.413282  1109.36665\n",
       "Stockholm         839.445911 -1836.79055\n",
       "Vienna            911.230500   205.93020"
      ]
     },
     "metadata": {},
     "output_type": "display_data"
    }
   ],
   "source": [
    "loc <- cmdscale(eurodist)\n",
    "loc"
   ]
  },
  {
   "cell_type": "markdown",
   "metadata": {},
   "source": [
    "eurodist는 각 도시 사이의 거리를 포함하는 행렬형태의 자료이다.\n",
    "\n",
    "##### cmdscale 함수를 사용하여 각 도시의 상대적 위치를 도식화할 수 있는 X, Y 좌표를 계산하고 그래프로 표현한다.\n",
    "각 개체에 대한 특정 변수들의 관측치는 없더라도 개체 간의 유사성에 대한 자료를 사용하여 산점도를 그릴 수 있다."
   ]
  },
  {
   "cell_type": "code",
   "execution_count": 5,
   "metadata": {},
   "outputs": [
    {
     "data": {
      "image/png": "[encoded data removed]",
      "text/plain": [
       "Plot with title “eurodist”"
      ]
     },
     "metadata": {},
     "output_type": "display_data"
    }
   ],
   "source": [
    "x <- loc[,1]\n",
    "y <- loc[,2]\n",
    "plot(x, y, type=\"n\", main=\"eurodist\")\n",
    "text(x,y,rownames(loc), cex=0.8)\n",
    "abline(v=0, h=0)"
   ]
  }
 ],
 "metadata": {
  "kernelspec": {
   "display_name": "R",
   "language": "R",
   "name": "ir"
  },
  "language_info": {
   "codemirror_mode": "r",
   "file_extension": ".r",
   "mimetype": "text/x-r-source",
   "name": "R",
   "pygments_lexer": "r",
   "version": "3.5.1"
  },
  "toc": {
   "base_numbering": 1,
   "nav_menu": {},
   "number_sections": true,
   "sideBar": true,
   "skip_h1_title": false,
   "title_cell": "Table of Contents",
   "title_sidebar": "Contents",
   "toc_cell": false,
   "toc_position": {},
   "toc_section_display": true,
   "toc_window_display": true
  }
 },
 "nbformat": 4,
 "nbformat_minor": 2
}
