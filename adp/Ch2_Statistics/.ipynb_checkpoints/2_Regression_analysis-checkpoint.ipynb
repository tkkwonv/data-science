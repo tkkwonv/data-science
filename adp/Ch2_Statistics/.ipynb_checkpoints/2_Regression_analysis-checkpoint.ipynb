{
 "cells": [
  {
   "cell_type": "markdown",
   "metadata": {},
   "source": [
    "# 회귀분석"
   ]
  },
  {
   "cell_type": "markdown",
   "metadata": {},
   "source": [
    "## 단순회귀분석과 다중회귀분석\n",
    "회귀분석이란 하나나 그 이상의 변수들이 또 다른 변수에 미치는 영향에 대해 추론할 수 있는 통계기법이다.\n",
    "\n",
    "* 종속변수: 영향을 받는 변수(예측되는 변수), 보통 y로 표기\n",
    "* 독립변수: 영향을 주는 변수(설명변수), 보통 x,x1,x2 등으로 표기\n",
    "\n",
    "회귀계수의 추정치는 보통 제곱오차를 최소로 하는 값으로 구한다. 이와같이 구해진 회귀계수의 추정량을 최소제곱추정량(Least Squares Estimator 혹은 LSE)라고 한다."
   ]
  },
  {
   "cell_type": "markdown",
   "metadata": {},
   "source": [
    "### 모형 선정시 체크해야할 사항\n",
    "\n",
    "##### 모형이 통계적으로 유의미한가?\n",
    "F통계량을 확인한다. 유의수준 5%하에서 F통계량의 p-값이 0.05보다 작으면 추정된 회귀식은 통계적으로 유의미하다고 볼 수 있다.\n",
    "\n",
    "##### 회귀계수들이 유의미한가?\n",
    "해당 계수의 t통계량과 p-값 또는 이들의 신뢰구간을 확인한다.\n",
    "p-value가 0.05 이하이면 대립가설을 채택한다.\n",
    "\n",
    "##### 모형이 얼마나 설명력을 갖는가?\n",
    "결정계수를 확인한다. 결정계수는 0에서 1값을 가지며, 높은 값을 가질수록 추정된 회귀식의 설명력이 높다.\n",
    "\n",
    "##### 모형이 데이터를 잘 적합하고 있는가?\n",
    "잔차를 그래프로 그리고 회귀진단을 한다.\n",
    "\n",
    "##### 데이터가 아래의 모형 가정을 만족하는가?\n",
    "* 가정 : 선형성,독립성, 등분산성, 비상관성, 정상성"
   ]
  },
  {
   "cell_type": "markdown",
   "metadata": {},
   "source": [
    "### 단순선형회귀모형 : 독립변수 n개가 x1,x2,..와 같이 주어지고, 종속변수는 독립변수에 대해 쌍으로 y1,y2,...와 같이 주어진 자료에 적합할 수 있다.\n",
    "##### 설명변수가 1개이며 반응변수와의 관계가 직선"
   ]
  },
  {
   "cell_type": "code",
   "execution_count": 1,
   "metadata": {},
   "outputs": [
    {
     "data": {
      "text/html": [
       "<table>\n",
       "<caption>A data.frame: 10 × 2</caption>\n",
       "<thead>\n",
       "\t<tr><th scope=col>x</th><th scope=col>y</th></tr>\n",
       "\t<tr><th scope=col>&lt;dbl&gt;</th><th scope=col>&lt;dbl&gt;</th></tr>\n",
       "</thead>\n",
       "<tbody>\n",
       "\t<tr><td> 2.033705</td><td> 8.127599</td></tr>\n",
       "\t<tr><td> 7.726114</td><td>25.319934</td></tr>\n",
       "\t<tr><td> 6.306590</td><td>20.871829</td></tr>\n",
       "\t<tr><td> 1.848571</td><td> 7.942608</td></tr>\n",
       "\t<tr><td>10.382233</td><td>33.118941</td></tr>\n",
       "\t<tr><td>10.378225</td><td>33.218204</td></tr>\n",
       "\t<tr><td> 1.420749</td><td> 6.458597</td></tr>\n",
       "\t<tr><td> 9.167937</td><td>29.425272</td></tr>\n",
       "\t<tr><td> 5.148204</td><td>17.236677</td></tr>\n",
       "\t<tr><td> 6.049821</td><td>20.505909</td></tr>\n",
       "</tbody>\n",
       "</table>\n"
      ],
      "text/latex": [
       "A data.frame: 10 × 2\n",
       "\\begin{tabular}{r|ll}\n",
       " x & y\\\\\n",
       " <dbl> & <dbl>\\\\\n",
       "\\hline\n",
       "\t  2.033705 &  8.127599\\\\\n",
       "\t  7.726114 & 25.319934\\\\\n",
       "\t  6.306590 & 20.871829\\\\\n",
       "\t  1.848571 &  7.942608\\\\\n",
       "\t 10.382233 & 33.118941\\\\\n",
       "\t 10.378225 & 33.218204\\\\\n",
       "\t  1.420749 &  6.458597\\\\\n",
       "\t  9.167937 & 29.425272\\\\\n",
       "\t  5.148204 & 17.236677\\\\\n",
       "\t  6.049821 & 20.505909\\\\\n",
       "\\end{tabular}\n"
      ],
      "text/markdown": [
       "\n",
       "A data.frame: 10 × 2\n",
       "\n",
       "| x &lt;dbl&gt; | y &lt;dbl&gt; |\n",
       "|---|---|\n",
       "|  2.033705 |  8.127599 |\n",
       "|  7.726114 | 25.319934 |\n",
       "|  6.306590 | 20.871829 |\n",
       "|  1.848571 |  7.942608 |\n",
       "| 10.382233 | 33.118941 |\n",
       "| 10.378225 | 33.218204 |\n",
       "|  1.420749 |  6.458597 |\n",
       "|  9.167937 | 29.425272 |\n",
       "|  5.148204 | 17.236677 |\n",
       "|  6.049821 | 20.505909 |\n",
       "\n"
      ],
      "text/plain": [
       "   x         y        \n",
       "1   2.033705  8.127599\n",
       "2   7.726114 25.319934\n",
       "3   6.306590 20.871829\n",
       "4   1.848571  7.942608\n",
       "5  10.382233 33.118941\n",
       "6  10.378225 33.218204\n",
       "7   1.420749  6.458597\n",
       "8   9.167937 29.425272\n",
       "9   5.148204 17.236677\n",
       "10  6.049821 20.505909"
      ]
     },
     "metadata": {},
     "output_type": "display_data"
    }
   ],
   "source": [
    "set.seed(2)\n",
    "x = runif(10,0,11)\n",
    "y = 2 + 3*x + rnorm(10,0,0.2)\n",
    "dfrm = data.frame(x,y)\n",
    "dfrm"
   ]
  },
  {
   "cell_type": "code",
   "execution_count": 2,
   "metadata": {},
   "outputs": [
    {
     "data": {
      "text/plain": [
       "\n",
       "Call:\n",
       "lm(formula = y ~ x, data = dfrm)\n",
       "\n",
       "Coefficients:\n",
       "(Intercept)            x  \n",
       "      2.213        2.979  \n"
      ]
     },
     "metadata": {},
     "output_type": "display_data"
    }
   ],
   "source": [
    "lm(y~x, data=dfrm)"
   ]
  },
  {
   "cell_type": "markdown",
   "metadata": {},
   "source": [
    "dfrm에서 단순회귀분석을 했다. 이 경우 회귀방정식은 y = 2.213x + 2.979"
   ]
  },
  {
   "cell_type": "markdown",
   "metadata": {},
   "source": [
    "### 다중회귀분석모형: 단순회귀모형이 종속변수이 변동을 설명하는데 충분하지 않다면 두개 이상의 독립변수를 사용하여 종속변수의 변화를 설명한다.\n",
    "##### 설명변수가 k개이며 반응변수와의 관계가 선형(1차 함수)"
   ]
  },
  {
   "cell_type": "code",
   "execution_count": 4,
   "metadata": {},
   "outputs": [
    {
     "data": {
      "text/html": [
       "<table>\n",
       "<caption>A data.frame: 10 × 4</caption>\n",
       "<thead>\n",
       "\t<tr><th scope=col>y</th><th scope=col>u</th><th scope=col>v</th><th scope=col>w</th></tr>\n",
       "\t<tr><th scope=col>&lt;dbl&gt;</th><th scope=col>&lt;dbl&gt;</th><th scope=col>&lt;dbl&gt;</th><th scope=col>&lt;dbl&gt;</th></tr>\n",
       "</thead>\n",
       "<tbody>\n",
       "\t<tr><td>43.36239</td><td> 2.033705</td><td>15.97407</td><td>20.195064</td></tr>\n",
       "\t<tr><td>28.33835</td><td> 7.726114</td><td>13.15005</td><td>12.238937</td></tr>\n",
       "\t<tr><td>54.17381</td><td> 6.306590</td><td>17.84462</td><td>25.269786</td></tr>\n",
       "\t<tr><td>14.01522</td><td> 1.848571</td><td>12.62738</td><td> 5.364542</td></tr>\n",
       "\t<tr><td>26.22324</td><td>10.382233</td><td>14.64754</td><td>11.070895</td></tr>\n",
       "\t<tr><td>34.59575</td><td>10.378225</td><td>18.68194</td><td>15.174424</td></tr>\n",
       "\t<tr><td>13.67840</td><td> 1.420749</td><td>19.78759</td><td> 5.328159</td></tr>\n",
       "\t<tr><td>26.78539</td><td> 9.167937</td><td>13.03243</td><td>11.354815</td></tr>\n",
       "\t<tr><td>61.54364</td><td> 5.148204</td><td>15.00328</td><td>28.916677</td></tr>\n",
       "\t<tr><td>13.28305</td><td> 6.049821</td><td>11.67481</td><td> 4.838788</td></tr>\n",
       "</tbody>\n",
       "</table>\n"
      ],
      "text/latex": [
       "A data.frame: 10 × 4\n",
       "\\begin{tabular}{r|llll}\n",
       " y & u & v & w\\\\\n",
       " <dbl> & <dbl> & <dbl> & <dbl>\\\\\n",
       "\\hline\n",
       "\t 43.36239 &  2.033705 & 15.97407 & 20.195064\\\\\n",
       "\t 28.33835 &  7.726114 & 13.15005 & 12.238937\\\\\n",
       "\t 54.17381 &  6.306590 & 17.84462 & 25.269786\\\\\n",
       "\t 14.01522 &  1.848571 & 12.62738 &  5.364542\\\\\n",
       "\t 26.22324 & 10.382233 & 14.64754 & 11.070895\\\\\n",
       "\t 34.59575 & 10.378225 & 18.68194 & 15.174424\\\\\n",
       "\t 13.67840 &  1.420749 & 19.78759 &  5.328159\\\\\n",
       "\t 26.78539 &  9.167937 & 13.03243 & 11.354815\\\\\n",
       "\t 61.54364 &  5.148204 & 15.00328 & 28.916677\\\\\n",
       "\t 13.28305 &  6.049821 & 11.67481 &  4.838788\\\\\n",
       "\\end{tabular}\n"
      ],
      "text/markdown": [
       "\n",
       "A data.frame: 10 × 4\n",
       "\n",
       "| y &lt;dbl&gt; | u &lt;dbl&gt; | v &lt;dbl&gt; | w &lt;dbl&gt; |\n",
       "|---|---|---|---|\n",
       "| 43.36239 |  2.033705 | 15.97407 | 20.195064 |\n",
       "| 28.33835 |  7.726114 | 13.15005 | 12.238937 |\n",
       "| 54.17381 |  6.306590 | 17.84462 | 25.269786 |\n",
       "| 14.01522 |  1.848571 | 12.62738 |  5.364542 |\n",
       "| 26.22324 | 10.382233 | 14.64754 | 11.070895 |\n",
       "| 34.59575 | 10.378225 | 18.68194 | 15.174424 |\n",
       "| 13.67840 |  1.420749 | 19.78759 |  5.328159 |\n",
       "| 26.78539 |  9.167937 | 13.03243 | 11.354815 |\n",
       "| 61.54364 |  5.148204 | 15.00328 | 28.916677 |\n",
       "| 13.28305 |  6.049821 | 11.67481 |  4.838788 |\n",
       "\n"
      ],
      "text/plain": [
       "   y        u         v        w        \n",
       "1  43.36239  2.033705 15.97407 20.195064\n",
       "2  28.33835  7.726114 13.15005 12.238937\n",
       "3  54.17381  6.306590 17.84462 25.269786\n",
       "4  14.01522  1.848571 12.62738  5.364542\n",
       "5  26.22324 10.382233 14.64754 11.070895\n",
       "6  34.59575 10.378225 18.68194 15.174424\n",
       "7  13.67840  1.420749 19.78759  5.328159\n",
       "8  26.78539  9.167937 13.03243 11.354815\n",
       "9  61.54364  5.148204 15.00328 28.916677\n",
       "10 13.28305  6.049821 11.67481  4.838788"
      ]
     },
     "metadata": {},
     "output_type": "display_data"
    }
   ],
   "source": [
    "set.seed(2)\n",
    "u = runif(10,0,11)\n",
    "v = runif(10,11,20)\n",
    "w = runif(10,1,30)\n",
    "y = 3 + 0.1*u + 2*w + rnorm(10,0,0.1)\n",
    "dfrm=data.frame(y,u,v,w)\n",
    "dfrm"
   ]
  },
  {
   "cell_type": "code",
   "execution_count": 9,
   "metadata": {},
   "outputs": [
    {
     "data": {
      "text/plain": [
       "\n",
       "Call:\n",
       "lm(formula = y ~ u + v + w)\n",
       "\n",
       "Coefficients:\n",
       "(Intercept)            u            v            w  \n",
       "    3.04165      0.12317     -0.01098      2.00218  \n"
      ]
     },
     "metadata": {},
     "output_type": "display_data"
    }
   ],
   "source": [
    "m = lm(formula = y ~ u + v + w)\n",
    "m"
   ]
  },
  {
   "cell_type": "markdown",
   "metadata": {},
   "source": [
    "다중선형회귀식은 y = 3.04165 + 0.12317u - 0.01098v + 2.00218w "
   ]
  },
  {
   "cell_type": "code",
   "execution_count": 10,
   "metadata": {},
   "outputs": [
    {
     "data": {
      "text/plain": [
       "\n",
       "Call:\n",
       "lm(formula = y ~ u + v + w)\n",
       "\n",
       "Residuals:\n",
       "      Min        1Q    Median        3Q       Max \n",
       "-0.188562 -0.058632 -0.002013  0.080024  0.143757 \n",
       "\n",
       "Coefficients:\n",
       "             Estimate Std. Error t value Pr(>|t|)    \n",
       "(Intercept)  3.041653   0.264808  11.486 2.62e-05 ***\n",
       "u            0.123173   0.012841   9.592 7.34e-05 ***\n",
       "v           -0.010983   0.016586  -0.662    0.532    \n",
       "w            2.002184   0.005421 369.326 2.66e-14 ***\n",
       "---\n",
       "Signif. codes:  0 ‘***’ 0.001 ‘**’ 0.01 ‘*’ 0.05 ‘.’ 0.1 ‘ ’ 1\n",
       "\n",
       "Residual standard error: 0.1303 on 6 degrees of freedom\n",
       "Multiple R-squared:      1,\tAdjusted R-squared:  0.9999 \n",
       "F-statistic: 5.07e+04 on 3 and 6 DF,  p-value: 1.342e-13\n"
      ]
     },
     "metadata": {},
     "output_type": "display_data"
    }
   ],
   "source": [
    "summary(m)"
   ]
  },
  {
   "cell_type": "markdown",
   "metadata": {},
   "source": [
    "##### F통계량= 5.07e+04 이며 p-값이 1.342e-13으로 유의수준 5%하에서 추정된 회귀 모형이 통계적으로 매우 유의함을 볼 수 있다.\n",
    "결정계수 1이며 수정된 결정계수 0.999로 이 회귀식이 데이터를 매우 잘 설명하고 있음을 알 수 있다.\n",
    "또한 회귀계수 u, v, w 들의 p-값들도 0.01보다 작으므로 회귀계수의 추정치들이 통계적으로 유의하다.\n"
   ]
  },
  {
   "cell_type": "markdown",
   "metadata": {},
   "source": [
    "## SAMPLE"
   ]
  },
  {
   "cell_type": "markdown",
   "metadata": {},
   "source": [
    "### 단순회귀분석\n",
    "시간의 경과에 따른 닭들의 몸무게를 단순회귀분석을 해본다.\n",
    "* 식이요법 방법을 적용한 닭에 대한 데이터"
   ]
  },
  {
   "cell_type": "code",
   "execution_count": 13,
   "metadata": {},
   "outputs": [],
   "source": [
    "library(MASS)"
   ]
  },
  {
   "cell_type": "code",
   "execution_count": 14,
   "metadata": {},
   "outputs": [
    {
     "data": {
      "text/html": [
       "<table>\n",
       "<caption>A nfnGroupedData: 6 × 4</caption>\n",
       "<thead>\n",
       "\t<tr><th scope=col>weight</th><th scope=col>Time</th><th scope=col>Chick</th><th scope=col>Diet</th></tr>\n",
       "\t<tr><th scope=col>&lt;dbl&gt;</th><th scope=col>&lt;dbl&gt;</th><th scope=col>&lt;ord&gt;</th><th scope=col>&lt;fct&gt;</th></tr>\n",
       "</thead>\n",
       "<tbody>\n",
       "\t<tr><td>42</td><td> 0</td><td>1</td><td>1</td></tr>\n",
       "\t<tr><td>51</td><td> 2</td><td>1</td><td>1</td></tr>\n",
       "\t<tr><td>59</td><td> 4</td><td>1</td><td>1</td></tr>\n",
       "\t<tr><td>64</td><td> 6</td><td>1</td><td>1</td></tr>\n",
       "\t<tr><td>76</td><td> 8</td><td>1</td><td>1</td></tr>\n",
       "\t<tr><td>93</td><td>10</td><td>1</td><td>1</td></tr>\n",
       "</tbody>\n",
       "</table>\n"
      ],
      "text/latex": [
       "A nfnGroupedData: 6 × 4\n",
       "\\begin{tabular}{r|llll}\n",
       " weight & Time & Chick & Diet\\\\\n",
       " <dbl> & <dbl> & <ord> & <fct>\\\\\n",
       "\\hline\n",
       "\t 42 &  0 & 1 & 1\\\\\n",
       "\t 51 &  2 & 1 & 1\\\\\n",
       "\t 59 &  4 & 1 & 1\\\\\n",
       "\t 64 &  6 & 1 & 1\\\\\n",
       "\t 76 &  8 & 1 & 1\\\\\n",
       "\t 93 & 10 & 1 & 1\\\\\n",
       "\\end{tabular}\n"
      ],
      "text/markdown": [
       "\n",
       "A nfnGroupedData: 6 × 4\n",
       "\n",
       "| weight &lt;dbl&gt; | Time &lt;dbl&gt; | Chick &lt;ord&gt; | Diet &lt;fct&gt; |\n",
       "|---|---|---|---|\n",
       "| 42 |  0 | 1 | 1 |\n",
       "| 51 |  2 | 1 | 1 |\n",
       "| 59 |  4 | 1 | 1 |\n",
       "| 64 |  6 | 1 | 1 |\n",
       "| 76 |  8 | 1 | 1 |\n",
       "| 93 | 10 | 1 | 1 |\n",
       "\n"
      ],
      "text/plain": [
       "  weight Time Chick Diet\n",
       "1 42      0   1     1   \n",
       "2 51      2   1     1   \n",
       "3 59      4   1     1   \n",
       "4 64      6   1     1   \n",
       "5 76      8   1     1   \n",
       "6 93     10   1     1   "
      ]
     },
     "metadata": {},
     "output_type": "display_data"
    }
   ],
   "source": [
    "head(ChickWeight)"
   ]
  },
  {
   "cell_type": "markdown",
   "metadata": {},
   "source": [
    "1번 닭에게 식이요법 방법 1을 적용한 데이터만 조회해 chick 변수에 할당한다."
   ]
  },
  {
   "cell_type": "code",
   "execution_count": 22,
   "metadata": {},
   "outputs": [],
   "source": [
    "Chick <- ChickWeight[ChickWeight$Diet==1,]"
   ]
  },
  {
   "cell_type": "code",
   "execution_count": 23,
   "metadata": {},
   "outputs": [
    {
     "data": {
      "text/html": [
       "<table>\n",
       "<caption>A nfnGroupedData: 220 × 4</caption>\n",
       "<thead>\n",
       "\t<tr><th scope=col>weight</th><th scope=col>Time</th><th scope=col>Chick</th><th scope=col>Diet</th></tr>\n",
       "\t<tr><th scope=col>&lt;dbl&gt;</th><th scope=col>&lt;dbl&gt;</th><th scope=col>&lt;ord&gt;</th><th scope=col>&lt;fct&gt;</th></tr>\n",
       "</thead>\n",
       "<tbody>\n",
       "\t<tr><td> 42</td><td> 0</td><td>1</td><td>1</td></tr>\n",
       "\t<tr><td> 51</td><td> 2</td><td>1</td><td>1</td></tr>\n",
       "\t<tr><td> 59</td><td> 4</td><td>1</td><td>1</td></tr>\n",
       "\t<tr><td> 64</td><td> 6</td><td>1</td><td>1</td></tr>\n",
       "\t<tr><td> 76</td><td> 8</td><td>1</td><td>1</td></tr>\n",
       "\t<tr><td> 93</td><td>10</td><td>1</td><td>1</td></tr>\n",
       "\t<tr><td>106</td><td>12</td><td>1</td><td>1</td></tr>\n",
       "\t<tr><td>125</td><td>14</td><td>1</td><td>1</td></tr>\n",
       "\t<tr><td>149</td><td>16</td><td>1</td><td>1</td></tr>\n",
       "\t<tr><td>171</td><td>18</td><td>1</td><td>1</td></tr>\n",
       "\t<tr><td>199</td><td>20</td><td>1</td><td>1</td></tr>\n",
       "\t<tr><td>205</td><td>21</td><td>1</td><td>1</td></tr>\n",
       "\t<tr><td> 40</td><td> 0</td><td>2</td><td>1</td></tr>\n",
       "\t<tr><td> 49</td><td> 2</td><td>2</td><td>1</td></tr>\n",
       "\t<tr><td> 58</td><td> 4</td><td>2</td><td>1</td></tr>\n",
       "\t<tr><td> 72</td><td> 6</td><td>2</td><td>1</td></tr>\n",
       "\t<tr><td> 84</td><td> 8</td><td>2</td><td>1</td></tr>\n",
       "\t<tr><td>103</td><td>10</td><td>2</td><td>1</td></tr>\n",
       "\t<tr><td>122</td><td>12</td><td>2</td><td>1</td></tr>\n",
       "\t<tr><td>138</td><td>14</td><td>2</td><td>1</td></tr>\n",
       "\t<tr><td>162</td><td>16</td><td>2</td><td>1</td></tr>\n",
       "\t<tr><td>187</td><td>18</td><td>2</td><td>1</td></tr>\n",
       "\t<tr><td>209</td><td>20</td><td>2</td><td>1</td></tr>\n",
       "\t<tr><td>215</td><td>21</td><td>2</td><td>1</td></tr>\n",
       "\t<tr><td> 43</td><td> 0</td><td>3</td><td>1</td></tr>\n",
       "\t<tr><td> 39</td><td> 2</td><td>3</td><td>1</td></tr>\n",
       "\t<tr><td> 55</td><td> 4</td><td>3</td><td>1</td></tr>\n",
       "\t<tr><td> 67</td><td> 6</td><td>3</td><td>1</td></tr>\n",
       "\t<tr><td> 84</td><td> 8</td><td>3</td><td>1</td></tr>\n",
       "\t<tr><td> 99</td><td>10</td><td>3</td><td>1</td></tr>\n",
       "\t<tr><td>⋮</td><td>⋮</td><td>⋮</td><td>⋮</td></tr>\n",
       "\t<tr><td>113</td><td>16</td><td>17</td><td>1</td></tr>\n",
       "\t<tr><td>123</td><td>18</td><td>17</td><td>1</td></tr>\n",
       "\t<tr><td>133</td><td>20</td><td>17</td><td>1</td></tr>\n",
       "\t<tr><td>142</td><td>21</td><td>17</td><td>1</td></tr>\n",
       "\t<tr><td> 39</td><td> 0</td><td>18</td><td>1</td></tr>\n",
       "\t<tr><td> 35</td><td> 2</td><td>18</td><td>1</td></tr>\n",
       "\t<tr><td> 43</td><td> 0</td><td>19</td><td>1</td></tr>\n",
       "\t<tr><td> 48</td><td> 2</td><td>19</td><td>1</td></tr>\n",
       "\t<tr><td> 55</td><td> 4</td><td>19</td><td>1</td></tr>\n",
       "\t<tr><td> 62</td><td> 6</td><td>19</td><td>1</td></tr>\n",
       "\t<tr><td> 65</td><td> 8</td><td>19</td><td>1</td></tr>\n",
       "\t<tr><td> 71</td><td>10</td><td>19</td><td>1</td></tr>\n",
       "\t<tr><td> 82</td><td>12</td><td>19</td><td>1</td></tr>\n",
       "\t<tr><td> 88</td><td>14</td><td>19</td><td>1</td></tr>\n",
       "\t<tr><td>106</td><td>16</td><td>19</td><td>1</td></tr>\n",
       "\t<tr><td>120</td><td>18</td><td>19</td><td>1</td></tr>\n",
       "\t<tr><td>144</td><td>20</td><td>19</td><td>1</td></tr>\n",
       "\t<tr><td>157</td><td>21</td><td>19</td><td>1</td></tr>\n",
       "\t<tr><td> 41</td><td> 0</td><td>20</td><td>1</td></tr>\n",
       "\t<tr><td> 47</td><td> 2</td><td>20</td><td>1</td></tr>\n",
       "\t<tr><td> 54</td><td> 4</td><td>20</td><td>1</td></tr>\n",
       "\t<tr><td> 58</td><td> 6</td><td>20</td><td>1</td></tr>\n",
       "\t<tr><td> 65</td><td> 8</td><td>20</td><td>1</td></tr>\n",
       "\t<tr><td> 73</td><td>10</td><td>20</td><td>1</td></tr>\n",
       "\t<tr><td> 77</td><td>12</td><td>20</td><td>1</td></tr>\n",
       "\t<tr><td> 89</td><td>14</td><td>20</td><td>1</td></tr>\n",
       "\t<tr><td> 98</td><td>16</td><td>20</td><td>1</td></tr>\n",
       "\t<tr><td>107</td><td>18</td><td>20</td><td>1</td></tr>\n",
       "\t<tr><td>115</td><td>20</td><td>20</td><td>1</td></tr>\n",
       "\t<tr><td>117</td><td>21</td><td>20</td><td>1</td></tr>\n",
       "</tbody>\n",
       "</table>\n"
      ],
      "text/latex": [
       "A nfnGroupedData: 220 × 4\n",
       "\\begin{tabular}{r|llll}\n",
       " weight & Time & Chick & Diet\\\\\n",
       " <dbl> & <dbl> & <ord> & <fct>\\\\\n",
       "\\hline\n",
       "\t  42 &  0 & 1 & 1\\\\\n",
       "\t  51 &  2 & 1 & 1\\\\\n",
       "\t  59 &  4 & 1 & 1\\\\\n",
       "\t  64 &  6 & 1 & 1\\\\\n",
       "\t  76 &  8 & 1 & 1\\\\\n",
       "\t  93 & 10 & 1 & 1\\\\\n",
       "\t 106 & 12 & 1 & 1\\\\\n",
       "\t 125 & 14 & 1 & 1\\\\\n",
       "\t 149 & 16 & 1 & 1\\\\\n",
       "\t 171 & 18 & 1 & 1\\\\\n",
       "\t 199 & 20 & 1 & 1\\\\\n",
       "\t 205 & 21 & 1 & 1\\\\\n",
       "\t  40 &  0 & 2 & 1\\\\\n",
       "\t  49 &  2 & 2 & 1\\\\\n",
       "\t  58 &  4 & 2 & 1\\\\\n",
       "\t  72 &  6 & 2 & 1\\\\\n",
       "\t  84 &  8 & 2 & 1\\\\\n",
       "\t 103 & 10 & 2 & 1\\\\\n",
       "\t 122 & 12 & 2 & 1\\\\\n",
       "\t 138 & 14 & 2 & 1\\\\\n",
       "\t 162 & 16 & 2 & 1\\\\\n",
       "\t 187 & 18 & 2 & 1\\\\\n",
       "\t 209 & 20 & 2 & 1\\\\\n",
       "\t 215 & 21 & 2 & 1\\\\\n",
       "\t  43 &  0 & 3 & 1\\\\\n",
       "\t  39 &  2 & 3 & 1\\\\\n",
       "\t  55 &  4 & 3 & 1\\\\\n",
       "\t  67 &  6 & 3 & 1\\\\\n",
       "\t  84 &  8 & 3 & 1\\\\\n",
       "\t  99 & 10 & 3 & 1\\\\\n",
       "\t ⋮ & ⋮ & ⋮ & ⋮\\\\\n",
       "\t 113 & 16 & 17 & 1\\\\\n",
       "\t 123 & 18 & 17 & 1\\\\\n",
       "\t 133 & 20 & 17 & 1\\\\\n",
       "\t 142 & 21 & 17 & 1\\\\\n",
       "\t  39 &  0 & 18 & 1\\\\\n",
       "\t  35 &  2 & 18 & 1\\\\\n",
       "\t  43 &  0 & 19 & 1\\\\\n",
       "\t  48 &  2 & 19 & 1\\\\\n",
       "\t  55 &  4 & 19 & 1\\\\\n",
       "\t  62 &  6 & 19 & 1\\\\\n",
       "\t  65 &  8 & 19 & 1\\\\\n",
       "\t  71 & 10 & 19 & 1\\\\\n",
       "\t  82 & 12 & 19 & 1\\\\\n",
       "\t  88 & 14 & 19 & 1\\\\\n",
       "\t 106 & 16 & 19 & 1\\\\\n",
       "\t 120 & 18 & 19 & 1\\\\\n",
       "\t 144 & 20 & 19 & 1\\\\\n",
       "\t 157 & 21 & 19 & 1\\\\\n",
       "\t  41 &  0 & 20 & 1\\\\\n",
       "\t  47 &  2 & 20 & 1\\\\\n",
       "\t  54 &  4 & 20 & 1\\\\\n",
       "\t  58 &  6 & 20 & 1\\\\\n",
       "\t  65 &  8 & 20 & 1\\\\\n",
       "\t  73 & 10 & 20 & 1\\\\\n",
       "\t  77 & 12 & 20 & 1\\\\\n",
       "\t  89 & 14 & 20 & 1\\\\\n",
       "\t  98 & 16 & 20 & 1\\\\\n",
       "\t 107 & 18 & 20 & 1\\\\\n",
       "\t 115 & 20 & 20 & 1\\\\\n",
       "\t 117 & 21 & 20 & 1\\\\\n",
       "\\end{tabular}\n"
      ],
      "text/markdown": [
       "\n",
       "A nfnGroupedData: 220 × 4\n",
       "\n",
       "| weight &lt;dbl&gt; | Time &lt;dbl&gt; | Chick &lt;ord&gt; | Diet &lt;fct&gt; |\n",
       "|---|---|---|---|\n",
       "|  42 |  0 | 1 | 1 |\n",
       "|  51 |  2 | 1 | 1 |\n",
       "|  59 |  4 | 1 | 1 |\n",
       "|  64 |  6 | 1 | 1 |\n",
       "|  76 |  8 | 1 | 1 |\n",
       "|  93 | 10 | 1 | 1 |\n",
       "| 106 | 12 | 1 | 1 |\n",
       "| 125 | 14 | 1 | 1 |\n",
       "| 149 | 16 | 1 | 1 |\n",
       "| 171 | 18 | 1 | 1 |\n",
       "| 199 | 20 | 1 | 1 |\n",
       "| 205 | 21 | 1 | 1 |\n",
       "|  40 |  0 | 2 | 1 |\n",
       "|  49 |  2 | 2 | 1 |\n",
       "|  58 |  4 | 2 | 1 |\n",
       "|  72 |  6 | 2 | 1 |\n",
       "|  84 |  8 | 2 | 1 |\n",
       "| 103 | 10 | 2 | 1 |\n",
       "| 122 | 12 | 2 | 1 |\n",
       "| 138 | 14 | 2 | 1 |\n",
       "| 162 | 16 | 2 | 1 |\n",
       "| 187 | 18 | 2 | 1 |\n",
       "| 209 | 20 | 2 | 1 |\n",
       "| 215 | 21 | 2 | 1 |\n",
       "|  43 |  0 | 3 | 1 |\n",
       "|  39 |  2 | 3 | 1 |\n",
       "|  55 |  4 | 3 | 1 |\n",
       "|  67 |  6 | 3 | 1 |\n",
       "|  84 |  8 | 3 | 1 |\n",
       "|  99 | 10 | 3 | 1 |\n",
       "| ⋮ | ⋮ | ⋮ | ⋮ |\n",
       "| 113 | 16 | 17 | 1 |\n",
       "| 123 | 18 | 17 | 1 |\n",
       "| 133 | 20 | 17 | 1 |\n",
       "| 142 | 21 | 17 | 1 |\n",
       "|  39 |  0 | 18 | 1 |\n",
       "|  35 |  2 | 18 | 1 |\n",
       "|  43 |  0 | 19 | 1 |\n",
       "|  48 |  2 | 19 | 1 |\n",
       "|  55 |  4 | 19 | 1 |\n",
       "|  62 |  6 | 19 | 1 |\n",
       "|  65 |  8 | 19 | 1 |\n",
       "|  71 | 10 | 19 | 1 |\n",
       "|  82 | 12 | 19 | 1 |\n",
       "|  88 | 14 | 19 | 1 |\n",
       "| 106 | 16 | 19 | 1 |\n",
       "| 120 | 18 | 19 | 1 |\n",
       "| 144 | 20 | 19 | 1 |\n",
       "| 157 | 21 | 19 | 1 |\n",
       "|  41 |  0 | 20 | 1 |\n",
       "|  47 |  2 | 20 | 1 |\n",
       "|  54 |  4 | 20 | 1 |\n",
       "|  58 |  6 | 20 | 1 |\n",
       "|  65 |  8 | 20 | 1 |\n",
       "|  73 | 10 | 20 | 1 |\n",
       "|  77 | 12 | 20 | 1 |\n",
       "|  89 | 14 | 20 | 1 |\n",
       "|  98 | 16 | 20 | 1 |\n",
       "| 107 | 18 | 20 | 1 |\n",
       "| 115 | 20 | 20 | 1 |\n",
       "| 117 | 21 | 20 | 1 |\n",
       "\n"
      ],
      "text/plain": [
       "    weight Time Chick Diet\n",
       "1    42     0   1     1   \n",
       "2    51     2   1     1   \n",
       "3    59     4   1     1   \n",
       "4    64     6   1     1   \n",
       "5    76     8   1     1   \n",
       "6    93    10   1     1   \n",
       "7   106    12   1     1   \n",
       "8   125    14   1     1   \n",
       "9   149    16   1     1   \n",
       "10  171    18   1     1   \n",
       "11  199    20   1     1   \n",
       "12  205    21   1     1   \n",
       "13   40     0   2     1   \n",
       "14   49     2   2     1   \n",
       "15   58     4   2     1   \n",
       "16   72     6   2     1   \n",
       "17   84     8   2     1   \n",
       "18  103    10   2     1   \n",
       "19  122    12   2     1   \n",
       "20  138    14   2     1   \n",
       "21  162    16   2     1   \n",
       "22  187    18   2     1   \n",
       "23  209    20   2     1   \n",
       "24  215    21   2     1   \n",
       "25   43     0   3     1   \n",
       "26   39     2   3     1   \n",
       "27   55     4   3     1   \n",
       "28   67     6   3     1   \n",
       "29   84     8   3     1   \n",
       "30   99    10   3     1   \n",
       "⋮   ⋮      ⋮    ⋮     ⋮   \n",
       "191 113    16   17    1   \n",
       "192 123    18   17    1   \n",
       "193 133    20   17    1   \n",
       "194 142    21   17    1   \n",
       "195  39     0   18    1   \n",
       "196  35     2   18    1   \n",
       "197  43     0   19    1   \n",
       "198  48     2   19    1   \n",
       "199  55     4   19    1   \n",
       "200  62     6   19    1   \n",
       "201  65     8   19    1   \n",
       "202  71    10   19    1   \n",
       "203  82    12   19    1   \n",
       "204  88    14   19    1   \n",
       "205 106    16   19    1   \n",
       "206 120    18   19    1   \n",
       "207 144    20   19    1   \n",
       "208 157    21   19    1   \n",
       "209  41     0   20    1   \n",
       "210  47     2   20    1   \n",
       "211  54     4   20    1   \n",
       "212  58     6   20    1   \n",
       "213  65     8   20    1   \n",
       "214  73    10   20    1   \n",
       "215  77    12   20    1   \n",
       "216  89    14   20    1   \n",
       "217  98    16   20    1   \n",
       "218 107    18   20    1   \n",
       "219 115    20   20    1   \n",
       "220 117    21   20    1   "
      ]
     },
     "metadata": {},
     "output_type": "display_data"
    }
   ],
   "source": [
    "Chick"
   ]
  },
  {
   "cell_type": "markdown",
   "metadata": {},
   "source": [
    "chick 데이터세트에서 1번 닭만 조회한다."
   ]
  },
  {
   "cell_type": "code",
   "execution_count": 24,
   "metadata": {},
   "outputs": [],
   "source": [
    "Chick <-ChickWeight[ChickWeight$Chick==1,]"
   ]
  },
  {
   "cell_type": "code",
   "execution_count": 25,
   "metadata": {},
   "outputs": [
    {
     "data": {
      "text/html": [
       "<table>\n",
       "<caption>A nfnGroupedData: 12 × 4</caption>\n",
       "<thead>\n",
       "\t<tr><th scope=col>weight</th><th scope=col>Time</th><th scope=col>Chick</th><th scope=col>Diet</th></tr>\n",
       "\t<tr><th scope=col>&lt;dbl&gt;</th><th scope=col>&lt;dbl&gt;</th><th scope=col>&lt;ord&gt;</th><th scope=col>&lt;fct&gt;</th></tr>\n",
       "</thead>\n",
       "<tbody>\n",
       "\t<tr><td> 42</td><td> 0</td><td>1</td><td>1</td></tr>\n",
       "\t<tr><td> 51</td><td> 2</td><td>1</td><td>1</td></tr>\n",
       "\t<tr><td> 59</td><td> 4</td><td>1</td><td>1</td></tr>\n",
       "\t<tr><td> 64</td><td> 6</td><td>1</td><td>1</td></tr>\n",
       "\t<tr><td> 76</td><td> 8</td><td>1</td><td>1</td></tr>\n",
       "\t<tr><td> 93</td><td>10</td><td>1</td><td>1</td></tr>\n",
       "\t<tr><td>106</td><td>12</td><td>1</td><td>1</td></tr>\n",
       "\t<tr><td>125</td><td>14</td><td>1</td><td>1</td></tr>\n",
       "\t<tr><td>149</td><td>16</td><td>1</td><td>1</td></tr>\n",
       "\t<tr><td>171</td><td>18</td><td>1</td><td>1</td></tr>\n",
       "\t<tr><td>199</td><td>20</td><td>1</td><td>1</td></tr>\n",
       "\t<tr><td>205</td><td>21</td><td>1</td><td>1</td></tr>\n",
       "</tbody>\n",
       "</table>\n"
      ],
      "text/latex": [
       "A nfnGroupedData: 12 × 4\n",
       "\\begin{tabular}{r|llll}\n",
       " weight & Time & Chick & Diet\\\\\n",
       " <dbl> & <dbl> & <ord> & <fct>\\\\\n",
       "\\hline\n",
       "\t  42 &  0 & 1 & 1\\\\\n",
       "\t  51 &  2 & 1 & 1\\\\\n",
       "\t  59 &  4 & 1 & 1\\\\\n",
       "\t  64 &  6 & 1 & 1\\\\\n",
       "\t  76 &  8 & 1 & 1\\\\\n",
       "\t  93 & 10 & 1 & 1\\\\\n",
       "\t 106 & 12 & 1 & 1\\\\\n",
       "\t 125 & 14 & 1 & 1\\\\\n",
       "\t 149 & 16 & 1 & 1\\\\\n",
       "\t 171 & 18 & 1 & 1\\\\\n",
       "\t 199 & 20 & 1 & 1\\\\\n",
       "\t 205 & 21 & 1 & 1\\\\\n",
       "\\end{tabular}\n"
      ],
      "text/markdown": [
       "\n",
       "A nfnGroupedData: 12 × 4\n",
       "\n",
       "| weight &lt;dbl&gt; | Time &lt;dbl&gt; | Chick &lt;ord&gt; | Diet &lt;fct&gt; |\n",
       "|---|---|---|---|\n",
       "|  42 |  0 | 1 | 1 |\n",
       "|  51 |  2 | 1 | 1 |\n",
       "|  59 |  4 | 1 | 1 |\n",
       "|  64 |  6 | 1 | 1 |\n",
       "|  76 |  8 | 1 | 1 |\n",
       "|  93 | 10 | 1 | 1 |\n",
       "| 106 | 12 | 1 | 1 |\n",
       "| 125 | 14 | 1 | 1 |\n",
       "| 149 | 16 | 1 | 1 |\n",
       "| 171 | 18 | 1 | 1 |\n",
       "| 199 | 20 | 1 | 1 |\n",
       "| 205 | 21 | 1 | 1 |\n",
       "\n"
      ],
      "text/plain": [
       "   weight Time Chick Diet\n",
       "1   42     0   1     1   \n",
       "2   51     2   1     1   \n",
       "3   59     4   1     1   \n",
       "4   64     6   1     1   \n",
       "5   76     8   1     1   \n",
       "6   93    10   1     1   \n",
       "7  106    12   1     1   \n",
       "8  125    14   1     1   \n",
       "9  149    16   1     1   \n",
       "10 171    18   1     1   \n",
       "11 199    20   1     1   \n",
       "12 205    21   1     1   "
      ]
     },
     "metadata": {},
     "output_type": "display_data"
    }
   ],
   "source": [
    "Chick"
   ]
  },
  {
   "cell_type": "code",
   "execution_count": 26,
   "metadata": {},
   "outputs": [
    {
     "data": {
      "text/plain": [
       "\n",
       "Call:\n",
       "lm(formula = weight ~ Time, data = Chick)\n",
       "\n",
       "Coefficients:\n",
       "(Intercept)         Time  \n",
       "     24.465        7.988  \n"
      ]
     },
     "metadata": {},
     "output_type": "display_data"
    }
   ],
   "source": [
    "lm(weight~Time, data=Chick)"
   ]
  },
  {
   "cell_type": "markdown",
   "metadata": {},
   "source": [
    "단순선형회귀식은 weight = 7.988*Time + 24.465"
   ]
  },
  {
   "cell_type": "code",
   "execution_count": 28,
   "metadata": {},
   "outputs": [
    {
     "data": {
      "text/plain": [
       "\n",
       "Call:\n",
       "lm(formula = weight ~ Time, data = Chick)\n",
       "\n",
       "Residuals:\n",
       "     Min       1Q   Median       3Q      Max \n",
       "-14.3202 -11.3081  -0.3444  11.1162  17.5346 \n",
       "\n",
       "Coefficients:\n",
       "            Estimate Std. Error t value Pr(>|t|)    \n",
       "(Intercept)  24.4654     6.7279   3.636  0.00456 ** \n",
       "Time          7.9879     0.5236  15.255 2.97e-08 ***\n",
       "---\n",
       "Signif. codes:  0 ‘***’ 0.001 ‘**’ 0.01 ‘*’ 0.05 ‘.’ 0.1 ‘ ’ 1\n",
       "\n",
       "Residual standard error: 12.29 on 10 degrees of freedom\n",
       "Multiple R-squared:  0.9588,\tAdjusted R-squared:  0.9547 \n",
       "F-statistic: 232.7 on 1 and 10 DF,  p-value: 2.974e-08\n"
      ]
     },
     "metadata": {},
     "output_type": "display_data"
    }
   ],
   "source": [
    "summary(lm(weight~Time, data=Chick))"
   ]
  },
  {
   "cell_type": "markdown",
   "metadata": {},
   "source": [
    "* F통계량은 232.7이며 p-값이 2.974e-08로 유의수준 5%하에서 추정된 회귀 모형이 통계적으로 매우 유의함을 볼 수 있다.\n",
    "* 결정계수 또한 0.9588로 매우 높은 값을 보이므로 이 회귀식이 데이터를 96%정도로 설명하고 있음을 알 수 있다.\n",
    "* Time에 대한 회귀계수가 7.99이므로 Time이 1 증가할때 weight가 7.99만큼 증가한다고 해석할 수 있다."
   ]
  },
  {
   "cell_type": "markdown",
   "metadata": {},
   "source": [
    "### 다중회귀분석\n",
    "cars 데이터를 이용해 다중회귀분석"
   ]
  },
  {
   "cell_type": "code",
   "execution_count": 29,
   "metadata": {},
   "outputs": [],
   "source": [
    "data(cars)"
   ]
  },
  {
   "cell_type": "code",
   "execution_count": 30,
   "metadata": {},
   "outputs": [
    {
     "data": {
      "text/html": [
       "<table>\n",
       "<caption>A data.frame: 6 × 2</caption>\n",
       "<thead>\n",
       "\t<tr><th scope=col>speed</th><th scope=col>dist</th></tr>\n",
       "\t<tr><th scope=col>&lt;dbl&gt;</th><th scope=col>&lt;dbl&gt;</th></tr>\n",
       "</thead>\n",
       "<tbody>\n",
       "\t<tr><td>4</td><td> 2</td></tr>\n",
       "\t<tr><td>4</td><td>10</td></tr>\n",
       "\t<tr><td>7</td><td> 4</td></tr>\n",
       "\t<tr><td>7</td><td>22</td></tr>\n",
       "\t<tr><td>8</td><td>16</td></tr>\n",
       "\t<tr><td>9</td><td>10</td></tr>\n",
       "</tbody>\n",
       "</table>\n"
      ],
      "text/latex": [
       "A data.frame: 6 × 2\n",
       "\\begin{tabular}{r|ll}\n",
       " speed & dist\\\\\n",
       " <dbl> & <dbl>\\\\\n",
       "\\hline\n",
       "\t 4 &  2\\\\\n",
       "\t 4 & 10\\\\\n",
       "\t 7 &  4\\\\\n",
       "\t 7 & 22\\\\\n",
       "\t 8 & 16\\\\\n",
       "\t 9 & 10\\\\\n",
       "\\end{tabular}\n"
      ],
      "text/markdown": [
       "\n",
       "A data.frame: 6 × 2\n",
       "\n",
       "| speed &lt;dbl&gt; | dist &lt;dbl&gt; |\n",
       "|---|---|\n",
       "| 4 |  2 |\n",
       "| 4 | 10 |\n",
       "| 7 |  4 |\n",
       "| 7 | 22 |\n",
       "| 8 | 16 |\n",
       "| 9 | 10 |\n",
       "\n"
      ],
      "text/plain": [
       "  speed dist\n",
       "1 4      2  \n",
       "2 4     10  \n",
       "3 7      4  \n",
       "4 7     22  \n",
       "5 8     16  \n",
       "6 9     10  "
      ]
     },
     "metadata": {},
     "output_type": "display_data"
    }
   ],
   "source": [
    "head(cars)"
   ]
  },
  {
   "cell_type": "markdown",
   "metadata": {},
   "source": [
    "cars 데이터세트는 dist와 speed 변수로 구성돼 있다. dist가 speed의 변화에 따라 어떻게 변화하는지 알아보자."
   ]
  },
  {
   "cell_type": "code",
   "execution_count": 32,
   "metadata": {},
   "outputs": [],
   "source": [
    "speed2 <- cars$speed^2"
   ]
  },
  {
   "cell_type": "code",
   "execution_count": 33,
   "metadata": {},
   "outputs": [],
   "source": [
    "cars <- cbind(speed2, cars)"
   ]
  },
  {
   "cell_type": "code",
   "execution_count": 34,
   "metadata": {},
   "outputs": [
    {
     "data": {
      "text/html": [
       "<table>\n",
       "<caption>A data.frame: 6 × 3</caption>\n",
       "<thead>\n",
       "\t<tr><th scope=col>speed2</th><th scope=col>speed</th><th scope=col>dist</th></tr>\n",
       "\t<tr><th scope=col>&lt;dbl&gt;</th><th scope=col>&lt;dbl&gt;</th><th scope=col>&lt;dbl&gt;</th></tr>\n",
       "</thead>\n",
       "<tbody>\n",
       "\t<tr><td>16</td><td>4</td><td> 2</td></tr>\n",
       "\t<tr><td>16</td><td>4</td><td>10</td></tr>\n",
       "\t<tr><td>49</td><td>7</td><td> 4</td></tr>\n",
       "\t<tr><td>49</td><td>7</td><td>22</td></tr>\n",
       "\t<tr><td>64</td><td>8</td><td>16</td></tr>\n",
       "\t<tr><td>81</td><td>9</td><td>10</td></tr>\n",
       "</tbody>\n",
       "</table>\n"
      ],
      "text/latex": [
       "A data.frame: 6 × 3\n",
       "\\begin{tabular}{r|lll}\n",
       " speed2 & speed & dist\\\\\n",
       " <dbl> & <dbl> & <dbl>\\\\\n",
       "\\hline\n",
       "\t 16 & 4 &  2\\\\\n",
       "\t 16 & 4 & 10\\\\\n",
       "\t 49 & 7 &  4\\\\\n",
       "\t 49 & 7 & 22\\\\\n",
       "\t 64 & 8 & 16\\\\\n",
       "\t 81 & 9 & 10\\\\\n",
       "\\end{tabular}\n"
      ],
      "text/markdown": [
       "\n",
       "A data.frame: 6 × 3\n",
       "\n",
       "| speed2 &lt;dbl&gt; | speed &lt;dbl&gt; | dist &lt;dbl&gt; |\n",
       "|---|---|---|\n",
       "| 16 | 4 |  2 |\n",
       "| 16 | 4 | 10 |\n",
       "| 49 | 7 |  4 |\n",
       "| 49 | 7 | 22 |\n",
       "| 64 | 8 | 16 |\n",
       "| 81 | 9 | 10 |\n",
       "\n"
      ],
      "text/plain": [
       "  speed2 speed dist\n",
       "1 16     4      2  \n",
       "2 16     4     10  \n",
       "3 49     7      4  \n",
       "4 49     7     22  \n",
       "5 64     8     16  \n",
       "6 81     9     10  "
      ]
     },
     "metadata": {},
     "output_type": "display_data"
    }
   ],
   "source": [
    "head(cars)"
   ]
  },
  {
   "cell_type": "markdown",
   "metadata": {},
   "source": [
    "또 하나의 설명변수인 speed2를 생성해 원래 데이터인 cars에 cbind했다."
   ]
  },
  {
   "cell_type": "code",
   "execution_count": 36,
   "metadata": {},
   "outputs": [
    {
     "data": {
      "text/plain": [
       "\n",
       "Call:\n",
       "lm(formula = dist ~ speed + speed2, data = cars)\n",
       "\n",
       "Coefficients:\n",
       "(Intercept)        speed       speed2  \n",
       "    2.47014      0.91329      0.09996  \n"
      ]
     },
     "metadata": {},
     "output_type": "display_data"
    }
   ],
   "source": [
    "lm(dist~speed+speed2, data=cars)"
   ]
  },
  {
   "cell_type": "markdown",
   "metadata": {},
   "source": [
    "다중회귀식은 dist = 2.47014 + 0.91329speed + 0.9996speed2로 추정된다."
   ]
  },
  {
   "cell_type": "code",
   "execution_count": 37,
   "metadata": {},
   "outputs": [
    {
     "data": {
      "text/plain": [
       "\n",
       "Call:\n",
       "lm(formula = dist ~ speed + speed2, data = cars)\n",
       "\n",
       "Residuals:\n",
       "    Min      1Q  Median      3Q     Max \n",
       "-28.720  -9.184  -3.188   4.628  45.152 \n",
       "\n",
       "Coefficients:\n",
       "            Estimate Std. Error t value Pr(>|t|)\n",
       "(Intercept)  2.47014   14.81716   0.167    0.868\n",
       "speed        0.91329    2.03422   0.449    0.656\n",
       "speed2       0.09996    0.06597   1.515    0.136\n",
       "\n",
       "Residual standard error: 15.18 on 47 degrees of freedom\n",
       "Multiple R-squared:  0.6673,\tAdjusted R-squared:  0.6532 \n",
       "F-statistic: 47.14 on 2 and 47 DF,  p-value: 5.852e-12\n"
      ]
     },
     "metadata": {},
     "output_type": "display_data"
    }
   ],
   "source": [
    "summary(lm(dist~speed+speed2, data=cars))"
   ]
  }
 ],
 "metadata": {
  "kernelspec": {
   "display_name": "R",
   "language": "R",
   "name": "ir"
  },
  "language_info": {
   "codemirror_mode": "r",
   "file_extension": ".r",
   "mimetype": "text/x-r-source",
   "name": "R",
   "pygments_lexer": "r",
   "version": "3.5.1"
  },
  "toc": {
   "base_numbering": 1,
   "nav_menu": {},
   "number_sections": true,
   "sideBar": true,
   "skip_h1_title": false,
   "title_cell": "Table of Contents",
   "title_sidebar": "Contents",
   "toc_cell": false,
   "toc_position": {},
   "toc_section_display": true,
   "toc_window_display": true
  }
 },
 "nbformat": 4,
 "nbformat_minor": 2
}
