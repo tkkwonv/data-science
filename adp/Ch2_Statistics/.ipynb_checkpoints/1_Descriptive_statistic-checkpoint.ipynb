{
 "cells": [
  {
   "cell_type": "code",
   "execution_count": 1,
   "metadata": {},
   "outputs": [],
   "source": [
    "data(iris)"
   ]
  },
  {
   "cell_type": "code",
   "execution_count": 2,
   "metadata": {},
   "outputs": [
    {
     "data": {
      "text/html": [
       "<table>\n",
       "<caption>A data.frame: 6 × 5</caption>\n",
       "<thead>\n",
       "\t<tr><th scope=col>Sepal.Length</th><th scope=col>Sepal.Width</th><th scope=col>Petal.Length</th><th scope=col>Petal.Width</th><th scope=col>Species</th></tr>\n",
       "\t<tr><th scope=col>&lt;dbl&gt;</th><th scope=col>&lt;dbl&gt;</th><th scope=col>&lt;dbl&gt;</th><th scope=col>&lt;dbl&gt;</th><th scope=col>&lt;fct&gt;</th></tr>\n",
       "</thead>\n",
       "<tbody>\n",
       "\t<tr><td>5.1</td><td>3.5</td><td>1.4</td><td>0.2</td><td>setosa</td></tr>\n",
       "\t<tr><td>4.9</td><td>3.0</td><td>1.4</td><td>0.2</td><td>setosa</td></tr>\n",
       "\t<tr><td>4.7</td><td>3.2</td><td>1.3</td><td>0.2</td><td>setosa</td></tr>\n",
       "\t<tr><td>4.6</td><td>3.1</td><td>1.5</td><td>0.2</td><td>setosa</td></tr>\n",
       "\t<tr><td>5.0</td><td>3.6</td><td>1.4</td><td>0.2</td><td>setosa</td></tr>\n",
       "\t<tr><td>5.4</td><td>3.9</td><td>1.7</td><td>0.4</td><td>setosa</td></tr>\n",
       "</tbody>\n",
       "</table>\n"
      ],
      "text/latex": [
       "A data.frame: 6 × 5\n",
       "\\begin{tabular}{r|lllll}\n",
       " Sepal.Length & Sepal.Width & Petal.Length & Petal.Width & Species\\\\\n",
       " <dbl> & <dbl> & <dbl> & <dbl> & <fct>\\\\\n",
       "\\hline\n",
       "\t 5.1 & 3.5 & 1.4 & 0.2 & setosa\\\\\n",
       "\t 4.9 & 3.0 & 1.4 & 0.2 & setosa\\\\\n",
       "\t 4.7 & 3.2 & 1.3 & 0.2 & setosa\\\\\n",
       "\t 4.6 & 3.1 & 1.5 & 0.2 & setosa\\\\\n",
       "\t 5.0 & 3.6 & 1.4 & 0.2 & setosa\\\\\n",
       "\t 5.4 & 3.9 & 1.7 & 0.4 & setosa\\\\\n",
       "\\end{tabular}\n"
      ],
      "text/markdown": [
       "\n",
       "A data.frame: 6 × 5\n",
       "\n",
       "| Sepal.Length &lt;dbl&gt; | Sepal.Width &lt;dbl&gt; | Petal.Length &lt;dbl&gt; | Petal.Width &lt;dbl&gt; | Species &lt;fct&gt; |\n",
       "|---|---|---|---|---|\n",
       "| 5.1 | 3.5 | 1.4 | 0.2 | setosa |\n",
       "| 4.9 | 3.0 | 1.4 | 0.2 | setosa |\n",
       "| 4.7 | 3.2 | 1.3 | 0.2 | setosa |\n",
       "| 4.6 | 3.1 | 1.5 | 0.2 | setosa |\n",
       "| 5.0 | 3.6 | 1.4 | 0.2 | setosa |\n",
       "| 5.4 | 3.9 | 1.7 | 0.4 | setosa |\n",
       "\n"
      ],
      "text/plain": [
       "  Sepal.Length Sepal.Width Petal.Length Petal.Width Species\n",
       "1 5.1          3.5         1.4          0.2         setosa \n",
       "2 4.9          3.0         1.4          0.2         setosa \n",
       "3 4.7          3.2         1.3          0.2         setosa \n",
       "4 4.6          3.1         1.5          0.2         setosa \n",
       "5 5.0          3.6         1.4          0.2         setosa \n",
       "6 5.4          3.9         1.7          0.4         setosa "
      ]
     },
     "metadata": {},
     "output_type": "display_data"
    }
   ],
   "source": [
    "head(iris)"
   ]
  },
  {
   "cell_type": "code",
   "execution_count": 3,
   "metadata": {},
   "outputs": [
    {
     "data": {
      "text/plain": [
       "  Sepal.Length    Sepal.Width     Petal.Length    Petal.Width   \n",
       " Min.   :4.300   Min.   :2.000   Min.   :1.000   Min.   :0.100  \n",
       " 1st Qu.:5.100   1st Qu.:2.800   1st Qu.:1.600   1st Qu.:0.300  \n",
       " Median :5.800   Median :3.000   Median :4.350   Median :1.300  \n",
       " Mean   :5.843   Mean   :3.057   Mean   :3.758   Mean   :1.199  \n",
       " 3rd Qu.:6.400   3rd Qu.:3.300   3rd Qu.:5.100   3rd Qu.:1.800  \n",
       " Max.   :7.900   Max.   :4.400   Max.   :6.900   Max.   :2.500  \n",
       "       Species  \n",
       " setosa    :50  \n",
       " versicolor:50  \n",
       " virginica :50  \n",
       "                \n",
       "                \n",
       "                "
      ]
     },
     "metadata": {},
     "output_type": "display_data"
    }
   ],
   "source": [
    "summary(iris)"
   ]
  },
  {
   "cell_type": "code",
   "execution_count": 4,
   "metadata": {},
   "outputs": [
    {
     "data": {
      "text/html": [
       "5.84333333333333"
      ],
      "text/latex": [
       "5.84333333333333"
      ],
      "text/markdown": [
       "5.84333333333333"
      ],
      "text/plain": [
       "[1] 5.843333"
      ]
     },
     "metadata": {},
     "output_type": "display_data"
    }
   ],
   "source": [
    "mean(iris$Sepal.Length)  #평균"
   ]
  },
  {
   "cell_type": "code",
   "execution_count": 5,
   "metadata": {},
   "outputs": [
    {
     "data": {
      "text/html": [
       "5.8"
      ],
      "text/latex": [
       "5.8"
      ],
      "text/markdown": [
       "5.8"
      ],
      "text/plain": [
       "[1] 5.8"
      ]
     },
     "metadata": {},
     "output_type": "display_data"
    }
   ],
   "source": [
    "median(iris$Sepal.Length)  #중앙값"
   ]
  },
  {
   "cell_type": "code",
   "execution_count": 6,
   "metadata": {},
   "outputs": [
    {
     "data": {
      "text/html": [
       "0.828066127977863"
      ],
      "text/latex": [
       "0.828066127977863"
      ],
      "text/markdown": [
       "0.828066127977863"
      ],
      "text/plain": [
       "[1] 0.8280661"
      ]
     },
     "metadata": {},
     "output_type": "display_data"
    }
   ],
   "source": [
    "sd(iris$Sepal.Length)  #표준편차"
   ]
  },
  {
   "cell_type": "code",
   "execution_count": 7,
   "metadata": {},
   "outputs": [
    {
     "data": {
      "text/html": [
       "0.685693512304251"
      ],
      "text/latex": [
       "0.685693512304251"
      ],
      "text/markdown": [
       "0.685693512304251"
      ],
      "text/plain": [
       "[1] 0.6856935"
      ]
     },
     "metadata": {},
     "output_type": "display_data"
    }
   ],
   "source": [
    "var(iris$Sepal.Length)  #분산"
   ]
  },
  {
   "cell_type": "code",
   "execution_count": 8,
   "metadata": {},
   "outputs": [
    {
     "data": {
      "text/html": [
       "<strong>25%:</strong> 5.1"
      ],
      "text/latex": [
       "\\textbf{25\\textbackslash{}\\%:} 5.1"
      ],
      "text/markdown": [
       "**25%:** 5.1"
      ],
      "text/plain": [
       "25% \n",
       "5.1 "
      ]
     },
     "metadata": {},
     "output_type": "display_data"
    }
   ],
   "source": [
    "quantile(iris$Sepal.Length, 1/4)  #1사분위수"
   ]
  },
  {
   "cell_type": "code",
   "execution_count": 10,
   "metadata": {},
   "outputs": [
    {
     "data": {
      "text/html": [
       "<strong>75%:</strong> 6.4"
      ],
      "text/latex": [
       "\\textbf{75\\textbackslash{}\\%:} 6.4"
      ],
      "text/markdown": [
       "**75%:** 6.4"
      ],
      "text/plain": [
       "75% \n",
       "6.4 "
      ]
     },
     "metadata": {},
     "output_type": "display_data"
    }
   ],
   "source": [
    "quantile(iris$Sepal.Length, 3/4)  #3사분위수"
   ]
  },
  {
   "cell_type": "code",
   "execution_count": 11,
   "metadata": {},
   "outputs": [
    {
     "data": {
      "text/html": [
       "7.9"
      ],
      "text/latex": [
       "7.9"
      ],
      "text/markdown": [
       "7.9"
      ],
      "text/plain": [
       "[1] 7.9"
      ]
     },
     "metadata": {},
     "output_type": "display_data"
    }
   ],
   "source": [
    "max(iris$Sepal.Length)  #최대값"
   ]
  },
  {
   "cell_type": "code",
   "execution_count": 12,
   "metadata": {},
   "outputs": [
    {
     "data": {
      "text/html": [
       "4.3"
      ],
      "text/latex": [
       "4.3"
      ],
      "text/markdown": [
       "4.3"
      ],
      "text/plain": [
       "[1] 4.3"
      ]
     },
     "metadata": {},
     "output_type": "display_data"
    }
   ],
   "source": [
    "min(iris$Sepal.Length)  #최소값"
   ]
  },
  {
   "cell_type": "markdown",
   "metadata": {},
   "source": [
    "##### MASS 패키지에 내장된 28가지 종의 동물 뇌의 무게와 몸무게 데이터\n",
    "* Animals 데이터세트의 컬럼당 기초통계량을 구한다."
   ]
  },
  {
   "cell_type": "code",
   "execution_count": 13,
   "metadata": {},
   "outputs": [],
   "source": [
    "library(MASS)"
   ]
  },
  {
   "cell_type": "code",
   "execution_count": 14,
   "metadata": {},
   "outputs": [],
   "source": [
    "data(Animals)"
   ]
  },
  {
   "cell_type": "code",
   "execution_count": 15,
   "metadata": {},
   "outputs": [
    {
     "data": {
      "text/html": [
       "<table>\n",
       "<caption>A data.frame: 6 × 2</caption>\n",
       "<thead>\n",
       "\t<tr><th></th><th scope=col>body</th><th scope=col>brain</th></tr>\n",
       "\t<tr><th></th><th scope=col>&lt;dbl&gt;</th><th scope=col>&lt;dbl&gt;</th></tr>\n",
       "</thead>\n",
       "<tbody>\n",
       "\t<tr><th scope=row>Mountain beaver</th><td>    1.35</td><td>  8.1</td></tr>\n",
       "\t<tr><th scope=row>Cow</th><td>  465.00</td><td>423.0</td></tr>\n",
       "\t<tr><th scope=row>Grey wolf</th><td>   36.33</td><td>119.5</td></tr>\n",
       "\t<tr><th scope=row>Goat</th><td>   27.66</td><td>115.0</td></tr>\n",
       "\t<tr><th scope=row>Guinea pig</th><td>    1.04</td><td>  5.5</td></tr>\n",
       "\t<tr><th scope=row>Dipliodocus</th><td>11700.00</td><td> 50.0</td></tr>\n",
       "</tbody>\n",
       "</table>\n"
      ],
      "text/latex": [
       "A data.frame: 6 × 2\n",
       "\\begin{tabular}{r|ll}\n",
       "  & body & brain\\\\\n",
       "  & <dbl> & <dbl>\\\\\n",
       "\\hline\n",
       "\tMountain beaver &     1.35 &   8.1\\\\\n",
       "\tCow &   465.00 & 423.0\\\\\n",
       "\tGrey wolf &    36.33 & 119.5\\\\\n",
       "\tGoat &    27.66 & 115.0\\\\\n",
       "\tGuinea pig &     1.04 &   5.5\\\\\n",
       "\tDipliodocus & 11700.00 &  50.0\\\\\n",
       "\\end{tabular}\n"
      ],
      "text/markdown": [
       "\n",
       "A data.frame: 6 × 2\n",
       "\n",
       "| <!--/--> | body &lt;dbl&gt; | brain &lt;dbl&gt; |\n",
       "|---|---|---|\n",
       "| Mountain beaver |     1.35 |   8.1 |\n",
       "| Cow |   465.00 | 423.0 |\n",
       "| Grey wolf |    36.33 | 119.5 |\n",
       "| Goat |    27.66 | 115.0 |\n",
       "| Guinea pig |     1.04 |   5.5 |\n",
       "| Dipliodocus | 11700.00 |  50.0 |\n",
       "\n"
      ],
      "text/plain": [
       "                body     brain\n",
       "Mountain beaver     1.35   8.1\n",
       "Cow               465.00 423.0\n",
       "Grey wolf          36.33 119.5\n",
       "Goat               27.66 115.0\n",
       "Guinea pig          1.04   5.5\n",
       "Dipliodocus     11700.00  50.0"
      ]
     },
     "metadata": {},
     "output_type": "display_data"
    }
   ],
   "source": [
    "head(Animals)"
   ]
  },
  {
   "cell_type": "code",
   "execution_count": 16,
   "metadata": {},
   "outputs": [
    {
     "data": {
      "text/html": [
       "4278.43875"
      ],
      "text/latex": [
       "4278.43875"
      ],
      "text/markdown": [
       "4278.43875"
      ],
      "text/plain": [
       "[1] 4278.439"
      ]
     },
     "metadata": {},
     "output_type": "display_data"
    }
   ],
   "source": [
    "mean(Animals$body)"
   ]
  },
  {
   "cell_type": "code",
   "execution_count": 17,
   "metadata": {},
   "outputs": [
    {
     "data": {
      "text/html": [
       "574.521428571429"
      ],
      "text/latex": [
       "574.521428571429"
      ],
      "text/markdown": [
       "574.521428571429"
      ],
      "text/plain": [
       "[1] 574.5214"
      ]
     },
     "metadata": {},
     "output_type": "display_data"
    }
   ],
   "source": [
    "mean(Animals$brain)"
   ]
  },
  {
   "cell_type": "code",
   "execution_count": 18,
   "metadata": {},
   "outputs": [
    {
     "data": {
      "text/html": [
       "53.83"
      ],
      "text/latex": [
       "53.83"
      ],
      "text/markdown": [
       "53.83"
      ],
      "text/plain": [
       "[1] 53.83"
      ]
     },
     "metadata": {},
     "output_type": "display_data"
    }
   ],
   "source": [
    "median(Animals$body)"
   ]
  },
  {
   "cell_type": "code",
   "execution_count": 19,
   "metadata": {},
   "outputs": [
    {
     "data": {
      "text/html": [
       "137"
      ],
      "text/latex": [
       "137"
      ],
      "text/markdown": [
       "137"
      ],
      "text/plain": [
       "[1] 137"
      ]
     },
     "metadata": {},
     "output_type": "display_data"
    }
   ],
   "source": [
    "median(Animals$brain)"
   ]
  },
  {
   "cell_type": "code",
   "execution_count": 20,
   "metadata": {},
   "outputs": [
    {
     "data": {
      "text/html": [
       "16480.4903792696"
      ],
      "text/latex": [
       "16480.4903792696"
      ],
      "text/markdown": [
       "16480.4903792696"
      ],
      "text/plain": [
       "[1] 16480.49"
      ]
     },
     "metadata": {},
     "output_type": "display_data"
    }
   ],
   "source": [
    "sd(Animals$body)"
   ]
  },
  {
   "cell_type": "code",
   "execution_count": 21,
   "metadata": {},
   "outputs": [
    {
     "data": {
      "text/html": [
       "1334.92919061958"
      ],
      "text/latex": [
       "1334.92919061958"
      ],
      "text/markdown": [
       "1334.92919061958"
      ],
      "text/plain": [
       "[1] 1334.929"
      ]
     },
     "metadata": {},
     "output_type": "display_data"
    }
   ],
   "source": [
    "sd(Animals$brain)"
   ]
  },
  {
   "cell_type": "code",
   "execution_count": 22,
   "metadata": {},
   "outputs": [
    {
     "data": {
      "text/html": [
       "271606563.141199"
      ],
      "text/latex": [
       "271606563.141199"
      ],
      "text/markdown": [
       "271606563.141199"
      ],
      "text/plain": [
       "[1] 271606563"
      ]
     },
     "metadata": {},
     "output_type": "display_data"
    }
   ],
   "source": [
    "var(Animals$body)"
   ]
  },
  {
   "cell_type": "code",
   "execution_count": 23,
   "metadata": {},
   "outputs": [
    {
     "data": {
      "text/html": [
       "1782035.94396825"
      ],
      "text/latex": [
       "1782035.94396825"
      ],
      "text/markdown": [
       "1782035.94396825"
      ],
      "text/plain": [
       "[1] 1782036"
      ]
     },
     "metadata": {},
     "output_type": "display_data"
    }
   ],
   "source": [
    "var(Animals$brain)"
   ]
  },
  {
   "cell_type": "code",
   "execution_count": 24,
   "metadata": {},
   "outputs": [
    {
     "data": {
      "text/html": [
       "<dl class=dl-horizontal>\n",
       "\t<dt>0%</dt>\n",
       "\t\t<dd>0.023</dd>\n",
       "\t<dt>25%</dt>\n",
       "\t\t<dd>3.1</dd>\n",
       "\t<dt>50%</dt>\n",
       "\t\t<dd>53.83</dd>\n",
       "\t<dt>75%</dt>\n",
       "\t\t<dd>479</dd>\n",
       "\t<dt>100%</dt>\n",
       "\t\t<dd>87000</dd>\n",
       "</dl>\n"
      ],
      "text/latex": [
       "\\begin{description*}\n",
       "\\item[0\\textbackslash{}\\%] 0.023\n",
       "\\item[25\\textbackslash{}\\%] 3.1\n",
       "\\item[50\\textbackslash{}\\%] 53.83\n",
       "\\item[75\\textbackslash{}\\%] 479\n",
       "\\item[100\\textbackslash{}\\%] 87000\n",
       "\\end{description*}\n"
      ],
      "text/markdown": [
       "0%\n",
       ":   0.02325%\n",
       ":   3.150%\n",
       ":   53.8375%\n",
       ":   479100%\n",
       ":   87000\n",
       "\n"
      ],
      "text/plain": [
       "       0%       25%       50%       75%      100% \n",
       "    0.023     3.100    53.830   479.000 87000.000 "
      ]
     },
     "metadata": {},
     "output_type": "display_data"
    }
   ],
   "source": [
    "quantile(Animals$body)"
   ]
  },
  {
   "cell_type": "code",
   "execution_count": 25,
   "metadata": {},
   "outputs": [
    {
     "data": {
      "text/html": [
       "<dl class=dl-horizontal>\n",
       "\t<dt>0%</dt>\n",
       "\t\t<dd>0.4</dd>\n",
       "\t<dt>25%</dt>\n",
       "\t\t<dd>22.225</dd>\n",
       "\t<dt>50%</dt>\n",
       "\t\t<dd>137</dd>\n",
       "\t<dt>75%</dt>\n",
       "\t\t<dd>420</dd>\n",
       "\t<dt>100%</dt>\n",
       "\t\t<dd>5712</dd>\n",
       "</dl>\n"
      ],
      "text/latex": [
       "\\begin{description*}\n",
       "\\item[0\\textbackslash{}\\%] 0.4\n",
       "\\item[25\\textbackslash{}\\%] 22.225\n",
       "\\item[50\\textbackslash{}\\%] 137\n",
       "\\item[75\\textbackslash{}\\%] 420\n",
       "\\item[100\\textbackslash{}\\%] 5712\n",
       "\\end{description*}\n"
      ],
      "text/markdown": [
       "0%\n",
       ":   0.425%\n",
       ":   22.22550%\n",
       ":   13775%\n",
       ":   420100%\n",
       ":   5712\n",
       "\n"
      ],
      "text/plain": [
       "      0%      25%      50%      75%     100% \n",
       "   0.400   22.225  137.000  420.000 5712.000 "
      ]
     },
     "metadata": {},
     "output_type": "display_data"
    }
   ],
   "source": [
    "quantile(Animals$brain)"
   ]
  }
 ],
 "metadata": {
  "kernelspec": {
   "display_name": "R",
   "language": "R",
   "name": "ir"
  },
  "language_info": {
   "codemirror_mode": "r",
   "file_extension": ".r",
   "mimetype": "text/x-r-source",
   "name": "R",
   "pygments_lexer": "r",
   "version": "3.5.1"
  },
  "toc": {
   "base_numbering": 1,
   "nav_menu": {},
   "number_sections": true,
   "sideBar": true,
   "skip_h1_title": false,
   "title_cell": "Table of Contents",
   "title_sidebar": "Contents",
   "toc_cell": false,
   "toc_position": {},
   "toc_section_display": true,
   "toc_window_display": true
  }
 },
 "nbformat": 4,
 "nbformat_minor": 2
}
