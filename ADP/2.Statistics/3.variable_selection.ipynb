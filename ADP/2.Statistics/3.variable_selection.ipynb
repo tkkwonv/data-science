{
 "cells": [
  {
   "cell_type": "markdown",
   "metadata": {},
   "source": [
    "# 설명변수의 선택"
   ]
  },
  {
   "cell_type": "markdown",
   "metadata": {},
   "source": [
    "##### 변수를 선택해 회귀모형을 설정해주는 데에는 다음의 두가지 원칙을 따른다.\n",
    "* y에 영향을 미칠 수 있는 모든 설명변수 x들을 y의 값을 예측하는데 참여시킨다.\n",
    "* 데이터에 설명변수 x들의 수가 많아지면 관리하는데 많은 노력이 요구되므로, 가능한 범위 내에서 적은 수의 설명변수를 포함시켜야 한다."
   ]
  },
  {
   "cell_type": "markdown",
   "metadata": {},
   "source": [
    "## 단계적 변수선택(Stepwise Variable Selection)\n",
    "\n",
    "##### 전진선택법(forward selection)\n",
    "절편만 있는 상수모형으로부터 시작해 중요하다고 생각되는 설명변수로부터 차례로 모형에 추가한다.\n",
    "##### 후진제거법(backward elimination)\n",
    "독립변수 후보 모두를 포함한 모형에서 출발해 제곱합의 기준으로 가장 적은 영향을 주는 변수부터 하나씩 제거하면서 더이상 유의하지 않은 변수가 없을때까지 설명변수들을 제거한다.\n",
    "##### 단계별방법(stepwise method)\n",
    "전진선택법에 의해 변수를 추가하면서 새롭게 추가된 변수에 기인해 기존 변수가 그 중요도가 약화되면 해당변수를 제거하는 등 단계별로 추가 또는 제거되는 변수의 여부를 검토해 더이상 없을때 중단한다."
   ]
  },
  {
   "cell_type": "markdown",
   "metadata": {},
   "source": [
    "## SAMPLE"
   ]
  },
  {
   "cell_type": "markdown",
   "metadata": {},
   "source": [
    "### 1. 전진선택법\n",
    "\n",
    "##### step 함수를 이용해 전진선택법을 적용한다."
   ]
  },
  {
   "cell_type": "code",
   "execution_count": 4,
   "metadata": {},
   "outputs": [
    {
     "data": {
      "text/html": [
       "<table>\n",
       "<caption>A data.frame: 6 × 3</caption>\n",
       "<thead>\n",
       "\t<tr><th></th><th scope=col>dist</th><th scope=col>climb</th><th scope=col>time</th></tr>\n",
       "\t<tr><th></th><th scope=col>&lt;dbl&gt;</th><th scope=col>&lt;int&gt;</th><th scope=col>&lt;dbl&gt;</th></tr>\n",
       "</thead>\n",
       "<tbody>\n",
       "\t<tr><th scope=row>Greenmantle</th><td>2.5</td><td> 650</td><td>16.083</td></tr>\n",
       "\t<tr><th scope=row>Carnethy</th><td>6.0</td><td>2500</td><td>48.350</td></tr>\n",
       "\t<tr><th scope=row>Craig Dunain</th><td>6.0</td><td> 900</td><td>33.650</td></tr>\n",
       "\t<tr><th scope=row>Ben Rha</th><td>7.5</td><td> 800</td><td>45.600</td></tr>\n",
       "\t<tr><th scope=row>Ben Lomond</th><td>8.0</td><td>3070</td><td>62.267</td></tr>\n",
       "\t<tr><th scope=row>Goatfell</th><td>8.0</td><td>2866</td><td>73.217</td></tr>\n",
       "</tbody>\n",
       "</table>\n"
      ],
      "text/latex": [
       "A data.frame: 6 × 3\n",
       "\\begin{tabular}{r|lll}\n",
       "  & dist & climb & time\\\\\n",
       "  & <dbl> & <int> & <dbl>\\\\\n",
       "\\hline\n",
       "\tGreenmantle & 2.5 &  650 & 16.083\\\\\n",
       "\tCarnethy & 6.0 & 2500 & 48.350\\\\\n",
       "\tCraig Dunain & 6.0 &  900 & 33.650\\\\\n",
       "\tBen Rha & 7.5 &  800 & 45.600\\\\\n",
       "\tBen Lomond & 8.0 & 3070 & 62.267\\\\\n",
       "\tGoatfell & 8.0 & 2866 & 73.217\\\\\n",
       "\\end{tabular}\n"
      ],
      "text/markdown": [
       "\n",
       "A data.frame: 6 × 3\n",
       "\n",
       "| <!--/--> | dist &lt;dbl&gt; | climb &lt;int&gt; | time &lt;dbl&gt; |\n",
       "|---|---|---|---|\n",
       "| Greenmantle | 2.5 |  650 | 16.083 |\n",
       "| Carnethy | 6.0 | 2500 | 48.350 |\n",
       "| Craig Dunain | 6.0 |  900 | 33.650 |\n",
       "| Ben Rha | 7.5 |  800 | 45.600 |\n",
       "| Ben Lomond | 8.0 | 3070 | 62.267 |\n",
       "| Goatfell | 8.0 | 2866 | 73.217 |\n",
       "\n"
      ],
      "text/plain": [
       "             dist climb time  \n",
       "Greenmantle  2.5   650  16.083\n",
       "Carnethy     6.0  2500  48.350\n",
       "Craig Dunain 6.0   900  33.650\n",
       "Ben Rha      7.5   800  45.600\n",
       "Ben Lomond   8.0  3070  62.267\n",
       "Goatfell     8.0  2866  73.217"
      ]
     },
     "metadata": {},
     "output_type": "display_data"
    }
   ],
   "source": [
    "library(MASS)\n",
    "data(hills)\n",
    "head(hills)"
   ]
  },
  {
   "cell_type": "markdown",
   "metadata": {},
   "source": [
    "2개의 설명변수와 time이라는 종속변수로 구성"
   ]
  },
  {
   "cell_type": "code",
   "execution_count": 5,
   "metadata": {},
   "outputs": [
    {
     "name": "stdout",
     "output_type": "stream",
     "text": [
      "Start:  AIC=274.88\n",
      "time ~ 1\n",
      "\n",
      "        Df Sum of Sq   RSS    AIC\n",
      "+ dist   1     71997 13142 211.49\n",
      "+ climb  1     55205 29934 240.30\n",
      "<none>               85138 274.88\n",
      "\n",
      "Step:  AIC=211.49\n",
      "time ~ dist\n",
      "\n",
      "        Df Sum of Sq     RSS    AIC\n",
      "+ climb  1    6249.7  6891.9 190.90\n",
      "<none>               13141.6 211.49\n",
      "\n",
      "Step:  AIC=190.9\n",
      "time ~ dist + climb\n",
      "\n"
     ]
    },
    {
     "data": {
      "text/plain": [
       "\n",
       "Call:\n",
       "lm(formula = time ~ dist + climb, data = hills)\n",
       "\n",
       "Coefficients:\n",
       "(Intercept)         dist        climb  \n",
       "   -8.99204      6.21796      0.01105  \n"
      ]
     },
     "metadata": {},
     "output_type": "display_data"
    }
   ],
   "source": [
    "step(lm(time ~1, hills), scop=list(lower=~1, upper=~dist+climb), direction=\"forward\")"
   ]
  },
  {
   "cell_type": "markdown",
   "metadata": {},
   "source": [
    "step 함수 결과 최종회귀식은 dist와 climb 모두 채택된 time =-8.99204+6.21796dist+0.01105climb로 추정됐다."
   ]
  },
  {
   "cell_type": "markdown",
   "metadata": {},
   "source": [
    "### 2. 후진제거법"
   ]
  },
  {
   "cell_type": "markdown",
   "metadata": {},
   "source": [
    "Y를 반응변수로 하고, X1,X2,X3,X4를 설명변수로 하는 선형회귀모형을 고려하고, 후진제거법을 이용하여 변수를 선택한다."
   ]
  },
  {
   "cell_type": "code",
   "execution_count": 10,
   "metadata": {},
   "outputs": [
    {
     "data": {
      "text/html": [
       "<table>\n",
       "<caption>A data.frame: 6 × 5</caption>\n",
       "<thead>\n",
       "\t<tr><th scope=col>X1</th><th scope=col>X2</th><th scope=col>X3</th><th scope=col>X4</th><th scope=col>Y</th></tr>\n",
       "\t<tr><th scope=col>&lt;dbl&gt;</th><th scope=col>&lt;dbl&gt;</th><th scope=col>&lt;dbl&gt;</th><th scope=col>&lt;dbl&gt;</th><th scope=col>&lt;dbl&gt;</th></tr>\n",
       "</thead>\n",
       "<tbody>\n",
       "\t<tr><td> 7</td><td>26</td><td> 6</td><td>60</td><td> 78.5</td></tr>\n",
       "\t<tr><td> 1</td><td>29</td><td>15</td><td>52</td><td> 74.3</td></tr>\n",
       "\t<tr><td>11</td><td>56</td><td> 8</td><td>20</td><td>104.3</td></tr>\n",
       "\t<tr><td>11</td><td>31</td><td> 8</td><td>47</td><td> 87.6</td></tr>\n",
       "\t<tr><td> 7</td><td>52</td><td> 6</td><td>33</td><td> 95.9</td></tr>\n",
       "\t<tr><td>11</td><td>55</td><td> 9</td><td>22</td><td>109.2</td></tr>\n",
       "</tbody>\n",
       "</table>\n"
      ],
      "text/latex": [
       "A data.frame: 6 × 5\n",
       "\\begin{tabular}{r|lllll}\n",
       " X1 & X2 & X3 & X4 & Y\\\\\n",
       " <dbl> & <dbl> & <dbl> & <dbl> & <dbl>\\\\\n",
       "\\hline\n",
       "\t  7 & 26 &  6 & 60 &  78.5\\\\\n",
       "\t  1 & 29 & 15 & 52 &  74.3\\\\\n",
       "\t 11 & 56 &  8 & 20 & 104.3\\\\\n",
       "\t 11 & 31 &  8 & 47 &  87.6\\\\\n",
       "\t  7 & 52 &  6 & 33 &  95.9\\\\\n",
       "\t 11 & 55 &  9 & 22 & 109.2\\\\\n",
       "\\end{tabular}\n"
      ],
      "text/markdown": [
       "\n",
       "A data.frame: 6 × 5\n",
       "\n",
       "| X1 &lt;dbl&gt; | X2 &lt;dbl&gt; | X3 &lt;dbl&gt; | X4 &lt;dbl&gt; | Y &lt;dbl&gt; |\n",
       "|---|---|---|---|---|\n",
       "|  7 | 26 |  6 | 60 |  78.5 |\n",
       "|  1 | 29 | 15 | 52 |  74.3 |\n",
       "| 11 | 56 |  8 | 20 | 104.3 |\n",
       "| 11 | 31 |  8 | 47 |  87.6 |\n",
       "|  7 | 52 |  6 | 33 |  95.9 |\n",
       "| 11 | 55 |  9 | 22 | 109.2 |\n",
       "\n"
      ],
      "text/plain": [
       "  X1 X2 X3 X4 Y    \n",
       "1  7 26  6 60  78.5\n",
       "2  1 29 15 52  74.3\n",
       "3 11 56  8 20 104.3\n",
       "4 11 31  8 47  87.6\n",
       "5  7 52  6 33  95.9\n",
       "6 11 55  9 22 109.2"
      ]
     },
     "metadata": {},
     "output_type": "display_data"
    }
   ],
   "source": [
    "X1 <- c(7,1,11,11,7,11,3,1,2,21,1,11,10)\n",
    "X2 <- c(26,29,56,31,52,55,71,31,54,47,40,66,68)\n",
    "X3 <- c(6,15,8,8,6,9,17,22,18,4,23,9,8)\n",
    "X4 <- c(60,52,20,47,33,22,6,44,22,26,34,12,12)\n",
    "Y <- c(78.5,74.3,104.3,87.6,95.9,109.2,102.7,72.5,93.1,115.9,83.8,113.3,109.4)\n",
    "df <- data.frame(X1,X2,X3,X4,Y)\n",
    "head(df)"
   ]
  },
  {
   "cell_type": "code",
   "execution_count": 11,
   "metadata": {},
   "outputs": [
    {
     "data": {
      "text/plain": [
       "\n",
       "Call:\n",
       "lm(formula = Y ~ X1 + X2 + X3 + X4, data = df)\n",
       "\n",
       "Coefficients:\n",
       "(Intercept)           X1           X2           X3           X4  \n",
       "    62.4054       1.5511       0.5102       0.1019      -0.1441  \n"
      ]
     },
     "metadata": {},
     "output_type": "display_data"
    }
   ],
   "source": [
    "a <- lm(Y~X1+X2+X3+X4, data=df)\n",
    "a"
   ]
  },
  {
   "cell_type": "code",
   "execution_count": 12,
   "metadata": {},
   "outputs": [
    {
     "data": {
      "text/plain": [
       "\n",
       "Call:\n",
       "lm(formula = Y ~ X1 + X2 + X3 + X4, data = df)\n",
       "\n",
       "Residuals:\n",
       "    Min      1Q  Median      3Q     Max \n",
       "-3.1750 -1.6709  0.2508  1.3783  3.9254 \n",
       "\n",
       "Coefficients:\n",
       "            Estimate Std. Error t value Pr(>|t|)  \n",
       "(Intercept)  62.4054    70.0710   0.891   0.3991  \n",
       "X1            1.5511     0.7448   2.083   0.0708 .\n",
       "X2            0.5102     0.7238   0.705   0.5009  \n",
       "X3            0.1019     0.7547   0.135   0.8959  \n",
       "X4           -0.1441     0.7091  -0.203   0.8441  \n",
       "---\n",
       "Signif. codes:  0 ‘***’ 0.001 ‘**’ 0.01 ‘*’ 0.05 ‘.’ 0.1 ‘ ’ 1\n",
       "\n",
       "Residual standard error: 2.446 on 8 degrees of freedom\n",
       "Multiple R-squared:  0.9824,\tAdjusted R-squared:  0.9736 \n",
       "F-statistic: 111.5 on 4 and 8 DF,  p-value: 4.756e-07\n"
      ]
     },
     "metadata": {},
     "output_type": "display_data"
    }
   ],
   "source": [
    "summary(a)"
   ]
  },
  {
   "cell_type": "markdown",
   "metadata": {},
   "source": [
    "* 회귀식은 Y=62.4.54+1.5511X1+0.5102X2+0.1019X3 -0.1441X4로 추정된다.\n",
    "* F통계량=111.5이며 p-값이 4.756e-07로 유의수준 5%하에서 추정된 회귀모형이 통계적으로 매우 유의함을 볼 수 있다.\n",
    "* 수정된 결정계수 또한 0.9736으로 매우 높은 값을 보이므로 추정된 회귀식이 데이터를 97%로 적절하게 설명하고 있음을 알 수 있다.\n",
    "* 설명변수 X1, X2, X3, X4의 p-value를 보면 X3의 유의 확률이 가장 높아 이들 중 가장 유의하지 않음을 볼 수 있다.\n",
    "\n",
    "##### 설명변수 X3을 제거하고 다시 회귀분석을 한다."
   ]
  },
  {
   "cell_type": "code",
   "execution_count": 14,
   "metadata": {},
   "outputs": [
    {
     "data": {
      "text/plain": [
       "\n",
       "Call:\n",
       "lm(formula = Y ~ X1 + X2 + X4, data = df)\n",
       "\n",
       "Coefficients:\n",
       "(Intercept)           X1           X2           X4  \n",
       "    71.6483       1.4519       0.4161      -0.2365  \n"
      ]
     },
     "metadata": {},
     "output_type": "display_data"
    }
   ],
   "source": [
    "b <- lm(Y~X1+X2+X4, data=df)\n",
    "b"
   ]
  },
  {
   "cell_type": "code",
   "execution_count": 16,
   "metadata": {},
   "outputs": [
    {
     "data": {
      "text/plain": [
       "\n",
       "Call:\n",
       "lm(formula = Y ~ X1 + X2 + X4, data = df)\n",
       "\n",
       "Residuals:\n",
       "    Min      1Q  Median      3Q     Max \n",
       "-3.0919 -1.8016  0.2562  1.2818  3.8982 \n",
       "\n",
       "Coefficients:\n",
       "            Estimate Std. Error t value Pr(>|t|)    \n",
       "(Intercept)  71.6483    14.1424   5.066 0.000675 ***\n",
       "X1            1.4519     0.1170  12.410 5.78e-07 ***\n",
       "X2            0.4161     0.1856   2.242 0.051687 .  \n",
       "X4           -0.2365     0.1733  -1.365 0.205395    \n",
       "---\n",
       "Signif. codes:  0 ‘***’ 0.001 ‘**’ 0.01 ‘*’ 0.05 ‘.’ 0.1 ‘ ’ 1\n",
       "\n",
       "Residual standard error: 2.309 on 9 degrees of freedom\n",
       "Multiple R-squared:  0.9823,\tAdjusted R-squared:  0.9764 \n",
       "F-statistic: 166.8 on 3 and 9 DF,  p-value: 3.323e-08\n"
      ]
     },
     "metadata": {},
     "output_type": "display_data"
    }
   ],
   "source": [
    "summary(b)"
   ]
  },
  {
   "cell_type": "markdown",
   "metadata": {},
   "source": [
    "##### 설명변수 X1, X2, X4들 중 p-값이 가장 높은 X4를 제거하고 회귀분석을 한다."
   ]
  },
  {
   "cell_type": "code",
   "execution_count": 17,
   "metadata": {},
   "outputs": [
    {
     "data": {
      "text/plain": [
       "\n",
       "Call:\n",
       "lm(formula = Y ~ X1 + X2, data = df)\n",
       "\n",
       "Coefficients:\n",
       "(Intercept)           X1           X2  \n",
       "    52.5773       1.4683       0.6623  \n"
      ]
     },
     "metadata": {},
     "output_type": "display_data"
    }
   ],
   "source": [
    "c <- lm(Y~X1+X2, data=df)\n",
    "c"
   ]
  },
  {
   "cell_type": "code",
   "execution_count": 18,
   "metadata": {},
   "outputs": [
    {
     "data": {
      "text/plain": [
       "\n",
       "Call:\n",
       "lm(formula = Y ~ X1 + X2, data = df)\n",
       "\n",
       "Residuals:\n",
       "   Min     1Q Median     3Q    Max \n",
       "-2.893 -1.574 -1.302  1.363  4.048 \n",
       "\n",
       "Coefficients:\n",
       "            Estimate Std. Error t value Pr(>|t|)    \n",
       "(Intercept) 52.57735    2.28617   23.00 5.46e-10 ***\n",
       "X1           1.46831    0.12130   12.11 2.69e-07 ***\n",
       "X2           0.66225    0.04585   14.44 5.03e-08 ***\n",
       "---\n",
       "Signif. codes:  0 ‘***’ 0.001 ‘**’ 0.01 ‘*’ 0.05 ‘.’ 0.1 ‘ ’ 1\n",
       "\n",
       "Residual standard error: 2.406 on 10 degrees of freedom\n",
       "Multiple R-squared:  0.9787,\tAdjusted R-squared:  0.9744 \n",
       "F-statistic: 229.5 on 2 and 10 DF,  p-value: 4.407e-09\n"
      ]
     },
     "metadata": {},
     "output_type": "display_data"
    }
   ],
   "source": [
    "summary(c)"
   ]
  },
  {
   "cell_type": "markdown",
   "metadata": {},
   "source": [
    "* 설명변수 X1, X2의 p-값이 모두 유의하므로 여기에서 변수제거를 멈춘다.\n",
    "* 최종 회귀식은 Y=52.57735+1.46831X1+0.66225X2로 추정된다."
   ]
  },
  {
   "cell_type": "markdown",
   "metadata": {},
   "source": [
    "### 3. 단계별 변수 선택법\n",
    "##### step(lm(종속변수~설명변수), 데이터세트), scope=list(lower=~1, upper=~설명변수), direction=\"변수선택방법\")\n",
    "* lm : 회귀분석\n",
    "* scope : 분석할때 고려할 변수의 범위를 정한다. 가장 낮은 단계는 lower에서 1을 입력하면 상수항을 위미하고, 가장 높은 단계를 설정하기 위해서는 설명변수들을 모두 써주면 된다.\n",
    "* direction : 변수 선택방법이다. 선택가능한 옵션은 forward, backward, both가 있다."
   ]
  },
  {
   "cell_type": "markdown",
   "metadata": {},
   "source": [
    "[예제] 위의 예에서 주어진 자료와 선형회귀모형에 대해, 전진선택법을 적용하여 모형을 선택한다."
   ]
  },
  {
   "cell_type": "code",
   "execution_count": 20,
   "metadata": {},
   "outputs": [
    {
     "name": "stdout",
     "output_type": "stream",
     "text": [
      "Start:  AIC=71.44\n",
      "Y ~ 1\n",
      "\n",
      "       Df Sum of Sq     RSS    AIC\n",
      "+ X4    1   1831.90  883.87 58.852\n",
      "+ X2    1   1809.43  906.34 59.178\n",
      "+ X1    1   1450.08 1265.69 63.519\n",
      "+ X3    1    776.36 1939.40 69.067\n",
      "<none>              2715.76 71.444\n",
      "\n",
      "Step:  AIC=58.85\n",
      "Y ~ X4\n",
      "\n",
      "       Df Sum of Sq    RSS    AIC\n",
      "+ X1    1    809.10  74.76 28.742\n",
      "+ X3    1    708.13 175.74 39.853\n",
      "<none>              883.87 58.852\n",
      "+ X2    1     14.99 868.88 60.629\n",
      "\n",
      "Step:  AIC=28.74\n",
      "Y ~ X4 + X1\n",
      "\n",
      "       Df Sum of Sq    RSS    AIC\n",
      "+ X2    1    26.789 47.973 24.974\n",
      "+ X3    1    23.926 50.836 25.728\n",
      "<none>              74.762 28.742\n",
      "\n",
      "Step:  AIC=24.97\n",
      "Y ~ X4 + X1 + X2\n",
      "\n",
      "       Df Sum of Sq    RSS    AIC\n",
      "<none>              47.973 24.974\n",
      "+ X3    1   0.10909 47.864 26.944\n"
     ]
    },
    {
     "data": {
      "text/plain": [
       "\n",
       "Call:\n",
       "lm(formula = Y ~ X4 + X1 + X2, data = df)\n",
       "\n",
       "Coefficients:\n",
       "(Intercept)           X4           X1           X2  \n",
       "    71.6483      -0.2365       1.4519       0.4161  \n"
      ]
     },
     "metadata": {},
     "output_type": "display_data"
    }
   ],
   "source": [
    "step(lm(Y ~1, df), scope=list(lower=~1, upper=~X1+X2+X3+X4), direction=\"forward\")"
   ]
  },
  {
   "cell_type": "markdown",
   "metadata": {},
   "source": [
    "* 최종회귀식은 Y=71.6483-0.2365X4+1.4519X1+0.4161X2로 추정된다.\n",
    "* 앞의 후진제거법의 결과와 다른 모형이 선택되었다. 보통 변수선택의 기준에 따라 선택된 모형은 차이를 보일 수 있다."
   ]
  },
  {
   "cell_type": "markdown",
   "metadata": {},
   "source": [
    "##### 위의 자료와 모형에 대해 단계적 방법을 적용하여 모형을 선택한다."
   ]
  },
  {
   "cell_type": "code",
   "execution_count": 21,
   "metadata": {},
   "outputs": [
    {
     "data": {
      "text/html": [
       "<table>\n",
       "<caption>A data.frame: 13 × 5</caption>\n",
       "<thead>\n",
       "\t<tr><th scope=col>X1</th><th scope=col>X2</th><th scope=col>X3</th><th scope=col>X4</th><th scope=col>Y</th></tr>\n",
       "\t<tr><th scope=col>&lt;dbl&gt;</th><th scope=col>&lt;dbl&gt;</th><th scope=col>&lt;dbl&gt;</th><th scope=col>&lt;dbl&gt;</th><th scope=col>&lt;dbl&gt;</th></tr>\n",
       "</thead>\n",
       "<tbody>\n",
       "\t<tr><td> 7</td><td>26</td><td> 6</td><td>60</td><td> 78.5</td></tr>\n",
       "\t<tr><td> 1</td><td>29</td><td>15</td><td>52</td><td> 74.3</td></tr>\n",
       "\t<tr><td>11</td><td>56</td><td> 8</td><td>20</td><td>104.3</td></tr>\n",
       "\t<tr><td>11</td><td>31</td><td> 8</td><td>47</td><td> 87.6</td></tr>\n",
       "\t<tr><td> 7</td><td>52</td><td> 6</td><td>33</td><td> 95.9</td></tr>\n",
       "\t<tr><td>11</td><td>55</td><td> 9</td><td>22</td><td>109.2</td></tr>\n",
       "\t<tr><td> 3</td><td>71</td><td>17</td><td> 6</td><td>102.7</td></tr>\n",
       "\t<tr><td> 1</td><td>31</td><td>22</td><td>44</td><td> 72.5</td></tr>\n",
       "\t<tr><td> 2</td><td>54</td><td>18</td><td>22</td><td> 93.1</td></tr>\n",
       "\t<tr><td>21</td><td>47</td><td> 4</td><td>26</td><td>115.9</td></tr>\n",
       "\t<tr><td> 1</td><td>40</td><td>23</td><td>34</td><td> 83.8</td></tr>\n",
       "\t<tr><td>11</td><td>66</td><td> 9</td><td>12</td><td>113.3</td></tr>\n",
       "\t<tr><td>10</td><td>68</td><td> 8</td><td>12</td><td>109.4</td></tr>\n",
       "</tbody>\n",
       "</table>\n"
      ],
      "text/latex": [
       "A data.frame: 13 × 5\n",
       "\\begin{tabular}{r|lllll}\n",
       " X1 & X2 & X3 & X4 & Y\\\\\n",
       " <dbl> & <dbl> & <dbl> & <dbl> & <dbl>\\\\\n",
       "\\hline\n",
       "\t  7 & 26 &  6 & 60 &  78.5\\\\\n",
       "\t  1 & 29 & 15 & 52 &  74.3\\\\\n",
       "\t 11 & 56 &  8 & 20 & 104.3\\\\\n",
       "\t 11 & 31 &  8 & 47 &  87.6\\\\\n",
       "\t  7 & 52 &  6 & 33 &  95.9\\\\\n",
       "\t 11 & 55 &  9 & 22 & 109.2\\\\\n",
       "\t  3 & 71 & 17 &  6 & 102.7\\\\\n",
       "\t  1 & 31 & 22 & 44 &  72.5\\\\\n",
       "\t  2 & 54 & 18 & 22 &  93.1\\\\\n",
       "\t 21 & 47 &  4 & 26 & 115.9\\\\\n",
       "\t  1 & 40 & 23 & 34 &  83.8\\\\\n",
       "\t 11 & 66 &  9 & 12 & 113.3\\\\\n",
       "\t 10 & 68 &  8 & 12 & 109.4\\\\\n",
       "\\end{tabular}\n"
      ],
      "text/markdown": [
       "\n",
       "A data.frame: 13 × 5\n",
       "\n",
       "| X1 &lt;dbl&gt; | X2 &lt;dbl&gt; | X3 &lt;dbl&gt; | X4 &lt;dbl&gt; | Y &lt;dbl&gt; |\n",
       "|---|---|---|---|---|\n",
       "|  7 | 26 |  6 | 60 |  78.5 |\n",
       "|  1 | 29 | 15 | 52 |  74.3 |\n",
       "| 11 | 56 |  8 | 20 | 104.3 |\n",
       "| 11 | 31 |  8 | 47 |  87.6 |\n",
       "|  7 | 52 |  6 | 33 |  95.9 |\n",
       "| 11 | 55 |  9 | 22 | 109.2 |\n",
       "|  3 | 71 | 17 |  6 | 102.7 |\n",
       "|  1 | 31 | 22 | 44 |  72.5 |\n",
       "|  2 | 54 | 18 | 22 |  93.1 |\n",
       "| 21 | 47 |  4 | 26 | 115.9 |\n",
       "|  1 | 40 | 23 | 34 |  83.8 |\n",
       "| 11 | 66 |  9 | 12 | 113.3 |\n",
       "| 10 | 68 |  8 | 12 | 109.4 |\n",
       "\n"
      ],
      "text/plain": [
       "   X1 X2 X3 X4 Y    \n",
       "1   7 26  6 60  78.5\n",
       "2   1 29 15 52  74.3\n",
       "3  11 56  8 20 104.3\n",
       "4  11 31  8 47  87.6\n",
       "5   7 52  6 33  95.9\n",
       "6  11 55  9 22 109.2\n",
       "7   3 71 17  6 102.7\n",
       "8   1 31 22 44  72.5\n",
       "9   2 54 18 22  93.1\n",
       "10 21 47  4 26 115.9\n",
       "11  1 40 23 34  83.8\n",
       "12 11 66  9 12 113.3\n",
       "13 10 68  8 12 109.4"
      ]
     },
     "metadata": {},
     "output_type": "display_data"
    }
   ],
   "source": [
    "df"
   ]
  },
  {
   "cell_type": "code",
   "execution_count": 22,
   "metadata": {},
   "outputs": [
    {
     "name": "stdout",
     "output_type": "stream",
     "text": [
      "Start:  AIC=71.44\n",
      "Y ~ 1\n",
      "\n",
      "       Df Sum of Sq     RSS    AIC\n",
      "+ X4    1   1831.90  883.87 58.852\n",
      "+ X2    1   1809.43  906.34 59.178\n",
      "+ X1    1   1450.08 1265.69 63.519\n",
      "+ X3    1    776.36 1939.40 69.067\n",
      "<none>              2715.76 71.444\n",
      "\n",
      "Step:  AIC=58.85\n",
      "Y ~ X4\n",
      "\n",
      "       Df Sum of Sq     RSS    AIC\n",
      "+ X1    1    809.10   74.76 28.742\n",
      "+ X3    1    708.13  175.74 39.853\n",
      "<none>               883.87 58.852\n",
      "+ X2    1     14.99  868.88 60.629\n",
      "- X4    1   1831.90 2715.76 71.444\n",
      "\n",
      "Step:  AIC=28.74\n",
      "Y ~ X4 + X1\n",
      "\n",
      "       Df Sum of Sq     RSS    AIC\n",
      "+ X2    1     26.79   47.97 24.974\n",
      "+ X3    1     23.93   50.84 25.728\n",
      "<none>                74.76 28.742\n",
      "- X1    1    809.10  883.87 58.852\n",
      "- X4    1   1190.92 1265.69 63.519\n",
      "\n",
      "Step:  AIC=24.97\n",
      "Y ~ X4 + X1 + X2\n",
      "\n",
      "       Df Sum of Sq    RSS    AIC\n",
      "<none>               47.97 24.974\n",
      "- X4    1      9.93  57.90 25.420\n",
      "+ X3    1      0.11  47.86 26.944\n",
      "- X2    1     26.79  74.76 28.742\n",
      "- X1    1    820.91 868.88 60.629\n"
     ]
    },
    {
     "data": {
      "text/plain": [
       "\n",
       "Call:\n",
       "lm(formula = Y ~ X4 + X1 + X2, data = df)\n",
       "\n",
       "Coefficients:\n",
       "(Intercept)           X4           X1           X2  \n",
       "    71.6483      -0.2365       1.4519       0.4161  \n"
      ]
     },
     "metadata": {},
     "output_type": "display_data"
    }
   ],
   "source": [
    "step(lm(Y ~1, df), scope=list(lower=~1, upper=~X1+X2+X3+X4), direction=\"both\")"
   ]
  },
  {
   "cell_type": "markdown",
   "metadata": {},
   "source": [
    "* 최종 회귀모형은 Y=71.6483-0.2365X4+1.4519X1+0.4161X2"
   ]
  }
 ],
 "metadata": {
  "kernelspec": {
   "display_name": "R",
   "language": "R",
   "name": "ir"
  },
  "language_info": {
   "codemirror_mode": "r",
   "file_extension": ".r",
   "mimetype": "text/x-r-source",
   "name": "R",
   "pygments_lexer": "r",
   "version": "3.5.1"
  }
 },
 "nbformat": 4,
 "nbformat_minor": 2
}
