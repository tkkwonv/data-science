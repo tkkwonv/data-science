{
 "cells": [
  {
   "cell_type": "markdown",
   "metadata": {},
   "source": [
    "# 데이터마이닝\n",
    "#### 데이터 마이닝 (data mining)은 흔히 '데이터 베이스에서의 지식발견(knowledge discovery in database)'이라고 불리우며 그 외에 지식추출(knowledge extraction), 정보수확(information harvesting), 정보고고학(data archeology), 데이터 패턴 프로세싱(data pattern processing) 등으로도 불리운다.\n",
    "\n",
    "##### 데이터 마이닝을 한마디로 정의하면, 거대한 양의 데이터 속에서 쉽게 드러나지 않는 유용한 정보를 찾아내는 과정이라고 할 수 있다."
   ]
  },
  {
   "cell_type": "markdown",
   "metadata": {},
   "source": [
    "## 1. 분류(Classification)\n",
    "#### 분류(classification)는 새롭게 나타난 현상을 검토하여 기존의 분류, 정의된 집합에 배정하는 것을 의미한다.\n",
    "\n",
    "##### 분류기법으로는 의사결정나무(decision trees), momory-based reasoning 등이 주로 사용되며, link analysis도 유용하게 사용된다."
   ]
  },
  {
   "cell_type": "markdown",
   "metadata": {},
   "source": [
    "## 2. 추정( Estimation)\n",
    "#### 추정은 '수입, 수준, 신용카드 잔고'등 연속된 변수의 값을 추정하는데 사용한다.\n",
    "\n",
    "##### 주로 사용되는 기법은 신경망 모형(neural networks)이다."
   ]
  },
  {
   "cell_type": "markdown",
   "metadata": {},
   "source": [
    "## 3. 예측(Prediction)\n",
    "#### 예측은 미래의 양상을 예측하거나 미래의 값을 추정하는 것을 제외하면 추정과 동일한 의미를 갖는다.\n",
    "\n",
    "##### 장바구니 분석, memory-based reasoning, 의사결정나무, 신경망 등이 모두 예측에 사용되는 기법이다."
   ]
  },
  {
   "cell_type": "markdown",
   "metadata": {},
   "source": [
    "## 4. 연관 분석(Association Analysis)\n",
    "#### 연관분석은 '같이 팔리는 물건'과 같이 아이템의 연관성을 파악하는 분석이다.\n",
    "\n",
    "##### 연관분석의 한 기법인 장바구니 분석의 결과는 연관 규칙(association rules)으로 나타난다."
   ]
  },
  {
   "cell_type": "markdown",
   "metadata": {},
   "source": [
    "## 5. 군집(Clustering)\n",
    "#### 군집은 이질적인 모집단을 동질성을 지닌 그룹 별로 세분화하는 것을 의미한다.\n",
    "미리 정의된 기준이나 예시에 의해서가 아닌, 레코드 자체가 지니고 있는 다른 레코드와의 유사성에 의해 그룹화 되고 이질성에 의해 세분화된다."
   ]
  },
  {
   "cell_type": "markdown",
   "metadata": {},
   "source": [
    "## 6. 기술(Description)\n",
    "#### 데이터마이닝의 목적은 사람, 상품에 관한 이해를 증가시키기 위한 것으로 데이터가 가지고 있는 의미를 단순하게 기술화하는 것도 의미를 파악하는 것만큼 중요하다.\n",
    "\n",
    "데이터마이닝의 기능을 추진하기 위하여 데이터 마이닝 소프트웨어의 도입 등 적절한 환경을 구축한 후에는 일반적으로 목적 정의, 데이터 준비, 데이터 가공, 데이터 마이닝 기법의 적용, 검증의 5단계를 수행한다."
   ]
  },
  {
   "cell_type": "markdown",
   "metadata": {},
   "source": [
    "### 가. 목적 정의\n",
    "##### 데이터 마이닝 도입의 목적을 분명히 하는 단계이다.\n",
    "\n",
    "### 나. 데이터 준비\n",
    "##### 고객정보와 거래정보, 상품 마스터 정보 등 데이터 마이닝 수행에 필요한 데이터를 수집하는 단계이다.\n",
    "\n",
    "### 다. 데이터 가공\n",
    "##### 목적 변수를 정의하고 필요한 데이터를 데이터 마이닝 소프트웨어 적용할 수 있도록 적합한 형식으로 가공한다.\n",
    "\n",
    "### 라. 데이터 마이닝 기법의 적용\n",
    "##### 수집된 데이터에 데이터 마이닝 기법을 적용하는 단계이다.\n",
    "이 때 적용할 데이터 마이닝 기법은 1단계인 목적 정의 단계에서 미리 결정하는 것이 바람직하다.\n",
    "\n",
    "### 마. 검증\n",
    "##### 데이터 마이닝으로 추출한 정보를 검증하는 단계이다."
   ]
  }
 ],
 "metadata": {
  "kernelspec": {
   "display_name": "R",
   "language": "R",
   "name": "ir"
  },
  "language_info": {
   "codemirror_mode": "r",
   "file_extension": ".r",
   "mimetype": "text/x-r-source",
   "name": "R",
   "pygments_lexer": "r",
   "version": "3.5.1"
  }
 },
 "nbformat": 4,
 "nbformat_minor": 2
}
