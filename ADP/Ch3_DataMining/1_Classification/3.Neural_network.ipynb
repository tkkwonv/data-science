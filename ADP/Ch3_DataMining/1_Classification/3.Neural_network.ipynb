{
 "cells": [
  {
   "cell_type": "markdown",
   "metadata": {},
   "source": [
    "# 신경망 모형"
   ]
  },
  {
   "cell_type": "markdown",
   "metadata": {},
   "source": [
    "##### 인공신경망(artificial neural networks) 모형은 동물의 뇌신경계를 모방하여 분류(또는 예측)를 위해 만들어진 모형이다.\n",
    "자연뉴런(natural neurons)이 시냅스(synapse)를 통하여 신호를 전달받은 과정에서, 신호의 강도가 기준치를 초과할 때 뉴런은 활성화되고, 신경 돌기(axon)를 통해 신호를 방출하듯이, 인공신경망에서 입력(inputs)은 시냅스에 해당하며 개별신호의 강도에 따라 가중(weight)되며, 활성함수(activation function)는 인공신경망의 출력(outputs)을 계산한다.\n",
    "많은 데이터에 대해 학습(learning 또는 training)을 거쳐, 원하는 결과가 나오도록(오차가 작아지는 방향으로) 가중치가 조정된다.\n",
    "##### 입력층이 (은닉층을 가치지 않고) 직접 출력층에 연결되는 단층신경망(single-layer neural network) 네트워크 구조는 퍼셉트론(perceptron)으로 불리기도 한다."
   ]
  },
  {
   "cell_type": "markdown",
   "metadata": {},
   "source": [
    "## [예제1] iris 자료에 대해 신경망 모형을 이용하여 분석\n",
    "자료의 수는 150개이며 입력변수의 차원은 4이며, 목표값은 3개의 범주로 출력된다."
   ]
  },
  {
   "cell_type": "code",
   "execution_count": 1,
   "metadata": {},
   "outputs": [],
   "source": [
    "library(nnet)"
   ]
  },
  {
   "cell_type": "code",
   "execution_count": 2,
   "metadata": {},
   "outputs": [
    {
     "name": "stdout",
     "output_type": "stream",
     "text": [
      "# weights:  19\n",
      "initial  value 165.341850 \n",
      "iter  10 value 67.245061\n",
      "iter  20 value 18.927798\n",
      "iter  30 value 13.956290\n",
      "iter  40 value 12.659803\n",
      "iter  50 value 11.024970\n",
      "iter  60 value 9.385238\n",
      "iter  70 value 8.412962\n",
      "iter  80 value 8.046965\n",
      "iter  90 value 7.801570\n",
      "iter 100 value 7.555177\n",
      "iter 110 value 6.981162\n",
      "iter 120 value 6.452884\n",
      "iter 130 value 6.403559\n",
      "iter 140 value 6.361911\n",
      "iter 150 value 6.345923\n",
      "iter 160 value 6.322411\n",
      "iter 170 value 6.318038\n",
      "iter 180 value 6.317806\n",
      "iter 190 value 6.317648\n",
      "iter 200 value 6.317589\n",
      "final  value 6.317589 \n",
      "stopped after 200 iterations\n"
     ]
    }
   ],
   "source": [
    "nn.iris <- nnet(Species~., data=iris, size=2, rang=0.1, decay=5e-4, maxit=200)"
   ]
  },
  {
   "cell_type": "code",
   "execution_count": 3,
   "metadata": {},
   "outputs": [
    {
     "data": {
      "text/plain": [
       "a 4-2-3 network with 19 weights\n",
       "options were - softmax modelling  decay=5e-04\n",
       " b->h1 i1->h1 i2->h1 i3->h1 i4->h1 \n",
       "  8.79   0.51   1.39  -1.95  -3.78 \n",
       " b->h2 i1->h2 i2->h2 i3->h2 i4->h2 \n",
       "  0.46   0.67   1.78  -3.10  -1.54 \n",
       " b->o1 h1->o1 h2->o1 \n",
       " -4.79   1.29  10.06 \n",
       " b->o2 h1->o2 h2->o2 \n",
       " -2.59   9.22  -8.86 \n",
       " b->o3 h1->o3 h2->o3 \n",
       "  7.39 -10.50  -1.20 "
      ]
     },
     "metadata": {},
     "output_type": "display_data"
    }
   ],
   "source": [
    "summary(nn.iris)"
   ]
  },
  {
   "cell_type": "markdown",
   "metadata": {},
   "source": [
    "위의 결과는 연결선의 방향과 가중치를 나타낸다.\n",
    "##### 적합결과를 시각화하면 다음과 같다."
   ]
  },
  {
   "cell_type": "code",
   "execution_count": null,
   "metadata": {},
   "outputs": [],
   "source": [
    "library(devtools)"
   ]
  },
  {
   "cell_type": "code",
   "execution_count": null,
   "metadata": {},
   "outputs": [],
   "source": []
  }
 ],
 "metadata": {
  "kernelspec": {
   "display_name": "R",
   "language": "R",
   "name": "ir"
  },
  "language_info": {
   "codemirror_mode": "r",
   "file_extension": ".r",
   "mimetype": "text/x-r-source",
   "name": "R",
   "pygments_lexer": "r",
   "version": "3.5.1"
  }
 },
 "nbformat": 4,
 "nbformat_minor": 2
}
