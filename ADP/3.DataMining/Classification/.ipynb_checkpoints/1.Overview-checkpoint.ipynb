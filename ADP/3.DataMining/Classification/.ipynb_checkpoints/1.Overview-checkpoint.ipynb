{
 "cells": [
  {
   "cell_type": "markdown",
   "metadata": {},
   "source": [
    "# 분류 분석\n",
    "##### 분류 분석은 반응변수(또는 종속변수)가 알려진 다변량 자료를 이용하여 모형을 구축하고, 이를 통해 새로운 자료에 대한 예측 및 분류를 수행하는 것이 목적이다.\n",
    "* 로지스틱회귀(logistic regression) 모형, 신경망(artificial neural network) 모형, 의사결정나무(decision tree) 모형, 앙상블(ensemble)\n",
    "* 규칙기반(rule-based)분류, 사례기반(case-based)분류, 인접이웃(nearest neighbor)분류모형, 베이즈(bayesian) 분류모형, SVM(support vector machine), 유전자 알고리즘(genetic algorithm)"
   ]
  },
  {
   "cell_type": "code",
   "execution_count": null,
   "metadata": {},
   "outputs": [],
   "source": []
  }
 ],
 "metadata": {
  "kernelspec": {
   "display_name": "R",
   "language": "R",
   "name": "ir"
  },
  "language_info": {
   "codemirror_mode": "r",
   "file_extension": ".r",
   "mimetype": "text/x-r-source",
   "name": "R",
   "pygments_lexer": "r",
   "version": "3.5.1"
  }
 },
 "nbformat": 4,
 "nbformat_minor": 2
}
