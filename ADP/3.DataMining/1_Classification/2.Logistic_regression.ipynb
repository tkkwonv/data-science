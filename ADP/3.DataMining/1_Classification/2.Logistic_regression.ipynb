{
 "cells": [
  {
   "cell_type": "markdown",
   "metadata": {},
   "source": [
    "# 로지스틱 회귀모형\n",
    "##### 지도학습\n",
    "\n",
    "#### 반응변수가 범주형인 경우에 적용되는 회귀분석 모형이다.\n",
    "이 방법은 새로운 설명변수(또는 예측변수)의 값이 주어질 때 반응변수의 각 범주(또는 집단)에 속할 확률이 얼마인지를 추정하여(예측모형), 추정확률을 기준치에 따라 분류하는 목적으로 사용될 수도 있다(분류모형).\n",
    "이 때, 모형의 적합을 통해 추정된 확률을 사후확률(posterior probability)이라 부르기도 한다."
   ]
  },
  {
   "cell_type": "markdown",
   "metadata": {},
   "source": [
    "## [예제1] 예측변수가 1개인 단순 로지스틱 회귀모형"
   ]
  },
  {
   "cell_type": "markdown",
   "metadata": {},
   "source": [
    "반응변수의 범주가 2개인 로지스틱 회귀를 적용하기 위해 iris 자료의 일부분만 이용한다.\n",
    "Species가 setosa와 versicolor인 100개의 자료만을 이용한다."
   ]
  },
  {
   "cell_type": "code",
   "execution_count": 2,
   "metadata": {},
   "outputs": [
    {
     "name": "stdout",
     "output_type": "stream",
     "text": [
      "'data.frame':\t100 obs. of  5 variables:\n",
      " $ Sepal.Length: num  5.1 4.9 4.7 4.6 5 5.4 4.6 5 4.4 4.9 ...\n",
      " $ Sepal.Width : num  3.5 3 3.2 3.1 3.6 3.9 3.4 3.4 2.9 3.1 ...\n",
      " $ Petal.Length: num  1.4 1.4 1.3 1.5 1.4 1.7 1.4 1.5 1.4 1.5 ...\n",
      " $ Petal.Width : num  0.2 0.2 0.2 0.2 0.2 0.4 0.3 0.2 0.2 0.1 ...\n",
      " $ Species     : Factor w/ 2 levels \"setosa\",\"versicolor\": 1 1 1 1 1 1 1 1 1 1 ...\n"
     ]
    }
   ],
   "source": [
    "data(iris)\n",
    "a <- subset(iris, Species == \"setosa\" | Species == \"versicolor\")\n",
    "a$Species <- factor(a$Species)\n",
    "str(a)"
   ]
  },
  {
   "cell_type": "markdown",
   "metadata": {},
   "source": [
    "glm() 함수를 이용하여 로지스틱 회귀모형을 수행한다. 이 때 family=binomial 옵션을 사용한다."
   ]
  },
  {
   "cell_type": "code",
   "execution_count": 3,
   "metadata": {},
   "outputs": [
    {
     "data": {
      "text/plain": [
       "\n",
       "Call:\n",
       "glm(formula = Species ~ Sepal.Length, family = binomial, data = a)\n",
       "\n",
       "Deviance Residuals: \n",
       "     Min        1Q    Median        3Q       Max  \n",
       "-2.05501  -0.47395  -0.02829   0.39788   2.32915  \n",
       "\n",
       "Coefficients:\n",
       "             Estimate Std. Error z value Pr(>|z|)    \n",
       "(Intercept)   -27.831      5.434  -5.122 3.02e-07 ***\n",
       "Sepal.Length    5.140      1.007   5.107 3.28e-07 ***\n",
       "---\n",
       "Signif. codes:  0 ‘***’ 0.001 ‘**’ 0.01 ‘*’ 0.05 ‘.’ 0.1 ‘ ’ 1\n",
       "\n",
       "(Dispersion parameter for binomial family taken to be 1)\n",
       "\n",
       "    Null deviance: 138.629  on 99  degrees of freedom\n",
       "Residual deviance:  64.211  on 98  degrees of freedom\n",
       "AIC: 68.211\n",
       "\n",
       "Number of Fisher Scoring iterations: 6\n"
      ]
     },
     "metadata": {},
     "output_type": "display_data"
    }
   ],
   "source": [
    "b <- glm(Species~Sepal.Length, data=a, family=binomial)\n",
    "summary(b)"
   ]
  },
  {
   "cell_type": "markdown",
   "metadata": {},
   "source": [
    "회귀계수의 검정에서 p-값이 3.28e-07이므로 Sepal.Length가 매우 유의한 변수이며, Sepal.Length가 한 단위 증가함에 따라 versicolor(Y=2)일 오즈가 exp(5.140) 170배 증가함을 알 수 있다.\n",
    "\n",
    "위 결과의 마지막 부분에 제시된 Null deviance는 절편만 포함하는 모형의 완전모형(포화모형)으로부터의 이탈도(deviance)를 나타내며 통계적으로 유의하므로 적합결여를 나타낸다."
   ]
  },
  {
   "cell_type": "code",
   "execution_count": 4,
   "metadata": {},
   "outputs": [
    {
     "data": {
      "text/html": [
       "<dl class=dl-horizontal>\n",
       "\t<dt>(Intercept)</dt>\n",
       "\t\t<dd>-27.8314509865048</dd>\n",
       "\t<dt>Sepal.Length</dt>\n",
       "\t\t<dd>5.14033613779181</dd>\n",
       "</dl>\n"
      ],
      "text/latex": [
       "\\begin{description*}\n",
       "\\item[(Intercept)] -27.8314509865048\n",
       "\\item[Sepal.Length] 5.14033613779181\n",
       "\\end{description*}\n"
      ],
      "text/markdown": [
       "(Intercept)\n",
       ":   -27.8314509865048Sepal.Length\n",
       ":   5.14033613779181\n",
       "\n"
      ],
      "text/plain": [
       " (Intercept) Sepal.Length \n",
       "  -27.831451     5.140336 "
      ]
     },
     "metadata": {},
     "output_type": "display_data"
    }
   ],
   "source": [
    "coef(b)"
   ]
  },
  {
   "cell_type": "code",
   "execution_count": 5,
   "metadata": {},
   "outputs": [
    {
     "data": {
      "text/html": [
       "<strong>Sepal.Length:</strong> 170.773161988263"
      ],
      "text/latex": [
       "\\textbf{Sepal.Length:} 170.773161988263"
      ],
      "text/markdown": [
       "**Sepal.Length:** 170.773161988263"
      ],
      "text/plain": [
       "Sepal.Length \n",
       "    170.7732 "
      ]
     },
     "metadata": {},
     "output_type": "display_data"
    }
   ],
   "source": [
    "exp(coef(b)[\"Sepal.Length\"])"
   ]
  },
  {
   "cell_type": "markdown",
   "metadata": {},
   "source": [
    "회귀계수 베타와 오즈의 증가량 exp(베타)에 대한 신뢰구간은 다음과 같다."
   ]
  },
  {
   "cell_type": "code",
   "execution_count": 6,
   "metadata": {},
   "outputs": [
    {
     "name": "stderr",
     "output_type": "stream",
     "text": [
      "Waiting for profiling to be done...\n"
     ]
    },
    {
     "data": {
      "text/html": [
       "<dl class=dl-horizontal>\n",
       "\t<dt>2.5 %</dt>\n",
       "\t\t<dd>3.42161349390365</dd>\n",
       "\t<dt>97.5 %</dt>\n",
       "\t\t<dd>7.41550849942133</dd>\n",
       "</dl>\n"
      ],
      "text/latex": [
       "\\begin{description*}\n",
       "\\item[2.5 \\textbackslash{}\\%] 3.42161349390365\n",
       "\\item[97.5 \\textbackslash{}\\%] 7.41550849942133\n",
       "\\end{description*}\n"
      ],
      "text/markdown": [
       "2.5 %\n",
       ":   3.4216134939036597.5 %\n",
       ":   7.41550849942133\n",
       "\n"
      ],
      "text/plain": [
       "   2.5 %   97.5 % \n",
       "3.421613 7.415508 "
      ]
     },
     "metadata": {},
     "output_type": "display_data"
    }
   ],
   "source": [
    "confint(b, parm = \"Sepal.Length\")"
   ]
  },
  {
   "cell_type": "code",
   "execution_count": 7,
   "metadata": {},
   "outputs": [
    {
     "name": "stderr",
     "output_type": "stream",
     "text": [
      "Waiting for profiling to be done...\n"
     ]
    },
    {
     "data": {
      "text/html": [
       "<dl class=dl-horizontal>\n",
       "\t<dt>2.5 %</dt>\n",
       "\t\t<dd>30.6187783988702</dd>\n",
       "\t<dt>97.5 %</dt>\n",
       "\t\t<dd>1661.55385279045</dd>\n",
       "</dl>\n"
      ],
      "text/latex": [
       "\\begin{description*}\n",
       "\\item[2.5 \\textbackslash{}\\%] 30.6187783988702\n",
       "\\item[97.5 \\textbackslash{}\\%] 1661.55385279045\n",
       "\\end{description*}\n"
      ],
      "text/markdown": [
       "2.5 %\n",
       ":   30.618778398870297.5 %\n",
       ":   1661.55385279045\n",
       "\n"
      ],
      "text/plain": [
       "     2.5 %     97.5 % \n",
       "  30.61878 1661.55385 "
      ]
     },
     "metadata": {},
     "output_type": "display_data"
    }
   ],
   "source": [
    "exp(confint(b, parm = \"Sepal.Length\"))"
   ]
  },
  {
   "cell_type": "markdown",
   "metadata": {},
   "source": [
    "fitted() 함수를 통해 적합 결과를 확인할 수 있다."
   ]
  },
  {
   "cell_type": "code",
   "execution_count": 8,
   "metadata": {},
   "outputs": [
    {
     "data": {
      "text/html": [
       "<dl class=dl-horizontal>\n",
       "\t<dt>1</dt>\n",
       "\t\t<dd>0.165793673130113</dd>\n",
       "\t<dt>2</dt>\n",
       "\t\t<dd>0.0663719305866138</dd>\n",
       "\t<dt>3</dt>\n",
       "\t\t<dd>0.0247982535699575</dd>\n",
       "\t<dt>4</dt>\n",
       "\t\t<dd>0.0149806081609909</dd>\n",
       "\t<dt>5</dt>\n",
       "\t\t<dd>0.106236800075159</dd>\n",
       "\t<dt>96</dt>\n",
       "\t\t<dd>0.812823961304027</dd>\n",
       "\t<dt>97</dt>\n",
       "\t\t<dd>0.812823961304027</dd>\n",
       "\t<dt>98</dt>\n",
       "\t\t<dd>0.982683598308999</dd>\n",
       "\t<dt>99</dt>\n",
       "\t\t<dd>0.165793673130113</dd>\n",
       "\t<dt>100</dt>\n",
       "\t\t<dd>0.812823961304027</dd>\n",
       "</dl>\n"
      ],
      "text/latex": [
       "\\begin{description*}\n",
       "\\item[1] 0.165793673130113\n",
       "\\item[2] 0.0663719305866138\n",
       "\\item[3] 0.0247982535699575\n",
       "\\item[4] 0.0149806081609909\n",
       "\\item[5] 0.106236800075159\n",
       "\\item[96] 0.812823961304027\n",
       "\\item[97] 0.812823961304027\n",
       "\\item[98] 0.982683598308999\n",
       "\\item[99] 0.165793673130113\n",
       "\\item[100] 0.812823961304027\n",
       "\\end{description*}\n"
      ],
      "text/markdown": [
       "1\n",
       ":   0.1657936731301132\n",
       ":   0.06637193058661383\n",
       ":   0.02479825356995754\n",
       ":   0.01498060816099095\n",
       ":   0.10623680007515996\n",
       ":   0.81282396130402797\n",
       ":   0.81282396130402798\n",
       ":   0.98268359830899999\n",
       ":   0.165793673130113100\n",
       ":   0.812823961304027\n",
       "\n"
      ],
      "text/plain": [
       "         1          2          3          4          5         96         97 \n",
       "0.16579367 0.06637193 0.02479825 0.01498061 0.10623680 0.81282396 0.81282396 \n",
       "        98         99        100 \n",
       "0.98268360 0.16579367 0.81282396 "
      ]
     },
     "metadata": {},
     "output_type": "display_data"
    }
   ],
   "source": [
    "fitted(b)[c(1:5, 96:100)]"
   ]
  },
  {
   "cell_type": "markdown",
   "metadata": {},
   "source": [
    "predict() 함수를 이용하여 새로운 자료에 대한 예측을 수행한다."
   ]
  },
  {
   "cell_type": "code",
   "execution_count": 9,
   "metadata": {},
   "outputs": [
    {
     "data": {
      "text/html": [
       "<dl class=dl-horizontal>\n",
       "\t<dt>1</dt>\n",
       "\t\t<dd>0.165793673130113</dd>\n",
       "\t<dt>50</dt>\n",
       "\t\t<dd>0.106236800075159</dd>\n",
       "\t<dt>51</dt>\n",
       "\t\t<dd>0.99971160814976</dd>\n",
       "\t<dt>100</dt>\n",
       "\t\t<dd>0.812823961304027</dd>\n",
       "</dl>\n"
      ],
      "text/latex": [
       "\\begin{description*}\n",
       "\\item[1] 0.165793673130113\n",
       "\\item[50] 0.106236800075159\n",
       "\\item[51] 0.99971160814976\n",
       "\\item[100] 0.812823961304027\n",
       "\\end{description*}\n"
      ],
      "text/markdown": [
       "1\n",
       ":   0.16579367313011350\n",
       ":   0.10623680007515951\n",
       ":   0.99971160814976100\n",
       ":   0.812823961304027\n",
       "\n"
      ],
      "text/plain": [
       "        1        50        51       100 \n",
       "0.1657937 0.1062368 0.9997116 0.8128240 "
      ]
     },
     "metadata": {},
     "output_type": "display_data"
    }
   ],
   "source": [
    "predict(b, newdata=a[c(1, 50, 51, 100), ], type=\"response\")"
   ]
  },
  {
   "cell_type": "markdown",
   "metadata": {},
   "source": [
    "cdplot() 함수는 Sepal.Length(연속형 변수)의 변화에 따른 범주형 변수의 조건부 분포를 보여준다.\n",
    "아래의 그림은 Sepal.Length가 커짐에 따라 versicolor의 확률이 증가함을 보여준다.\n",
    "이 함수는 로지스틱 회귀의 탐색적 분석에 유용하다."
   ]
  },
  {
   "cell_type": "code",
   "execution_count": 10,
   "metadata": {},
   "outputs": [
    {
     "data": {
      "image/png": "[encoded data removed]",
      "text/plain": [
       "Plot with title “”"
      ]
     },
     "metadata": {},
     "output_type": "display_data"
    }
   ],
   "source": [
    "cdplot(Species~Sepal.Length, data=a)"
   ]
  },
  {
   "cell_type": "markdown",
   "metadata": {},
   "source": [
    "적합된 로지스틱회귀모형의 그래프는 다음과 같다."
   ]
  },
  {
   "cell_type": "code",
   "execution_count": 12,
   "metadata": {},
   "outputs": [
    {
     "data": {
      "image/png": "[encoded data removed]",
      "text/plain": [
       "plot without title"
      ]
     },
     "metadata": {},
     "output_type": "display_data"
    }
   ],
   "source": [
    "plot(a$Sepal.Length, a$Species, xlab=\"Sepal.Length\")\n",
    "x=seq(min(a$Sepal.Length), max(a$Sepal.Length), 0.1)\n",
    "lines(x, 1+(1/(1+(1/exp(-27.831+5.140*x)))), type=\"l\", col=\"red\")"
   ]
  },
  {
   "cell_type": "markdown",
   "metadata": {},
   "source": [
    "## [예제2] 1973~1974년도에 생산된 32종류의 자동차에 대해 11개 변수값을 측정"
   ]
  },
  {
   "cell_type": "code",
   "execution_count": 1,
   "metadata": {},
   "outputs": [
    {
     "name": "stdout",
     "output_type": "stream",
     "text": [
      "'data.frame':\t32 obs. of  11 variables:\n",
      " $ mpg : num  21 21 22.8 21.4 18.7 18.1 14.3 24.4 22.8 19.2 ...\n",
      " $ cyl : num  6 6 4 6 8 6 8 4 4 6 ...\n",
      " $ disp: num  160 160 108 258 360 ...\n",
      " $ hp  : num  110 110 93 110 175 105 245 62 95 123 ...\n",
      " $ drat: num  3.9 3.9 3.85 3.08 3.15 2.76 3.21 3.69 3.92 3.92 ...\n",
      " $ wt  : num  2.62 2.88 2.32 3.21 3.44 ...\n",
      " $ qsec: num  16.5 17 18.6 19.4 17 ...\n",
      " $ vs  : num  0 0 1 1 0 1 0 1 1 1 ...\n",
      " $ am  : num  1 1 1 0 0 0 0 0 0 0 ...\n",
      " $ gear: num  4 4 4 3 3 3 3 4 4 4 ...\n",
      " $ carb: num  4 4 1 1 2 1 4 2 2 4 ...\n"
     ]
    }
   ],
   "source": [
    "attach(mtcars)\n",
    "str(mtcars)"
   ]
  },
  {
   "cell_type": "markdown",
   "metadata": {},
   "source": [
    "이항 변수 vs(0:flat engine, 1:straight engine)를 반응변수로, mpg(miles/gallon)와 am(Transmission:0=automatic, 1:manual)을 예측변수로 하는 로지스틱 회귀모형을 이용하면 다음과 같다.\n",
    "\n",
    "##### 다중로지스틱 회귀분석\n",
    "아래의 glm() 함수의 적용시 family=binomial은 family=binomial(logit)과 동일하다."
   ]
  },
  {
   "cell_type": "code",
   "execution_count": 2,
   "metadata": {},
   "outputs": [
    {
     "data": {
      "text/plain": [
       "\n",
       "Call:\n",
       "glm(formula = vs ~ mpg + am, family = binomial, data = mtcars)\n",
       "\n",
       "Deviance Residuals: \n",
       "     Min        1Q    Median        3Q       Max  \n",
       "-2.05888  -0.44544  -0.08765   0.33335   1.68405  \n",
       "\n",
       "Coefficients:\n",
       "            Estimate Std. Error z value Pr(>|z|)   \n",
       "(Intercept) -12.7051     4.6252  -2.747  0.00602 **\n",
       "mpg           0.6809     0.2524   2.698  0.00697 **\n",
       "am           -3.0073     1.5995  -1.880  0.06009 . \n",
       "---\n",
       "Signif. codes:  0 ‘***’ 0.001 ‘**’ 0.01 ‘*’ 0.05 ‘.’ 0.1 ‘ ’ 1\n",
       "\n",
       "(Dispersion parameter for binomial family taken to be 1)\n",
       "\n",
       "    Null deviance: 43.860  on 31  degrees of freedom\n",
       "Residual deviance: 20.646  on 29  degrees of freedom\n",
       "AIC: 26.646\n",
       "\n",
       "Number of Fisher Scoring iterations: 6\n"
      ]
     },
     "metadata": {},
     "output_type": "display_data"
    }
   ],
   "source": [
    "glm.vs <- glm(vs~mpg+am, data=mtcars, family=binomial)\n",
    "summary(glm.vs)"
   ]
  },
  {
   "cell_type": "markdown",
   "metadata": {},
   "source": [
    "다른 모든 변수들(여기서는am)이 주어질 때, mpg값이 한단위 증가함에 따라 vs가 1일 오즈가 exp(0.689), 1.98배(즉, 98%) 증가한다.\n",
    "마찬가지로, mpg가 주어질 때, 오즈에 대한 am의 효과는 emp(-3.0073), 0.05배 즉, 변속기가 수동인 경우 자동에 비해 vs=1의 오즈가 95%나 감소한다."
   ]
  },
  {
   "cell_type": "markdown",
   "metadata": {},
   "source": [
    "예측변수가 여러개인 모형의 적합시 변수선택법을 적용하기 위해서는 direction= 옵션을 사용한다.\n",
    "\n",
    "direction= 옵션에는 \"both\", \"backward\", \"forward\"가 있으며, 디폴트는 \"backward\"가 적용된다."
   ]
  },
  {
   "cell_type": "code",
   "execution_count": 4,
   "metadata": {},
   "outputs": [
    {
     "name": "stdout",
     "output_type": "stream",
     "text": [
      "Start:  AIC=26.65\n",
      "vs ~ mpg + am\n",
      "\n",
      "       Df Deviance    AIC\n",
      "<none>      20.646 26.646\n",
      "- am    1   25.533 29.533\n",
      "- mpg   1   42.953 46.953\n"
     ]
    }
   ],
   "source": [
    "step.vs <- step(glm.vs, direction=\"backward\")"
   ]
  },
  {
   "cell_type": "markdown",
   "metadata": {},
   "source": [
    "아래의 summary() 함수를 수행한 결과는 위의 summary(glm.vs)의 결과와 동일하다."
   ]
  },
  {
   "cell_type": "code",
   "execution_count": 5,
   "metadata": {},
   "outputs": [
    {
     "data": {
      "text/plain": [
       "\n",
       "Call:\n",
       "glm(formula = vs ~ mpg + am, family = binomial, data = mtcars)\n",
       "\n",
       "Deviance Residuals: \n",
       "     Min        1Q    Median        3Q       Max  \n",
       "-2.05888  -0.44544  -0.08765   0.33335   1.68405  \n",
       "\n",
       "Coefficients:\n",
       "            Estimate Std. Error z value Pr(>|z|)   \n",
       "(Intercept) -12.7051     4.6252  -2.747  0.00602 **\n",
       "mpg           0.6809     0.2524   2.698  0.00697 **\n",
       "am           -3.0073     1.5995  -1.880  0.06009 . \n",
       "---\n",
       "Signif. codes:  0 ‘***’ 0.001 ‘**’ 0.01 ‘*’ 0.05 ‘.’ 0.1 ‘ ’ 1\n",
       "\n",
       "(Dispersion parameter for binomial family taken to be 1)\n",
       "\n",
       "    Null deviance: 43.860  on 31  degrees of freedom\n",
       "Residual deviance: 20.646  on 29  degrees of freedom\n",
       "AIC: 26.646\n",
       "\n",
       "Number of Fisher Scoring iterations: 6\n"
      ]
     },
     "metadata": {},
     "output_type": "display_data"
    }
   ],
   "source": [
    "summary(step.vs)"
   ]
  },
  {
   "cell_type": "markdown",
   "metadata": {},
   "source": [
    "glm() 함수의 수행결과는 많은 유용한 결과를 제공한다.\n",
    "glm.vs$coef, glm.vs$fitted, glm.vs$resid, glm.vs$effects 등이 있으며 ls(), str() 함수를 통해 확인할 수 있다."
   ]
  },
  {
   "cell_type": "code",
   "execution_count": 6,
   "metadata": {},
   "outputs": [
    {
     "data": {
      "text/html": [
       "<ol class=list-inline>\n",
       "\t<li>'aic'</li>\n",
       "\t<li>'boundary'</li>\n",
       "\t<li>'call'</li>\n",
       "\t<li>'coefficients'</li>\n",
       "\t<li>'contrasts'</li>\n",
       "\t<li>'control'</li>\n",
       "\t<li>'converged'</li>\n",
       "\t<li>'data'</li>\n",
       "\t<li>'deviance'</li>\n",
       "\t<li>'df.null'</li>\n",
       "\t<li>'df.residual'</li>\n",
       "\t<li>'effects'</li>\n",
       "\t<li>'family'</li>\n",
       "\t<li>'fitted.values'</li>\n",
       "\t<li>'formula'</li>\n",
       "\t<li>'iter'</li>\n",
       "\t<li>'linear.predictors'</li>\n",
       "\t<li>'method'</li>\n",
       "\t<li>'model'</li>\n",
       "\t<li>'null.deviance'</li>\n",
       "\t<li>'offset'</li>\n",
       "\t<li>'prior.weights'</li>\n",
       "\t<li>'qr'</li>\n",
       "\t<li>'R'</li>\n",
       "\t<li>'rank'</li>\n",
       "\t<li>'residuals'</li>\n",
       "\t<li>'terms'</li>\n",
       "\t<li>'weights'</li>\n",
       "\t<li>'xlevels'</li>\n",
       "\t<li>'y'</li>\n",
       "</ol>\n"
      ],
      "text/latex": [
       "\\begin{enumerate*}\n",
       "\\item 'aic'\n",
       "\\item 'boundary'\n",
       "\\item 'call'\n",
       "\\item 'coefficients'\n",
       "\\item 'contrasts'\n",
       "\\item 'control'\n",
       "\\item 'converged'\n",
       "\\item 'data'\n",
       "\\item 'deviance'\n",
       "\\item 'df.null'\n",
       "\\item 'df.residual'\n",
       "\\item 'effects'\n",
       "\\item 'family'\n",
       "\\item 'fitted.values'\n",
       "\\item 'formula'\n",
       "\\item 'iter'\n",
       "\\item 'linear.predictors'\n",
       "\\item 'method'\n",
       "\\item 'model'\n",
       "\\item 'null.deviance'\n",
       "\\item 'offset'\n",
       "\\item 'prior.weights'\n",
       "\\item 'qr'\n",
       "\\item 'R'\n",
       "\\item 'rank'\n",
       "\\item 'residuals'\n",
       "\\item 'terms'\n",
       "\\item 'weights'\n",
       "\\item 'xlevels'\n",
       "\\item 'y'\n",
       "\\end{enumerate*}\n"
      ],
      "text/markdown": [
       "1. 'aic'\n",
       "2. 'boundary'\n",
       "3. 'call'\n",
       "4. 'coefficients'\n",
       "5. 'contrasts'\n",
       "6. 'control'\n",
       "7. 'converged'\n",
       "8. 'data'\n",
       "9. 'deviance'\n",
       "10. 'df.null'\n",
       "11. 'df.residual'\n",
       "12. 'effects'\n",
       "13. 'family'\n",
       "14. 'fitted.values'\n",
       "15. 'formula'\n",
       "16. 'iter'\n",
       "17. 'linear.predictors'\n",
       "18. 'method'\n",
       "19. 'model'\n",
       "20. 'null.deviance'\n",
       "21. 'offset'\n",
       "22. 'prior.weights'\n",
       "23. 'qr'\n",
       "24. 'R'\n",
       "25. 'rank'\n",
       "26. 'residuals'\n",
       "27. 'terms'\n",
       "28. 'weights'\n",
       "29. 'xlevels'\n",
       "30. 'y'\n",
       "\n",
       "\n"
      ],
      "text/plain": [
       " [1] \"aic\"               \"boundary\"          \"call\"             \n",
       " [4] \"coefficients\"      \"contrasts\"         \"control\"          \n",
       " [7] \"converged\"         \"data\"              \"deviance\"         \n",
       "[10] \"df.null\"           \"df.residual\"       \"effects\"          \n",
       "[13] \"family\"            \"fitted.values\"     \"formula\"          \n",
       "[16] \"iter\"              \"linear.predictors\" \"method\"           \n",
       "[19] \"model\"             \"null.deviance\"     \"offset\"           \n",
       "[22] \"prior.weights\"     \"qr\"                \"R\"                \n",
       "[25] \"rank\"              \"residuals\"         \"terms\"            \n",
       "[28] \"weights\"           \"xlevels\"           \"y\"                "
      ]
     },
     "metadata": {},
     "output_type": "display_data"
    },
    {
     "name": "stdout",
     "output_type": "stream",
     "text": [
      "List of 30\n",
      " $ coefficients     : Named num [1:3] -12.705 0.681 -3.007\n",
      "  ..- attr(*, \"names\")= chr [1:3] \"(Intercept)\" \"mpg\" \"am\"\n",
      " $ residuals        : Named num [1:32] -1.24 -1.24 2.21 1.15 -2.03 ...\n",
      "  ..- attr(*, \"names\")= chr [1:32] \"Mazda RX4\" \"Mazda RX4 Wag\" \"Datsun 710\" \"Hornet 4 Drive\" ...\n",
      " $ fitted.values    : Named num [1:32] 0.196 0.196 0.453 0.866 0.507 ...\n",
      "  ..- attr(*, \"names\")= chr [1:32] \"Mazda RX4\" \"Mazda RX4 Wag\" \"Datsun 710\" \"Hornet 4 Drive\" ...\n",
      " $ effects          : Named num [1:32] 0.726 -1.939 1.88 0.932 -0.658 ...\n",
      "  ..- attr(*, \"names\")= chr [1:32] \"(Intercept)\" \"mpg\" \"am\" \"\" ...\n",
      " $ R                : num [1:3, 1:3] -1.8 0 0 -35.07 -5.29 ...\n",
      "  ..- attr(*, \"dimnames\")=List of 2\n",
      "  .. ..$ : chr [1:3] \"(Intercept)\" \"mpg\" \"am\"\n",
      "  .. ..$ : chr [1:3] \"(Intercept)\" \"mpg\" \"am\"\n",
      " $ rank             : int 3\n",
      " $ qr               :List of 5\n",
      "  ..$ qr   : num [1:32, 1:3] -1.804 0.22 0.276 0.189 0.277 ...\n",
      "  .. ..- attr(*, \"dimnames\")=List of 2\n",
      "  .. .. ..$ : chr [1:32] \"Mazda RX4\" \"Mazda RX4 Wag\" \"Datsun 710\" \"Hornet 4 Drive\" ...\n",
      "  .. .. ..$ : chr [1:3] \"(Intercept)\" \"mpg\" \"am\"\n",
      "  ..$ rank : int 3\n",
      "  ..$ qraux: num [1:3] 1.22 1.1 1.12\n",
      "  ..$ pivot: int [1:3] 1 2 3\n",
      "  ..$ tol  : num 1e-11\n",
      "  ..- attr(*, \"class\")= chr \"qr\"\n",
      " $ family           :List of 12\n",
      "  ..$ family    : chr \"binomial\"\n",
      "  ..$ link      : chr \"logit\"\n",
      "  ..$ linkfun   :function (mu)  \n",
      "  ..$ linkinv   :function (eta)  \n",
      "  ..$ variance  :function (mu)  \n",
      "  ..$ dev.resids:function (y, mu, wt)  \n",
      "  ..$ aic       :function (y, n, mu, wt, dev)  \n",
      "  ..$ mu.eta    :function (eta)  \n",
      "  ..$ initialize:  expression({  if (NCOL(y) == 1) {  if (is.factor(y))  y <- y != levels(y)[1L]  n <- rep.int(1, nobs)  y[weights =| __truncated__\n",
      "  ..$ validmu   :function (mu)  \n",
      "  ..$ valideta  :function (eta)  \n",
      "  ..$ simulate  :function (object, nsim)  \n",
      "  ..- attr(*, \"class\")= chr \"family\"\n",
      " $ linear.predictors: Named num [1:32] -1.4131 -1.4131 -0.1874 1.8666 0.0281 ...\n",
      "  ..- attr(*, \"names\")= chr [1:32] \"Mazda RX4\" \"Mazda RX4 Wag\" \"Datsun 710\" \"Hornet 4 Drive\" ...\n",
      " $ deviance         : num 20.6\n",
      " $ aic              : num 26.6\n",
      " $ null.deviance    : num 43.9\n",
      " $ iter             : int 6\n",
      " $ weights          : Named num [1:32] 0.157 0.157 0.248 0.116 0.25 ...\n",
      "  ..- attr(*, \"names\")= chr [1:32] \"Mazda RX4\" \"Mazda RX4 Wag\" \"Datsun 710\" \"Hornet 4 Drive\" ...\n",
      " $ prior.weights    : Named num [1:32] 1 1 1 1 1 1 1 1 1 1 ...\n",
      "  ..- attr(*, \"names\")= chr [1:32] \"Mazda RX4\" \"Mazda RX4 Wag\" \"Datsun 710\" \"Hornet 4 Drive\" ...\n",
      " $ df.residual      : int 29\n",
      " $ df.null          : int 31\n",
      " $ y                : Named num [1:32] 0 0 1 1 0 1 0 1 1 1 ...\n",
      "  ..- attr(*, \"names\")= chr [1:32] \"Mazda RX4\" \"Mazda RX4 Wag\" \"Datsun 710\" \"Hornet 4 Drive\" ...\n",
      " $ converged        : logi TRUE\n",
      " $ boundary         : logi FALSE\n",
      " $ model            :'data.frame':\t32 obs. of  3 variables:\n",
      "  ..$ vs : num [1:32] 0 0 1 1 0 1 0 1 1 1 ...\n",
      "  ..$ mpg: num [1:32] 21 21 22.8 21.4 18.7 18.1 14.3 24.4 22.8 19.2 ...\n",
      "  ..$ am : num [1:32] 1 1 1 0 0 0 0 0 0 0 ...\n",
      "  ..- attr(*, \"terms\")=Classes 'terms', 'formula'  language vs ~ mpg + am\n",
      "  .. .. ..- attr(*, \"variables\")= language list(vs, mpg, am)\n",
      "  .. .. ..- attr(*, \"factors\")= int [1:3, 1:2] 0 1 0 0 0 1\n",
      "  .. .. .. ..- attr(*, \"dimnames\")=List of 2\n",
      "  .. .. .. .. ..$ : chr [1:3] \"vs\" \"mpg\" \"am\"\n",
      "  .. .. .. .. ..$ : chr [1:2] \"mpg\" \"am\"\n",
      "  .. .. ..- attr(*, \"term.labels\")= chr [1:2] \"mpg\" \"am\"\n",
      "  .. .. ..- attr(*, \"order\")= int [1:2] 1 1\n",
      "  .. .. ..- attr(*, \"intercept\")= int 1\n",
      "  .. .. ..- attr(*, \"response\")= int 1\n",
      "  .. .. ..- attr(*, \".Environment\")=<environment: R_GlobalEnv> \n",
      "  .. .. ..- attr(*, \"predvars\")= language list(vs, mpg, am)\n",
      "  .. .. ..- attr(*, \"dataClasses\")= Named chr [1:3] \"numeric\" \"numeric\" \"numeric\"\n",
      "  .. .. .. ..- attr(*, \"names\")= chr [1:3] \"vs\" \"mpg\" \"am\"\n",
      " $ call             : language glm(formula = vs ~ mpg + am, family = binomial, data = mtcars)\n",
      " $ formula          :Class 'formula'  language vs ~ mpg + am\n",
      "  .. ..- attr(*, \".Environment\")=<environment: R_GlobalEnv> \n",
      " $ terms            :Classes 'terms', 'formula'  language vs ~ mpg + am\n",
      "  .. ..- attr(*, \"variables\")= language list(vs, mpg, am)\n",
      "  .. ..- attr(*, \"factors\")= int [1:3, 1:2] 0 1 0 0 0 1\n",
      "  .. .. ..- attr(*, \"dimnames\")=List of 2\n",
      "  .. .. .. ..$ : chr [1:3] \"vs\" \"mpg\" \"am\"\n",
      "  .. .. .. ..$ : chr [1:2] \"mpg\" \"am\"\n",
      "  .. ..- attr(*, \"term.labels\")= chr [1:2] \"mpg\" \"am\"\n",
      "  .. ..- attr(*, \"order\")= int [1:2] 1 1\n",
      "  .. ..- attr(*, \"intercept\")= int 1\n",
      "  .. ..- attr(*, \"response\")= int 1\n",
      "  .. ..- attr(*, \".Environment\")=<environment: R_GlobalEnv> \n",
      "  .. ..- attr(*, \"predvars\")= language list(vs, mpg, am)\n",
      "  .. ..- attr(*, \"dataClasses\")= Named chr [1:3] \"numeric\" \"numeric\" \"numeric\"\n",
      "  .. .. ..- attr(*, \"names\")= chr [1:3] \"vs\" \"mpg\" \"am\"\n",
      " $ data             :'data.frame':\t32 obs. of  11 variables:\n",
      "  ..$ mpg : num [1:32] 21 21 22.8 21.4 18.7 18.1 14.3 24.4 22.8 19.2 ...\n",
      "  ..$ cyl : num [1:32] 6 6 4 6 8 6 8 4 4 6 ...\n",
      "  ..$ disp: num [1:32] 160 160 108 258 360 ...\n",
      "  ..$ hp  : num [1:32] 110 110 93 110 175 105 245 62 95 123 ...\n",
      "  ..$ drat: num [1:32] 3.9 3.9 3.85 3.08 3.15 2.76 3.21 3.69 3.92 3.92 ...\n",
      "  ..$ wt  : num [1:32] 2.62 2.88 2.32 3.21 3.44 ...\n",
      "  ..$ qsec: num [1:32] 16.5 17 18.6 19.4 17 ...\n",
      "  ..$ vs  : num [1:32] 0 0 1 1 0 1 0 1 1 1 ...\n",
      "  ..$ am  : num [1:32] 1 1 1 0 0 0 0 0 0 0 ...\n",
      "  ..$ gear: num [1:32] 4 4 4 3 3 3 3 4 4 4 ...\n",
      "  ..$ carb: num [1:32] 4 4 1 1 2 1 4 2 2 4 ...\n",
      " $ offset           : NULL\n",
      " $ control          :List of 3\n",
      "  ..$ epsilon: num 1e-08\n",
      "  ..$ maxit  : num 25\n",
      "  ..$ trace  : logi FALSE\n",
      " $ method           : chr \"glm.fit\"\n",
      " $ contrasts        : NULL\n",
      " $ xlevels          : Named list()\n",
      " - attr(*, \"class\")= chr [1:2] \"glm\" \"lm\"\n"
     ]
    }
   ],
   "source": [
    "ls(glm.vs)\n",
    "str(glm.vs)"
   ]
  },
  {
   "cell_type": "markdown",
   "metadata": {},
   "source": [
    "##### 아래의 anava()함수는 모형의 적합(변수가 추가되는) 단계별로 이탈도의 감소량과 유의성 검정 결과를 제시해 준다."
   ]
  },
  {
   "cell_type": "code",
   "execution_count": 7,
   "metadata": {},
   "outputs": [
    {
     "data": {
      "text/html": [
       "<table>\n",
       "<caption>A anova: 3 × 5</caption>\n",
       "<thead>\n",
       "\t<tr><th></th><th scope=col>Df</th><th scope=col>Deviance</th><th scope=col>Resid. Df</th><th scope=col>Resid. Dev</th><th scope=col>Pr(&gt;Chi)</th></tr>\n",
       "\t<tr><th></th><th scope=col>&lt;int&gt;</th><th scope=col>&lt;dbl&gt;</th><th scope=col>&lt;int&gt;</th><th scope=col>&lt;dbl&gt;</th><th scope=col>&lt;dbl&gt;</th></tr>\n",
       "</thead>\n",
       "<tbody>\n",
       "\t<tr><th scope=row>NULL</th><td>NA</td><td>       NA</td><td>31</td><td>43.86011</td><td>          NA</td></tr>\n",
       "\t<tr><th scope=row>mpg</th><td> 1</td><td>18.326774</td><td>30</td><td>25.53334</td><td>1.860736e-05</td></tr>\n",
       "\t<tr><th scope=row>am</th><td> 1</td><td> 4.887042</td><td>29</td><td>20.64629</td><td>2.705900e-02</td></tr>\n",
       "</tbody>\n",
       "</table>\n"
      ],
      "text/latex": [
       "A anova: 3 × 5\n",
       "\\begin{tabular}{r|lllll}\n",
       "  & Df & Deviance & Resid. Df & Resid. Dev & Pr(>Chi)\\\\\n",
       "  & <int> & <dbl> & <int> & <dbl> & <dbl>\\\\\n",
       "\\hline\n",
       "\tNULL & NA &        NA & 31 & 43.86011 &           NA\\\\\n",
       "\tmpg &  1 & 18.326774 & 30 & 25.53334 & 1.860736e-05\\\\\n",
       "\tam &  1 &  4.887042 & 29 & 20.64629 & 2.705900e-02\\\\\n",
       "\\end{tabular}\n"
      ],
      "text/markdown": [
       "\n",
       "A anova: 3 × 5\n",
       "\n",
       "| <!--/--> | Df &lt;int&gt; | Deviance &lt;dbl&gt; | Resid. Df &lt;int&gt; | Resid. Dev &lt;dbl&gt; | Pr(&gt;Chi) &lt;dbl&gt; |\n",
       "|---|---|---|---|---|---|\n",
       "| NULL | NA |        NA | 31 | 43.86011 |           NA |\n",
       "| mpg |  1 | 18.326774 | 30 | 25.53334 | 1.860736e-05 |\n",
       "| am |  1 |  4.887042 | 29 | 20.64629 | 2.705900e-02 |\n",
       "\n"
      ],
      "text/plain": [
       "     Df Deviance  Resid. Df Resid. Dev Pr(>Chi)    \n",
       "NULL NA        NA 31        43.86011             NA\n",
       "mpg   1 18.326774 30        25.53334   1.860736e-05\n",
       "am    1  4.887042 29        20.64629   2.705900e-02"
      ]
     },
     "metadata": {},
     "output_type": "display_data"
    }
   ],
   "source": [
    "anova(glm.vs, test=\"Chisq\")"
   ]
  },
  {
   "cell_type": "markdown",
   "metadata": {},
   "source": [
    "위의 결과는 절편항만 포함하는 null 모형에서 mpg와 am 변수가 차례로 모형에 추가됨에 따라 발생하는 이탈도의 감소량을 제시하며, p-값은 각각 1.860736e-05 와 2.705900e-02 이다. 그 결과 두 변수가 차례로 추가되면서 생겨나는 이탈도의 감소량이 모두 통계적으로 유의함을 나타낸다."
   ]
  },
  {
   "cell_type": "code",
   "execution_count": 8,
   "metadata": {},
   "outputs": [
    {
     "data": {
      "text/html": [
       "1.8605154929574e-05"
      ],
      "text/latex": [
       "1.8605154929574e-05"
      ],
      "text/markdown": [
       "1.8605154929574e-05"
      ],
      "text/plain": [
       "[1] 1.860515e-05"
      ]
     },
     "metadata": {},
     "output_type": "display_data"
    }
   ],
   "source": [
    "1-pchisq(18.327, 1)"
   ]
  },
  {
   "cell_type": "code",
   "execution_count": 9,
   "metadata": {},
   "outputs": [
    {
     "data": {
      "text/html": [
       "0.0270596668718691"
      ],
      "text/latex": [
       "0.0270596668718691"
      ],
      "text/markdown": [
       "0.0270596668718691"
      ],
      "text/plain": [
       "[1] 0.02705967"
      ]
     },
     "metadata": {},
     "output_type": "display_data"
    }
   ],
   "source": [
    "1-pchisq(4.887, 1)"
   ]
  }
 ],
 "metadata": {
  "kernelspec": {
   "display_name": "R",
   "language": "R",
   "name": "ir"
  },
  "language_info": {
   "codemirror_mode": "r",
   "file_extension": ".r",
   "mimetype": "text/x-r-source",
   "name": "R",
   "pygments_lexer": "r",
   "version": "3.5.1"
  }
 },
 "nbformat": 4,
 "nbformat_minor": 2
}
