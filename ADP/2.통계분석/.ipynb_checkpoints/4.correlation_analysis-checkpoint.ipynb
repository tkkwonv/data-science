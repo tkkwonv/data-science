{
 "cells": [
  {
   "cell_type": "markdown",
   "metadata": {},
   "source": [
    "# 상관분석"
   ]
  },
  {
   "cell_type": "markdown",
   "metadata": {},
   "source": [
    "##### 상관분석((Correlation Analysis)은 데이터 안의 두 변수 간의 관계를 알아보기 위해 상관계수(Correlation coefficient)를 이용한다.\n",
    "\n",
    "* 상관계수가 양수일때는 x가 증가할때 y도 증가하는 경향을 보이고\n",
    "* 상관계수가 음수일때는 x가 증가할때 y가 감소하는 경향을 보인다.\n",
    "* 상관계수가 0인 경우에는 x의 변동에 따라 y의 패턴ㅇ이 변화가 없다."
   ]
  },
  {
   "cell_type": "markdown",
   "metadata": {},
   "source": [
    "## 1. 피어슨 상관계수\n",
    "##### 등간척도 이상으로 측정되는 두 변수들 간의 상관관계를 측정하는데 쓰인다.\n",
    "##### 피어슨의 상관계수는 두 변수 간의 선형관계의 크기를 측정하는 값으로 비선형적인 상관관계는 나타내지 못한다."
   ]
  },
  {
   "cell_type": "code",
   "execution_count": 1,
   "metadata": {},
   "outputs": [
    {
     "name": "stderr",
     "output_type": "stream",
     "text": [
      "Loading required package: lattice\n",
      "Loading required package: survival\n",
      "Loading required package: Formula\n",
      "Loading required package: ggplot2\n",
      "\n",
      "Attaching package: ‘Hmisc’\n",
      "\n",
      "The following objects are masked from ‘package:base’:\n",
      "\n",
      "    format.pval, units\n",
      "\n"
     ]
    }
   ],
   "source": [
    "library(Hmisc)"
   ]
  },
  {
   "cell_type": "code",
   "execution_count": 3,
   "metadata": {},
   "outputs": [
    {
     "data": {
      "text/html": [
       "<table>\n",
       "<caption>A data.frame: 6 × 11</caption>\n",
       "<thead>\n",
       "\t<tr><th></th><th scope=col>mpg</th><th scope=col>cyl</th><th scope=col>disp</th><th scope=col>hp</th><th scope=col>drat</th><th scope=col>wt</th><th scope=col>qsec</th><th scope=col>vs</th><th scope=col>am</th><th scope=col>gear</th><th scope=col>carb</th></tr>\n",
       "\t<tr><th></th><th scope=col>&lt;dbl&gt;</th><th scope=col>&lt;dbl&gt;</th><th scope=col>&lt;dbl&gt;</th><th scope=col>&lt;dbl&gt;</th><th scope=col>&lt;dbl&gt;</th><th scope=col>&lt;dbl&gt;</th><th scope=col>&lt;dbl&gt;</th><th scope=col>&lt;dbl&gt;</th><th scope=col>&lt;dbl&gt;</th><th scope=col>&lt;dbl&gt;</th><th scope=col>&lt;dbl&gt;</th></tr>\n",
       "</thead>\n",
       "<tbody>\n",
       "\t<tr><th scope=row>Mazda RX4</th><td>21.0</td><td>6</td><td>160</td><td>110</td><td>3.90</td><td>2.620</td><td>16.46</td><td>0</td><td>1</td><td>4</td><td>4</td></tr>\n",
       "\t<tr><th scope=row>Mazda RX4 Wag</th><td>21.0</td><td>6</td><td>160</td><td>110</td><td>3.90</td><td>2.875</td><td>17.02</td><td>0</td><td>1</td><td>4</td><td>4</td></tr>\n",
       "\t<tr><th scope=row>Datsun 710</th><td>22.8</td><td>4</td><td>108</td><td> 93</td><td>3.85</td><td>2.320</td><td>18.61</td><td>1</td><td>1</td><td>4</td><td>1</td></tr>\n",
       "\t<tr><th scope=row>Hornet 4 Drive</th><td>21.4</td><td>6</td><td>258</td><td>110</td><td>3.08</td><td>3.215</td><td>19.44</td><td>1</td><td>0</td><td>3</td><td>1</td></tr>\n",
       "\t<tr><th scope=row>Hornet Sportabout</th><td>18.7</td><td>8</td><td>360</td><td>175</td><td>3.15</td><td>3.440</td><td>17.02</td><td>0</td><td>0</td><td>3</td><td>2</td></tr>\n",
       "\t<tr><th scope=row>Valiant</th><td>18.1</td><td>6</td><td>225</td><td>105</td><td>2.76</td><td>3.460</td><td>20.22</td><td>1</td><td>0</td><td>3</td><td>1</td></tr>\n",
       "</tbody>\n",
       "</table>\n"
      ],
      "text/latex": [
       "A data.frame: 6 × 11\n",
       "\\begin{tabular}{r|lllllllllll}\n",
       "  & mpg & cyl & disp & hp & drat & wt & qsec & vs & am & gear & carb\\\\\n",
       "  & <dbl> & <dbl> & <dbl> & <dbl> & <dbl> & <dbl> & <dbl> & <dbl> & <dbl> & <dbl> & <dbl>\\\\\n",
       "\\hline\n",
       "\tMazda RX4 & 21.0 & 6 & 160 & 110 & 3.90 & 2.620 & 16.46 & 0 & 1 & 4 & 4\\\\\n",
       "\tMazda RX4 Wag & 21.0 & 6 & 160 & 110 & 3.90 & 2.875 & 17.02 & 0 & 1 & 4 & 4\\\\\n",
       "\tDatsun 710 & 22.8 & 4 & 108 &  93 & 3.85 & 2.320 & 18.61 & 1 & 1 & 4 & 1\\\\\n",
       "\tHornet 4 Drive & 21.4 & 6 & 258 & 110 & 3.08 & 3.215 & 19.44 & 1 & 0 & 3 & 1\\\\\n",
       "\tHornet Sportabout & 18.7 & 8 & 360 & 175 & 3.15 & 3.440 & 17.02 & 0 & 0 & 3 & 2\\\\\n",
       "\tValiant & 18.1 & 6 & 225 & 105 & 2.76 & 3.460 & 20.22 & 1 & 0 & 3 & 1\\\\\n",
       "\\end{tabular}\n"
      ],
      "text/markdown": [
       "\n",
       "A data.frame: 6 × 11\n",
       "\n",
       "| <!--/--> | mpg &lt;dbl&gt; | cyl &lt;dbl&gt; | disp &lt;dbl&gt; | hp &lt;dbl&gt; | drat &lt;dbl&gt; | wt &lt;dbl&gt; | qsec &lt;dbl&gt; | vs &lt;dbl&gt; | am &lt;dbl&gt; | gear &lt;dbl&gt; | carb &lt;dbl&gt; |\n",
       "|---|---|---|---|---|---|---|---|---|---|---|---|\n",
       "| Mazda RX4 | 21.0 | 6 | 160 | 110 | 3.90 | 2.620 | 16.46 | 0 | 1 | 4 | 4 |\n",
       "| Mazda RX4 Wag | 21.0 | 6 | 160 | 110 | 3.90 | 2.875 | 17.02 | 0 | 1 | 4 | 4 |\n",
       "| Datsun 710 | 22.8 | 4 | 108 |  93 | 3.85 | 2.320 | 18.61 | 1 | 1 | 4 | 1 |\n",
       "| Hornet 4 Drive | 21.4 | 6 | 258 | 110 | 3.08 | 3.215 | 19.44 | 1 | 0 | 3 | 1 |\n",
       "| Hornet Sportabout | 18.7 | 8 | 360 | 175 | 3.15 | 3.440 | 17.02 | 0 | 0 | 3 | 2 |\n",
       "| Valiant | 18.1 | 6 | 225 | 105 | 2.76 | 3.460 | 20.22 | 1 | 0 | 3 | 1 |\n",
       "\n"
      ],
      "text/plain": [
       "                  mpg  cyl disp hp  drat wt    qsec  vs am gear carb\n",
       "Mazda RX4         21.0 6   160  110 3.90 2.620 16.46 0  1  4    4   \n",
       "Mazda RX4 Wag     21.0 6   160  110 3.90 2.875 17.02 0  1  4    4   \n",
       "Datsun 710        22.8 4   108   93 3.85 2.320 18.61 1  1  4    1   \n",
       "Hornet 4 Drive    21.4 6   258  110 3.08 3.215 19.44 1  0  3    1   \n",
       "Hornet Sportabout 18.7 8   360  175 3.15 3.440 17.02 0  0  3    2   \n",
       "Valiant           18.1 6   225  105 2.76 3.460 20.22 1  0  3    1   "
      ]
     },
     "metadata": {},
     "output_type": "display_data"
    }
   ],
   "source": [
    "data(mtcars)\n",
    "head(mtcars)"
   ]
  },
  {
   "cell_type": "markdown",
   "metadata": {},
   "source": [
    "mtcars 데이터세트의 drat, disp 변수간의 산점도"
   ]
  },
  {
   "cell_type": "code",
   "execution_count": 6,
   "metadata": {},
   "outputs": [
    {
     "data": {
      "image/png": "[encoded data removed]",
      "text/plain": [
       "plot without title"
      ]
     },
     "metadata": {},
     "output_type": "display_data"
    }
   ],
   "source": [
    "drat <- mtcars$drat\n",
    "disp <- mtcars$disp\n",
    "plot(drat, disp)"
   ]
  },
  {
   "cell_type": "markdown",
   "metadata": {},
   "source": [
    "두 변수의 상관계수를 구한다."
   ]
  },
  {
   "cell_type": "code",
   "execution_count": 7,
   "metadata": {},
   "outputs": [
    {
     "data": {
      "text/html": [
       "-0.71021392716927"
      ],
      "text/latex": [
       "-0.71021392716927"
      ],
      "text/markdown": [
       "-0.71021392716927"
      ],
      "text/plain": [
       "[1] -0.7102139"
      ]
     },
     "metadata": {},
     "output_type": "display_data"
    }
   ],
   "source": [
    "cor(drat, disp)"
   ]
  },
  {
   "cell_type": "markdown",
   "metadata": {},
   "source": [
    "상관계수를 보면 disp와 drat은 서로 강한 편의 음의 상관성을 가지고 있음을 알 수 있다."
   ]
  },
  {
   "cell_type": "markdown",
   "metadata": {},
   "source": [
    "\n",
    "##### Hmisc 패키지의 rcorr함수를 이용하여 mtcart 데이터세트를 상관분석한다.\n",
    "* 상관계수 행렬에서 변수 자신과의 상관계수는 모두 1로 대각항에 표현되고 비대각항에는 다른 변수들과의 상관계수들도 표시됨을 알 수 있다.\n",
    "* carb와 am의 p-값이 0.7545로 두 변수 사이의 상관계수가 유의하지 않음을 알 수 있다."
   ]
  },
  {
   "cell_type": "code",
   "execution_count": 8,
   "metadata": {},
   "outputs": [
    {
     "data": {
      "text/plain": [
       "       mpg   cyl  disp    hp  drat    wt  qsec    vs    am  gear  carb\n",
       "mpg   1.00 -0.85 -0.85 -0.78  0.68 -0.87  0.42  0.66  0.60  0.48 -0.55\n",
       "cyl  -0.85  1.00  0.90  0.83 -0.70  0.78 -0.59 -0.81 -0.52 -0.49  0.53\n",
       "disp -0.85  0.90  1.00  0.79 -0.71  0.89 -0.43 -0.71 -0.59 -0.56  0.39\n",
       "hp   -0.78  0.83  0.79  1.00 -0.45  0.66 -0.71 -0.72 -0.24 -0.13  0.75\n",
       "drat  0.68 -0.70 -0.71 -0.45  1.00 -0.71  0.09  0.44  0.71  0.70 -0.09\n",
       "wt   -0.87  0.78  0.89  0.66 -0.71  1.00 -0.17 -0.55 -0.69 -0.58  0.43\n",
       "qsec  0.42 -0.59 -0.43 -0.71  0.09 -0.17  1.00  0.74 -0.23 -0.21 -0.66\n",
       "vs    0.66 -0.81 -0.71 -0.72  0.44 -0.55  0.74  1.00  0.17  0.21 -0.57\n",
       "am    0.60 -0.52 -0.59 -0.24  0.71 -0.69 -0.23  0.17  1.00  0.79  0.06\n",
       "gear  0.48 -0.49 -0.56 -0.13  0.70 -0.58 -0.21  0.21  0.79  1.00  0.27\n",
       "carb -0.55  0.53  0.39  0.75 -0.09  0.43 -0.66 -0.57  0.06  0.27  1.00\n",
       "\n",
       "n= 32 \n",
       "\n",
       "\n",
       "P\n",
       "     mpg    cyl    disp   hp     drat   wt     qsec   vs     am     gear  \n",
       "mpg         0.0000 0.0000 0.0000 0.0000 0.0000 0.0171 0.0000 0.0003 0.0054\n",
       "cyl  0.0000        0.0000 0.0000 0.0000 0.0000 0.0004 0.0000 0.0022 0.0042\n",
       "disp 0.0000 0.0000        0.0000 0.0000 0.0000 0.0131 0.0000 0.0004 0.0010\n",
       "hp   0.0000 0.0000 0.0000        0.0100 0.0000 0.0000 0.0000 0.1798 0.4930\n",
       "drat 0.0000 0.0000 0.0000 0.0100        0.0000 0.6196 0.0117 0.0000 0.0000\n",
       "wt   0.0000 0.0000 0.0000 0.0000 0.0000        0.3389 0.0010 0.0000 0.0005\n",
       "qsec 0.0171 0.0004 0.0131 0.0000 0.6196 0.3389        0.0000 0.2057 0.2425\n",
       "vs   0.0000 0.0000 0.0000 0.0000 0.0117 0.0010 0.0000        0.3570 0.2579\n",
       "am   0.0003 0.0022 0.0004 0.1798 0.0000 0.0000 0.2057 0.3570        0.0000\n",
       "gear 0.0054 0.0042 0.0010 0.4930 0.0000 0.0005 0.2425 0.2579 0.0000       \n",
       "carb 0.0011 0.0019 0.0253 0.0000 0.6212 0.0146 0.0000 0.0007 0.7545 0.1290\n",
       "     carb  \n",
       "mpg  0.0011\n",
       "cyl  0.0019\n",
       "disp 0.0253\n",
       "hp   0.0000\n",
       "drat 0.6212\n",
       "wt   0.0146\n",
       "qsec 0.0000\n",
       "vs   0.0007\n",
       "am   0.7545\n",
       "gear 0.1290\n",
       "carb       "
      ]
     },
     "metadata": {},
     "output_type": "display_data"
    }
   ],
   "source": [
    "rcorr(as.matrix(mtcars), type=\"pearson\")"
   ]
  },
  {
   "cell_type": "markdown",
   "metadata": {},
   "source": [
    "##### 공분산을 구한다."
   ]
  },
  {
   "cell_type": "code",
   "execution_count": 9,
   "metadata": {},
   "outputs": [
    {
     "data": {
      "text/html": [
       "<table>\n",
       "<caption>A matrix: 11 × 11 of type dbl</caption>\n",
       "<thead>\n",
       "\t<tr><th></th><th scope=col>mpg</th><th scope=col>cyl</th><th scope=col>disp</th><th scope=col>hp</th><th scope=col>drat</th><th scope=col>wt</th><th scope=col>qsec</th><th scope=col>vs</th><th scope=col>am</th><th scope=col>gear</th><th scope=col>carb</th></tr>\n",
       "</thead>\n",
       "<tbody>\n",
       "\t<tr><th scope=row>mpg</th><td>  36.324103</td><td> -9.1723790</td><td> -633.09721</td><td>-320.732056</td><td>  2.19506351</td><td> -5.1166847</td><td>  4.50914919</td><td>  2.01713710</td><td>  1.80393145</td><td>  2.1356855</td><td>-5.36310484</td></tr>\n",
       "\t<tr><th scope=row>cyl</th><td>  -9.172379</td><td>  3.1895161</td><td>  199.66028</td><td> 101.931452</td><td> -0.66836694</td><td>  1.3673710</td><td> -1.88685484</td><td> -0.72983871</td><td> -0.46572581</td><td> -0.6491935</td><td> 1.52016129</td></tr>\n",
       "\t<tr><th scope=row>disp</th><td>-633.097208</td><td>199.6602823</td><td>15360.79983</td><td>6721.158669</td><td>-47.06401915</td><td>107.6842040</td><td>-96.05168145</td><td>-44.37762097</td><td>-36.56401210</td><td>-50.8026210</td><td>79.06875000</td></tr>\n",
       "\t<tr><th scope=row>hp</th><td>-320.732056</td><td>101.9314516</td><td> 6721.15867</td><td>4700.866935</td><td>-16.45110887</td><td> 44.1926613</td><td>-86.77008065</td><td>-24.98790323</td><td> -8.32056452</td><td> -6.3588710</td><td>83.03629032</td></tr>\n",
       "\t<tr><th scope=row>drat</th><td>   2.195064</td><td> -0.6683669</td><td>  -47.06402</td><td> -16.451109</td><td>  0.28588135</td><td> -0.3727207</td><td>  0.08714073</td><td>  0.11864919</td><td>  0.19015121</td><td>  0.2759879</td><td>-0.07840726</td></tr>\n",
       "\t<tr><th scope=row>wt</th><td>  -5.116685</td><td>  1.3673710</td><td>  107.68420</td><td>  44.192661</td><td> -0.37272073</td><td>  0.9573790</td><td> -0.30548161</td><td> -0.27366129</td><td> -0.33810484</td><td> -0.4210806</td><td> 0.67579032</td></tr>\n",
       "\t<tr><th scope=row>qsec</th><td>   4.509149</td><td> -1.8868548</td><td>  -96.05168</td><td> -86.770081</td><td>  0.08714073</td><td> -0.3054816</td><td>  3.19316613</td><td>  0.67056452</td><td> -0.20495968</td><td> -0.2804032</td><td>-1.89411290</td></tr>\n",
       "\t<tr><th scope=row>vs</th><td>   2.017137</td><td> -0.7298387</td><td>  -44.37762</td><td> -24.987903</td><td>  0.11864919</td><td> -0.2736613</td><td>  0.67056452</td><td>  0.25403226</td><td>  0.04233871</td><td>  0.0766129</td><td>-0.46370968</td></tr>\n",
       "\t<tr><th scope=row>am</th><td>   1.803931</td><td> -0.4657258</td><td>  -36.56401</td><td>  -8.320565</td><td>  0.19015121</td><td> -0.3381048</td><td> -0.20495968</td><td>  0.04233871</td><td>  0.24899194</td><td>  0.2923387</td><td> 0.04637097</td></tr>\n",
       "\t<tr><th scope=row>gear</th><td>   2.135685</td><td> -0.6491935</td><td>  -50.80262</td><td>  -6.358871</td><td>  0.27598790</td><td> -0.4210806</td><td> -0.28040323</td><td>  0.07661290</td><td>  0.29233871</td><td>  0.5443548</td><td> 0.32661290</td></tr>\n",
       "\t<tr><th scope=row>carb</th><td>  -5.363105</td><td>  1.5201613</td><td>   79.06875</td><td>  83.036290</td><td> -0.07840726</td><td>  0.6757903</td><td> -1.89411290</td><td> -0.46370968</td><td>  0.04637097</td><td>  0.3266129</td><td> 2.60887097</td></tr>\n",
       "</tbody>\n",
       "</table>\n"
      ],
      "text/latex": [
       "A matrix: 11 × 11 of type dbl\n",
       "\\begin{tabular}{r|lllllllllll}\n",
       "  & mpg & cyl & disp & hp & drat & wt & qsec & vs & am & gear & carb\\\\\n",
       "\\hline\n",
       "\tmpg &   36.324103 &  -9.1723790 &  -633.09721 & -320.732056 &   2.19506351 &  -5.1166847 &   4.50914919 &   2.01713710 &   1.80393145 &   2.1356855 & -5.36310484\\\\\n",
       "\tcyl &   -9.172379 &   3.1895161 &   199.66028 &  101.931452 &  -0.66836694 &   1.3673710 &  -1.88685484 &  -0.72983871 &  -0.46572581 &  -0.6491935 &  1.52016129\\\\\n",
       "\tdisp & -633.097208 & 199.6602823 & 15360.79983 & 6721.158669 & -47.06401915 & 107.6842040 & -96.05168145 & -44.37762097 & -36.56401210 & -50.8026210 & 79.06875000\\\\\n",
       "\thp & -320.732056 & 101.9314516 &  6721.15867 & 4700.866935 & -16.45110887 &  44.1926613 & -86.77008065 & -24.98790323 &  -8.32056452 &  -6.3588710 & 83.03629032\\\\\n",
       "\tdrat &    2.195064 &  -0.6683669 &   -47.06402 &  -16.451109 &   0.28588135 &  -0.3727207 &   0.08714073 &   0.11864919 &   0.19015121 &   0.2759879 & -0.07840726\\\\\n",
       "\twt &   -5.116685 &   1.3673710 &   107.68420 &   44.192661 &  -0.37272073 &   0.9573790 &  -0.30548161 &  -0.27366129 &  -0.33810484 &  -0.4210806 &  0.67579032\\\\\n",
       "\tqsec &    4.509149 &  -1.8868548 &   -96.05168 &  -86.770081 &   0.08714073 &  -0.3054816 &   3.19316613 &   0.67056452 &  -0.20495968 &  -0.2804032 & -1.89411290\\\\\n",
       "\tvs &    2.017137 &  -0.7298387 &   -44.37762 &  -24.987903 &   0.11864919 &  -0.2736613 &   0.67056452 &   0.25403226 &   0.04233871 &   0.0766129 & -0.46370968\\\\\n",
       "\tam &    1.803931 &  -0.4657258 &   -36.56401 &   -8.320565 &   0.19015121 &  -0.3381048 &  -0.20495968 &   0.04233871 &   0.24899194 &   0.2923387 &  0.04637097\\\\\n",
       "\tgear &    2.135685 &  -0.6491935 &   -50.80262 &   -6.358871 &   0.27598790 &  -0.4210806 &  -0.28040323 &   0.07661290 &   0.29233871 &   0.5443548 &  0.32661290\\\\\n",
       "\tcarb &   -5.363105 &   1.5201613 &    79.06875 &   83.036290 &  -0.07840726 &   0.6757903 &  -1.89411290 &  -0.46370968 &   0.04637097 &   0.3266129 &  2.60887097\\\\\n",
       "\\end{tabular}\n"
      ],
      "text/markdown": [
       "\n",
       "A matrix: 11 × 11 of type dbl\n",
       "\n",
       "| <!--/--> | mpg | cyl | disp | hp | drat | wt | qsec | vs | am | gear | carb |\n",
       "|---|---|---|---|---|---|---|---|---|---|---|---|\n",
       "| mpg |   36.324103 |  -9.1723790 |  -633.09721 | -320.732056 |   2.19506351 |  -5.1166847 |   4.50914919 |   2.01713710 |   1.80393145 |   2.1356855 | -5.36310484 |\n",
       "| cyl |   -9.172379 |   3.1895161 |   199.66028 |  101.931452 |  -0.66836694 |   1.3673710 |  -1.88685484 |  -0.72983871 |  -0.46572581 |  -0.6491935 |  1.52016129 |\n",
       "| disp | -633.097208 | 199.6602823 | 15360.79983 | 6721.158669 | -47.06401915 | 107.6842040 | -96.05168145 | -44.37762097 | -36.56401210 | -50.8026210 | 79.06875000 |\n",
       "| hp | -320.732056 | 101.9314516 |  6721.15867 | 4700.866935 | -16.45110887 |  44.1926613 | -86.77008065 | -24.98790323 |  -8.32056452 |  -6.3588710 | 83.03629032 |\n",
       "| drat |    2.195064 |  -0.6683669 |   -47.06402 |  -16.451109 |   0.28588135 |  -0.3727207 |   0.08714073 |   0.11864919 |   0.19015121 |   0.2759879 | -0.07840726 |\n",
       "| wt |   -5.116685 |   1.3673710 |   107.68420 |   44.192661 |  -0.37272073 |   0.9573790 |  -0.30548161 |  -0.27366129 |  -0.33810484 |  -0.4210806 |  0.67579032 |\n",
       "| qsec |    4.509149 |  -1.8868548 |   -96.05168 |  -86.770081 |   0.08714073 |  -0.3054816 |   3.19316613 |   0.67056452 |  -0.20495968 |  -0.2804032 | -1.89411290 |\n",
       "| vs |    2.017137 |  -0.7298387 |   -44.37762 |  -24.987903 |   0.11864919 |  -0.2736613 |   0.67056452 |   0.25403226 |   0.04233871 |   0.0766129 | -0.46370968 |\n",
       "| am |    1.803931 |  -0.4657258 |   -36.56401 |   -8.320565 |   0.19015121 |  -0.3381048 |  -0.20495968 |   0.04233871 |   0.24899194 |   0.2923387 |  0.04637097 |\n",
       "| gear |    2.135685 |  -0.6491935 |   -50.80262 |   -6.358871 |   0.27598790 |  -0.4210806 |  -0.28040323 |   0.07661290 |   0.29233871 |   0.5443548 |  0.32661290 |\n",
       "| carb |   -5.363105 |   1.5201613 |    79.06875 |   83.036290 |  -0.07840726 |   0.6757903 |  -1.89411290 |  -0.46370968 |   0.04637097 |   0.3266129 |  2.60887097 |\n",
       "\n"
      ],
      "text/plain": [
       "     mpg         cyl         disp        hp          drat         wt         \n",
       "mpg    36.324103  -9.1723790  -633.09721 -320.732056   2.19506351  -5.1166847\n",
       "cyl    -9.172379   3.1895161   199.66028  101.931452  -0.66836694   1.3673710\n",
       "disp -633.097208 199.6602823 15360.79983 6721.158669 -47.06401915 107.6842040\n",
       "hp   -320.732056 101.9314516  6721.15867 4700.866935 -16.45110887  44.1926613\n",
       "drat    2.195064  -0.6683669   -47.06402  -16.451109   0.28588135  -0.3727207\n",
       "wt     -5.116685   1.3673710   107.68420   44.192661  -0.37272073   0.9573790\n",
       "qsec    4.509149  -1.8868548   -96.05168  -86.770081   0.08714073  -0.3054816\n",
       "vs      2.017137  -0.7298387   -44.37762  -24.987903   0.11864919  -0.2736613\n",
       "am      1.803931  -0.4657258   -36.56401   -8.320565   0.19015121  -0.3381048\n",
       "gear    2.135685  -0.6491935   -50.80262   -6.358871   0.27598790  -0.4210806\n",
       "carb   -5.363105   1.5201613    79.06875   83.036290  -0.07840726   0.6757903\n",
       "     qsec         vs           am           gear        carb       \n",
       "mpg    4.50914919   2.01713710   1.80393145   2.1356855 -5.36310484\n",
       "cyl   -1.88685484  -0.72983871  -0.46572581  -0.6491935  1.52016129\n",
       "disp -96.05168145 -44.37762097 -36.56401210 -50.8026210 79.06875000\n",
       "hp   -86.77008065 -24.98790323  -8.32056452  -6.3588710 83.03629032\n",
       "drat   0.08714073   0.11864919   0.19015121   0.2759879 -0.07840726\n",
       "wt    -0.30548161  -0.27366129  -0.33810484  -0.4210806  0.67579032\n",
       "qsec   3.19316613   0.67056452  -0.20495968  -0.2804032 -1.89411290\n",
       "vs     0.67056452   0.25403226   0.04233871   0.0766129 -0.46370968\n",
       "am    -0.20495968   0.04233871   0.24899194   0.2923387  0.04637097\n",
       "gear  -0.28040323   0.07661290   0.29233871   0.5443548  0.32661290\n",
       "carb  -1.89411290  -0.46370968   0.04637097   0.3266129  2.60887097"
      ]
     },
     "metadata": {},
     "output_type": "display_data"
    }
   ],
   "source": [
    "cov(mtcars)"
   ]
  },
  {
   "cell_type": "markdown",
   "metadata": {},
   "source": [
    "## 2. 스피어만 상관계수\n",
    "##### 서열척도인 두 변수들의 상관관계를 측정하는데 사용한다.\n",
    "##### 스피어만 상관계수는 두 변수 간의 비선형적인 관계도 나타낼 수 있는 값으로, 한 변수를 단조 증가 함수로 변환하여 다른 변수를 나타낼 수 있는 정도를 나타낸다.\n",
    "스피어만의 상관계수는 두 변수를 모두 순위로 변환시킨 후, 두 순위 사이의 피어슨 상관계수로 정의된다."
   ]
  },
  {
   "cell_type": "code",
   "execution_count": 10,
   "metadata": {},
   "outputs": [
    {
     "data": {
      "text/plain": [
       "       mpg   cyl  disp    hp  drat    wt  qsec    vs    am  gear  carb\n",
       "mpg   1.00 -0.91 -0.91 -0.89  0.65 -0.89  0.47  0.71  0.56  0.54 -0.66\n",
       "cyl  -0.91  1.00  0.93  0.90 -0.68  0.86 -0.57 -0.81 -0.52 -0.56  0.58\n",
       "disp -0.91  0.93  1.00  0.85 -0.68  0.90 -0.46 -0.72 -0.62 -0.59  0.54\n",
       "hp   -0.89  0.90  0.85  1.00 -0.52  0.77 -0.67 -0.75 -0.36 -0.33  0.73\n",
       "drat  0.65 -0.68 -0.68 -0.52  1.00 -0.75  0.09  0.45  0.69  0.74 -0.13\n",
       "wt   -0.89  0.86  0.90  0.77 -0.75  1.00 -0.23 -0.59 -0.74 -0.68  0.50\n",
       "qsec  0.47 -0.57 -0.46 -0.67  0.09 -0.23  1.00  0.79 -0.20 -0.15 -0.66\n",
       "vs    0.71 -0.81 -0.72 -0.75  0.45 -0.59  0.79  1.00  0.17  0.28 -0.63\n",
       "am    0.56 -0.52 -0.62 -0.36  0.69 -0.74 -0.20  0.17  1.00  0.81 -0.06\n",
       "gear  0.54 -0.56 -0.59 -0.33  0.74 -0.68 -0.15  0.28  0.81  1.00  0.11\n",
       "carb -0.66  0.58  0.54  0.73 -0.13  0.50 -0.66 -0.63 -0.06  0.11  1.00\n",
       "\n",
       "n= 32 \n",
       "\n",
       "\n",
       "P\n",
       "     mpg    cyl    disp   hp     drat   wt     qsec   vs     am     gear  \n",
       "mpg         0.0000 0.0000 0.0000 0.0000 0.0000 0.0071 0.0000 0.0008 0.0013\n",
       "cyl  0.0000        0.0000 0.0000 0.0000 0.0000 0.0006 0.0000 0.0022 0.0008\n",
       "disp 0.0000 0.0000        0.0000 0.0000 0.0000 0.0081 0.0000 0.0001 0.0003\n",
       "hp   0.0000 0.0000 0.0000        0.0023 0.0000 0.0000 0.0000 0.0416 0.0639\n",
       "drat 0.0000 0.0000 0.0000 0.0023        0.0000 0.6170 0.0102 0.0000 0.0000\n",
       "wt   0.0000 0.0000 0.0000 0.0000 0.0000        0.2148 0.0004 0.0000 0.0000\n",
       "qsec 0.0071 0.0006 0.0081 0.0000 0.6170 0.2148        0.0000 0.2644 0.4182\n",
       "vs   0.0000 0.0000 0.0000 0.0000 0.0102 0.0004 0.0000        0.3570 0.1170\n",
       "am   0.0008 0.0022 0.0001 0.0416 0.0000 0.0000 0.2644 0.3570        0.0000\n",
       "gear 0.0013 0.0008 0.0003 0.0639 0.0000 0.0000 0.4182 0.1170 0.0000       \n",
       "carb 0.0000 0.0005 0.0014 0.0000 0.4947 0.0036 0.0000 0.0000 0.7264 0.5312\n",
       "     carb  \n",
       "mpg  0.0000\n",
       "cyl  0.0005\n",
       "disp 0.0014\n",
       "hp   0.0000\n",
       "drat 0.4947\n",
       "wt   0.0036\n",
       "qsec 0.0000\n",
       "vs   0.0000\n",
       "am   0.7264\n",
       "gear 0.5312\n",
       "carb       "
      ]
     },
     "metadata": {},
     "output_type": "display_data"
    }
   ],
   "source": [
    "rcorr(as.matrix(mtcars), type=\"spearman\")"
   ]
  }
 ],
 "metadata": {
  "kernelspec": {
   "display_name": "R",
   "language": "R",
   "name": "ir"
  },
  "language_info": {
   "codemirror_mode": "r",
   "file_extension": ".r",
   "mimetype": "text/x-r-source",
   "name": "R",
   "pygments_lexer": "r",
   "version": "3.5.1"
  }
 },
 "nbformat": 4,
 "nbformat_minor": 2
}
