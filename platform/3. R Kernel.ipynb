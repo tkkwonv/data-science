{
 "cells": [
  {
   "cell_type": "markdown",
   "metadata": {},
   "source": [
    "# R kernel Installation and Jupyter connection"
   ]
  },
  {
   "cell_type": "markdown",
   "metadata": {},
   "source": [
    "## 1. R 커널 설치\n",
    "centos> conda install -c r r-irkernel\n",
    "\n",
    "centos> conda install -c r r-essentials\n",
    "\n",
    "##### R kernel 설치 확인\n",
    "centos> jupyter kernelspec list"
   ]
  },
  {
   "cell_type": "markdown",
   "metadata": {},
   "source": [
    "## 2. Jupyter 연동\n",
    "##### R 실행\n",
    "centos> R\n",
    "\n",
    "##### R 에서 아래 패키지 설치\n",
    "install.packages(c('repr', 'IRdisplay', 'IRkernel'), type='source')\n",
    "\n",
    "library(IRkernel)\n",
    "\n",
    "IRkernel::installspec()\n",
    "\n",
    "##### R 종료\n",
    "q()"
   ]
  },
  {
   "cell_type": "markdown",
   "metadata": {},
   "source": [
    "## 3. jupyter 실행\n",
    "##### Jupyter 실행\n",
    "nohup jupyter notebook &\n",
    "--> & : background 실행 옵션\n",
    "\n",
    "##### Web에서 Jupyter 접속\n",
    "http://외부IP:8888 로 웹브라우저 접속하면 완성"
   ]
  }
 ],
 "metadata": {
  "kernelspec": {
   "display_name": "R",
   "language": "R",
   "name": "ir"
  },
  "language_info": {
   "codemirror_mode": "r",
   "file_extension": ".r",
   "mimetype": "text/x-r-source",
   "name": "R",
   "pygments_lexer": "r",
   "version": "3.5.1"
  }
 },
 "nbformat": 4,
 "nbformat_minor": 2
}
