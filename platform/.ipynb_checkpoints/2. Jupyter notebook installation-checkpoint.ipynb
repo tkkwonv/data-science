{
 "cells": [
  {
   "cell_type": "markdown",
   "metadata": {},
   "source": [
    "# Jupyter notebook 설치\n",
    "\n",
    "* Google Cloud Console 설치후 SSH 접속"
   ]
  },
  {
   "cell_type": "markdown",
   "metadata": {
    "hide_input": true
   },
   "source": [
    "## Anaconda 설치\n",
    "\n",
    "### wget 설치\n",
    "sudo yum install wget\n",
    "* wget : 웹 서버로부터 콘텐츠를 가져오는 프로그램으로, GNU 프로젝트의 일부이다. 이 프로그램의 이름은 월드 와이드 웹과 get에서 가져온 것이다. HTTP, HTTPS, FTP 프로토콜을 통해 내려받기를 지원한다.\n",
    "\n",
    "### bzip (압축 유틸리티) 설치\n",
    "sudo yum install bzip2\n",
    "* 미설치시 anaconda 설치 중 에러\n",
    "\n",
    "### Anaconda 다운로드 \n",
    "sudo wget https://repo.anaconda.com/archive/Anaconda3-5.3.1-Linux-x86_64.sh\n",
    "\n",
    "### Anaconda 설치\n",
    "sh Anaconda3-5.3.1-Linux-x86_64.sh\n",
    "\n",
    "### Path 설정 확인\n",
    "* Anaconda 설치시 마지막에 자동 설정\n",
    "\n",
    "##### path 확인\n",
    "vi .bashrc\n",
    "\n",
    "export PATH=/home/<user_directory>/anaconda3/bin:$\n",
    "\n",
    "##### .bashrc 실행\n",
    "source .bashrc"
   ]
  },
  {
   "cell_type": "markdown",
   "metadata": {},
   "source": [
    "## Jupyter 설정\n",
    "### 주피터 노트북 설정 파일 생성\n",
    "jupyter notebook --generate-config\n",
    "\n",
    "### 주피터 노트북 설정 파일 편집\n",
    "vi <안내되는경로>/.jupyter/jupyter_notebook_config.py\n",
    "* 아래 내용 입력\n",
    "\n",
    "c = get_config()\n",
    "\n",
    "c.IPKernelApp.pylab = 'inline'\n",
    "\n",
    "c.NotebookApp.ip = '*'\n",
    "\n",
    "c.NotebookApp.open_browser = False\n",
    "\n",
    "c.NotebookApp.token = ''\n",
    "\n",
    "c.NotebookApp.port = 8888"
   ]
  },
  {
   "cell_type": "markdown",
   "metadata": {
    "hide_input": true
   },
   "source": [
    "## Jupyter Nbextensions \n",
    "### Install \n",
    "pip install jupyter_contrib_nbextensions\n",
    "\n",
    "jupyter contrib nbextension install --user execute \n",
    "\n",
    "jupyter nbextension enable init_cell/main"
   ]
  }
 ],
 "metadata": {
  "kernelspec": {
   "display_name": "R",
   "language": "R",
   "name": "ir"
  },
  "language_info": {
   "codemirror_mode": "r",
   "file_extension": ".r",
   "mimetype": "text/x-r-source",
   "name": "R",
   "pygments_lexer": "r",
   "version": "3.5.1"
  },
  "toc": {
   "base_numbering": 1,
   "nav_menu": {},
   "number_sections": true,
   "sideBar": true,
   "skip_h1_title": false,
   "title_cell": "Table of Contents",
   "title_sidebar": "Contents",
   "toc_cell": false,
   "toc_position": {
    "height": "calc(100% - 180px)",
    "left": "10px",
    "top": "150px",
    "width": "256px"
   },
   "toc_section_display": true,
   "toc_window_display": true
  }
 },
 "nbformat": 4,
 "nbformat_minor": 2
}
