{
 "cells": [
  {
   "cell_type": "markdown",
   "metadata": {},
   "source": [
    "# GCP VM 인스턴스 생성"
   ]
  },
  {
   "cell_type": "markdown",
   "metadata": {},
   "source": [
    "### VM 인스턴스 생성 및 방화벽 설정\n",
    "#### 아래 URL 참조\n",
    "https://medium.com/@kn.maragatham09/installing-jupyter-notebook-on-google-cloud-11979e40cd10\n",
    "\n",
    "##### * 부팅 디스크: CentOS 7 (100GB)\n",
    "##### * Jupyter R 사용시 메모리 7.5GB 이상 선택"
   ]
  }
 ],
 "metadata": {
  "kernelspec": {
   "display_name": "R",
   "language": "R",
   "name": "ir"
  },
  "language_info": {
   "codemirror_mode": "r",
   "file_extension": ".r",
   "mimetype": "text/x-r-source",
   "name": "R",
   "pygments_lexer": "r",
   "version": "3.5.1"
  }
 },
 "nbformat": 4,
 "nbformat_minor": 2
}
