{
 "cells": [
  {
   "cell_type": "markdown",
   "metadata": {},
   "source": [
    "# GCP based Jupyter installation and R connection"
   ]
  },
  {
   "cell_type": "markdown",
   "metadata": {},
   "source": [
    "## 1. GCP VM 인스턴스 생성"
   ]
  },
  {
   "cell_type": "markdown",
   "metadata": {},
   "source": [
    "### VM 인스턴스 생성 및 방화벽 설정\n",
    "#### 아래 URL 참조\n",
    "https://medium.com/@kn.maragatham09/installing-jupyter-notebook-on-google-cloud-11979e40cd10\n",
    "\n",
    "#### * 부팅 디스크: CentOS 7 (100GB)\n",
    "#### * Jupyter R 사용시 메모리 7.5GB 이상 선택"
   ]
  },
  {
   "cell_type": "markdown",
   "metadata": {},
   "source": [
    "## 2. Jupyter notebook 설치\n",
    "\n",
    "* Google Cloud Console 설치후 SSH 접속\n",
    "\n",
    "### 2-1. Anaconda 설치\n",
    "#### 가. wget 설치\n",
    "sudo yum install wget\n",
    "* wget : 웹 서버로부터 콘텐츠를 가져오는 프로그램으로, GNU 프로젝트의 일부이다. 이 프로그램의 이름은 월드 와이드 웹과 get에서 가져온 것이다. HTTP, HTTPS, FTP 프로토콜을 통해 내려받기를 지원한다.\n",
    "\n",
    "#### 나. bzip (압축 유틸리티) 설치\n",
    "sudo yum install bzip2\n",
    "* 미설치시 anaconda 설치 중 에러\n",
    "\n",
    "#### 다. Anaconda 다운로드 \n",
    "sudo wget https://repo.anaconda.com/archive/Anaconda3-5.3.1-Linux-x86_64.sh\n",
    "\n",
    "#### 라. Anaconda 설치\n",
    "sh Anaconda3-5.3.1-Linux-x86_64.sh\n",
    "\n",
    "#### 마. Path 설정 확인\n",
    "* Anaconda 설치시 마지막에 자동 설정\n",
    "\n",
    "##### path 확인\n",
    "vi .bashrc\n",
    "\n",
    "export PATH=/home/<user_directory>/anaconda3/bin:$\n",
    "\n",
    "##### .bashrc 실행\n",
    "source .bashrc\n",
    "\n",
    "### 2-2. Jupyter 설정\n",
    "#### 가. 주피터 노트북 설정 파일 생성\n",
    "jupyter notebook --generate-config\n",
    "\n",
    "#### 나. 주피터 노트북 설정 파일 편집\n",
    "vi <안내되는경로>/.jupyter/jupyter_notebook_config.py\n",
    "* 아래 내용 입력\n",
    "\n",
    "c = get_config()\n",
    "\n",
    "c.IPKernelApp.pylab = 'inline'\n",
    "\n",
    "c.NotebookApp.ip = '*'\n",
    "\n",
    "c.NotebookApp.open_browser = False\n",
    "\n",
    "c.NotebookApp.token = ''\n",
    "\n",
    "c.NotebookApp.port = 8888"
   ]
  },
  {
   "cell_type": "markdown",
   "metadata": {},
   "source": [
    "## 3. R 커널 설치 및 Jupyter 연동\n",
    "\n",
    "\n",
    "### 3-1. R 커널 설치\n",
    "centos> conda install -c r r-irkernel\n",
    "centos> conda install -c r r-essentials\n",
    "\n",
    "##### R kernel 설치 확인\n",
    "centos> jupyter kernelspec list\n",
    "\n",
    "\n",
    "\n",
    "### 3-2. Jupyter 연동\n",
    "##### R 실행\n",
    "centos> R\n",
    "\n",
    "##### R 에서 아래 패키지 설치\n",
    "install.packages(c('repr', 'IRdisplay', 'IRkernel'), type='source')\n",
    "\n",
    "library(IRkernel)\n",
    "\n",
    "IRkernel::installspec()\n",
    "\n",
    "##### R 종료\n",
    "q()\n",
    "\n",
    "\n",
    "### 3-3. jupyter 실행\n",
    "##### Jupyter 실행\n",
    "nohup jupyter notebook &\n",
    "--> & : background 실행 옵션\n",
    "\n",
    "##### Web에서 Jupyter 접속\n",
    "http://외부IP:8888 로 웹브라우저 접속하면 완성"
   ]
  },
  {
   "cell_type": "code",
   "execution_count": null,
   "metadata": {},
   "outputs": [],
   "source": []
  }
 ],
 "metadata": {
  "kernelspec": {
   "display_name": "Python 3",
   "language": "python",
   "name": "python3"
  },
  "language_info": {
   "codemirror_mode": {
    "name": "ipython",
    "version": 3
   },
   "file_extension": ".py",
   "mimetype": "text/x-python",
   "name": "python",
   "nbconvert_exporter": "python",
   "pygments_lexer": "ipython3",
   "version": "3.7.2"
  }
 },
 "nbformat": 4,
 "nbformat_minor": 2
}
