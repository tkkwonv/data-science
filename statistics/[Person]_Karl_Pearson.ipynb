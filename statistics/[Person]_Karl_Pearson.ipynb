{
 "cells": [
  {
   "cell_type": "markdown",
   "metadata": {},
   "source": [
    "# 칼 피어슨\n",
    "![Karl Pearson](https://upload.wikimedia.org/wikipedia/commons/thumb/2/23/Portrait_of_Karl_Pearson.jpg/300px-Portrait_of_Karl_Pearson.jpg)\n",
    "  \n",
    "칼 피어슨(영어: Karl Pearson, IPA: [ˈkɑː(r)l ˈpɪə(r)sən], 1857–1936)은 영국의 통계학자이다.  "
   ]
  },
  {
   "cell_type": "markdown",
   "metadata": {},
   "source": [
    "# 생애\n",
    "1857년에 아버지 윌리엄 피어슨(영어: William Pearson)과 어머니 패니 스미스(영어: Fanny Smith)에게 태어났다. 피어슨은 삼남매 가운데 차남이었고, 맏형은 아서 피어슨지(영어: Arthur Pearson-Gee), 누이는 에이미(영어: Amy)이었다. 또한, 이복 동생 프레더릭 모킷(영어: Frederick Mocket)이 있었다. \n",
    "\n",
    "피어슨의 어머니는 선원 가문 출신이었고, 아버지는 에든버러 대학교를 졸업한 변호사였다.\n",
    "\n",
    "1876년에 케임브리지 대학교 킹스 칼리지(영어: King’s College)에 입학하여, 수학을 공부하였다. 1879년에 졸업하였고, 전교 수학 시험(영어: Mathematical Tripos)에서 3등(영어: Third Wrangler)이었다.\n",
    "\n",
    "케임브리지 졸업 뒤, 피어슨은 1879년에 독일 하이델베르크 대학교로 유학하였다. 원래 이름의 철자는 영어식으로 \"Carl\"이었는데, 대학에서는 피어슨의 이름의 철자를 독일어식으로 \"Karl\"로 잘못 표기하였다. 이후 피어슨은 1884년부터 스스로도 \"K\" 철자를 사용하기 시작하였다. 하이델베르크 이후, 피어슨은 베를린 훔볼트 대학교에서 생리학과 로마법, 중세 유럽 문학 및 16세기 독일 문학, 사회주의 등을 공부하였다.\n",
    "\n",
    "피어슨은 1880년에 영국으로 귀국하였고, 변호사였던 아버지를 따라 법학을 공부하였다. 그러나 1881년에 다시 수학으로 관심을 돌렸고, 1881년에 킹스 칼리지 런던에서 수학 조교수를, 1883년에 유니버시티 칼리지 런던에서 수학 교수를 맡았다. 1884년에 유니버시티 칼리지 런던의 응용 수학·역학 석좌 교수가 되었다.\n",
    "\n",
    "1890년에 마리아 샤프(영어: Maria Sharpe)와 결혼하였고, 1남 2녀를 두었다. 이 가운데 아들 이건 피어슨은 아버지를 이어 유명한 통계학자가 되었다.\n",
    "\n",
    "1911년에 피어슨은 유니버시티 칼리지 런던 통계학과를 설립하였다. 이는 세계 최초의 대학 통계학과로 여겨진다.\n",
    "\n",
    "1928년에 아내 마리아 샤프가 사망하였고, 1929년 피어슨은 마거릿 빅토리아 차일드(영어: Margaret Victoria Child)와 재혼하였다.\n",
    "\n",
    "1936년 서리주 케이플(영어: Capel) 근처의 콜드하버(영어: Coldharbour)에서 사망하였다."
   ]
  },
  {
   "cell_type": "markdown",
   "metadata": {},
   "source": [
    "# 업적\n",
    "칼 피어슨은 영국의 응용 수학자이고, 수리 통계학의 대표자로 알려져 있습니다.  \n",
    "수리통계학 하면 많은 통계 공식과 분포들이 많아서 많은 학생들이 힘들어 합니다.  \n",
    "그렇지만 통계를 전공한다면 수리통계학을 공부해야 통계를 전공했다고 할 수 있다고 하는데요~  \n",
    "그 어렵다는 수리 통계학의 대표자인 칼 피어슨입니다!\n",
    "\n",
    "이제, 칼 피어슨의 업적에 대해서 알아보도록 하겠습니다.\n",
    "\n",
    "세상에서 일어나는 모든 사건은 독립적으로 일어납니다.  \n",
    "하지만 서로 상관관계를 맺고 있어서, 상관관계를 가지는 두 변수 중에서 하나의 변수를 알게 되면,   \n",
    "나머지 다른 하나의 변수도 알 수 있다는 상관관계의 개념은 다들 알고 계시죠?  \n",
    "이 개념을 골턴의 회귀선을 토대로 칼 피어슨이 완성을 하였습니다.  \n",
    "\n",
    "여기서 피어슨 상관계수가 나오는 것입니다!\n",
    "\n",
    "그리고 1900년 자료의 타당성을 검증하기 위해서\n",
    "두 범주형 변수가 서로 관계가 있는지 독립인지를 판단하는 통계적 검정방법인 카이제곱검정을 시도하였습니다.  \n",
    "또한, 불완전 감마함수의 도표, 불완전 베타함수 도표 등을 작성하였습니다.  \n",
    "이러한 칼 피어슨의 많은 업적은 네이만 등 많은 통계학자에게 영향을 주었습니다."
   ]
  }
 ],
 "metadata": {
  "kernelspec": {
   "display_name": "Python 3",
   "language": "python",
   "name": "python3"
  },
  "language_info": {
   "codemirror_mode": {
    "name": "ipython",
    "version": 3
   },
   "file_extension": ".py",
   "mimetype": "text/x-python",
   "name": "python",
   "nbconvert_exporter": "python",
   "pygments_lexer": "ipython3",
   "version": "3.7.2"
  },
  "toc": {
   "base_numbering": 1,
   "nav_menu": {},
   "number_sections": true,
   "sideBar": true,
   "skip_h1_title": false,
   "title_cell": "Table of Contents",
   "title_sidebar": "Contents",
   "toc_cell": false,
   "toc_position": {},
   "toc_section_display": true,
   "toc_window_display": true
  }
 },
 "nbformat": 4,
 "nbformat_minor": 2
}
