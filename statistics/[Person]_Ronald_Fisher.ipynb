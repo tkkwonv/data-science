{
 "cells": [
  {
   "cell_type": "markdown",
   "metadata": {},
   "source": [
    "# Ronald Fisher\n",
    "\n",
    "로널드 에일머 피셔 Ronald Aylmer Fisher\n",
    "\n",
    "1890년~1962년. 영국의 농학자/통계학자\n",
    "\n",
    "Fisher는 1924년 F분포로 검정하는 분산분석 방법을 제안\n",
    "\n",
    "![텍스트](http://photo.hankooki.com/newsphoto/2008/07/28/kjkim79200807281729550.jpg)\n",
    "\n",
    "\n",
    "‘거의 혼자 힘으로 현대 통계학의 기초를 쌓은 천재.’ 영국의 로널드 피셔(Ronald Fisher)에 대한 평가다.   \n",
    "\n",
    "어린 시절부터 그는 주목 받았다.\n",
    "1890년 런던에서 태어난 그는 근시에 약골이었으나 여덟살 때 대학의 천문학 강의를 청강할 만큼 수학과 천문학에서는 발군의 재능을 보였다.  \n",
    "\n",
    "명문 사립고 해로에서는 기하학 감각을 익혔다. 지독한 근시인 피셔가 책과 노트를 이용하지 않고도 공부할 수 있도록 수학을 가르친 학교의 특별 배려 덕분이다. 천재성은 케임브리지대학에서도 이어졌다.  \n",
    "복잡한 수식을 다양한 기하학적 도표와 그림을 동원해 간단하게 증명하는 재주를 갖고 있던 그는 대학생 신분으로 유명 학술지에 논문을 발표하고 1912년에는 최우수 졸업생으로 뽑혔다.\n",
    "\n",
    "기대를 한몸에 받던 그는 졸업 무렵부터 관심권에서 멀어졌다.  \n",
    "통계학과 우생학을 주름잡던 피어슨 등 주류학자들의 견제 탓이다.\n",
    "‘보다 나은 사회를 위해 국가가 저소득층의 출생률을 억제하고 빈민 복지를 줄여야 한다’던 피어슨의 우생학과 확률이론에 모순이 있다는 점을 지적한 뒤에는 사이가 더 틀어졌다.\n",
    "\n",
    "고교 수학교사로 일하던 그가 기회를 맞은 것은 ‘로담스테드 농업실험연구소’에 취직하면서부터.  \n",
    "비료회사가 운영하던 연구소는 퇴비더미 속에 있었지만 90년 동안 강수량과 온도, 비료의 종류와 수확량, 토양 상태에 관한 방대한 자료가 쌓여 있었다.  \n",
    "3년 후 그는 ‘작물 수확량 변동에 관한 연구’를 내놓으며 화려하게 학계에 복귀했다.  \n",
    "1962년 7월29일 사망하기까지 그는 내놓은 5편의 관련 논문 시리즈에서 제시된 ‘분산 분석’과 ‘자유도 개념’ ‘신뢰학률 이론’ 등은 20세기 통계학을 열었다.  \n",
    "학생의 신체적 결함을 배려했던 ‘따뜻한 교육’이 없었다면 현대통계학의 성립은 늦어졌을지도 모른다."
   ]
  }
 ],
 "metadata": {
  "kernelspec": {
   "display_name": "Python 3",
   "language": "python",
   "name": "python3"
  },
  "language_info": {
   "codemirror_mode": {
    "name": "ipython",
    "version": 3
   },
   "file_extension": ".py",
   "mimetype": "text/x-python",
   "name": "python",
   "nbconvert_exporter": "python",
   "pygments_lexer": "ipython3",
   "version": "3.7.2"
  },
  "toc": {
   "base_numbering": 1,
   "nav_menu": {},
   "number_sections": true,
   "sideBar": true,
   "skip_h1_title": false,
   "title_cell": "Table of Contents",
   "title_sidebar": "Contents",
   "toc_cell": false,
   "toc_position": {},
   "toc_section_display": true,
   "toc_window_display": true
  }
 },
 "nbformat": 4,
 "nbformat_minor": 2
}
