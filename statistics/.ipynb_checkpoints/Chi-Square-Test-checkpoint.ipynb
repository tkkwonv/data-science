{
 "cells": [
  {
   "cell_type": "markdown",
   "metadata": {},
   "source": [
    "# Overview"
   ]
  },
  {
   "cell_type": "markdown",
   "metadata": {},
   "source": [
    "카이제곱 검정, 검증은 교차분석 기법 중 제일 많이 사용되는 것으로, 범주형 변수들간의 연관성을 분석하는 것 이라고 할 수 있다.\n",
    "\n",
    "이는 연속변수는 해당이 되지 않는 것을 뜻한다. 즉 이분변수나 다분변수(세 집단 이상)을 말하는 것."
   ]
  },
  {
   "cell_type": "markdown",
   "metadata": {},
   "source": [
    "# Definition\n",
    "카이제곱 검정의 정의는 이것이다.\n",
    "\n",
    "* 관찰된 자료의 빈도가 이론적 기대 빈도와 통계적으로 다른지를 결정할 때 사용되는 추론 통계 검증.\n",
    "* 카이스퀘어 테스트는 'Pearson;s chi-square test' 를 말하며, 두 불연속변수 간 상관의 관계를 측정하는 통계적 기법임. 카이스퀘어 테스트를 이용하여 귀무가설을 기초로 기대빈도를 계산하여 두 개 이상의 데이터 세트의 관찰빈도가 통계적으로 유의미한지를 측정한다. 테스트 결과에서 P-Value가 유의수준보다 낮으면 귀무가설은 기각되며 반대인 경우 귀무가설은 채택된다,."
   ]
  },
  {
   "cell_type": "markdown",
   "metadata": {},
   "source": [
    "# Explanation\n",
    "카이스퀘어 검정이 성립되기 위한 기본 가정이 있다.\n",
    "\n",
    "1. 변수가 질적 변수 또는 범주화된 연속변수일 것\n",
    "\n",
    "2. 표집이 독립으로 이루어져야 함 - 종속표집으로 응답이 중복되면 안 됨\n",
    "\n",
    "3. 기대빈도가 너무 작을 경우(5 이하)적절치 않음\n",
    "\n",
    "\n",
    "카이제곱 검정에는 관찰빈도와 기대빈도라는 것이 있다.  \n",
    "관찰빈도란 표집한 자료로부터 얻은 빈도분포를 말하는 것이고,  \n",
    "기대빈도란 두 변수가 독립일 경우에 이론적으로 기대할 수 있는 빈도분포이다.  "
   ]
  }
 ],
 "metadata": {
  "kernelspec": {
   "display_name": "Python 3",
   "language": "python",
   "name": "python3"
  },
  "language_info": {
   "codemirror_mode": {
    "name": "ipython",
    "version": 3
   },
   "file_extension": ".py",
   "mimetype": "text/x-python",
   "name": "python",
   "nbconvert_exporter": "python",
   "pygments_lexer": "ipython3",
   "version": "3.7.2"
  },
  "toc": {
   "base_numbering": 1,
   "nav_menu": {},
   "number_sections": true,
   "sideBar": true,
   "skip_h1_title": false,
   "title_cell": "Table of Contents",
   "title_sidebar": "Contents",
   "toc_cell": false,
   "toc_position": {},
   "toc_section_display": true,
   "toc_window_display": true
  }
 },
 "nbformat": 4,
 "nbformat_minor": 2
}
