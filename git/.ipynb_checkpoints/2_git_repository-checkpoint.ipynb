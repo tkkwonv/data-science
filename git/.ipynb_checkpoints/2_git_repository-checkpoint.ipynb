{
 "cells": [
  {
   "cell_type": "markdown",
   "metadata": {},
   "source": [
    "##### git 저장소 생성\n",
    "git init"
   ]
  },
  {
   "cell_type": "markdown",
   "metadata": {},
   "source": [
    "##### git 저장소 받아오기\n",
    "git clone 사용자명@호스트:/원격/저장소/경로"
   ]
  },
  {
   "cell_type": "markdown",
   "metadata": {},
   "source": [
    "\n",
    "##### git repositiory는 세개의 tree로 되어 있다.\n",
    "\n",
    "\n",
    "* 첫번째 tree인 작업 디렉토리(Working directory)는 실제 파일들로 이루어져있고, \n",
    "\n",
    "* 두번째 tree인 인덱스(Index)는 준비 영역(staging area)의 역할을 하며, \n",
    "\n",
    "* 마지막 tree인 HEAD는 최종 확정본(commit)을 나타낸다."
   ]
  }
 ],
 "metadata": {
  "kernelspec": {
   "display_name": "Python 3",
   "language": "python",
   "name": "python3"
  },
  "language_info": {
   "codemirror_mode": {
    "name": "ipython",
    "version": 3
   },
   "file_extension": ".py",
   "mimetype": "text/x-python",
   "name": "python",
   "nbconvert_exporter": "python",
   "pygments_lexer": "ipython3",
   "version": "3.7.2"
  },
  "toc": {
   "base_numbering": 1,
   "nav_menu": {},
   "number_sections": true,
   "sideBar": true,
   "skip_h1_title": false,
   "title_cell": "Table of Contents",
   "title_sidebar": "Contents",
   "toc_cell": false,
   "toc_position": {},
   "toc_section_display": true,
   "toc_window_display": true
  }
 },
 "nbformat": 4,
 "nbformat_minor": 2
}
