{
 "cells": [
  {
   "cell_type": "markdown",
   "metadata": {},
   "source": [
    "# 토마스 베이즈(1701-1761)\n",
    "\n",
    "![텍스트](https://upload.wikimedia.org/wikipedia/commons/thumb/d/d4/Thomas_Bayes.gif/300px-Thomas_Bayes.gif)\n",
    "\n",
    "토머스 베이즈(영어: Thomas Bayes, IPA: [ˈtɒməs ˈbeɪz], c. 1701–1761)는 잉글랜드의 장로교 목사이다. 확률론의 베이즈 정리를 최초로 서술하였으며, 이는 훗날 베이즈 확률론의 시초가 되었다.\n",
    "1701년 경에 태어났다. 아버지는 장로교 목사 조슈아 베이즈(영어: Joshua Bayes)였다. 1719년에 에든버러 대학교에 입학하여, 논리학과 신학을 공부하였다.\n",
    "\n",
    "1722년에 잉글랜드로 돌아와 잠시 런던에 있는 아버지 조슈아 베이즈가 소속된 교회에서 설교하다가, 1734년 켄트주 로열턴브리지웰스(영어: Royal Tunbridge Wells)의 마운트사이언 교회(영어: Mount Sion Chapel)로 이전하였다. 1752년 은퇴하였고, 1755년부터 병을 앓기 시작했다. 1761년 로열턴브리지웰스에서 병사하였다.\n",
    "\n"
   ]
  },
  {
   "cell_type": "markdown",
   "metadata": {},
   "source": [
    "# 저서\n",
    "베이즈는 생전에 두 권의 책을 출판하였다.\n",
    "\n",
    "《신의 자비: 신의 섭리와 신의 정부의 주된 목표는 신의 피조물들의 행복임의 증명》(영어: Divine Benevolence, or an Attempt to Prove That the Principal End of the Divine Providence and Government is the Happiness of His Creatures, 1731년)\n",
    "신학에 대한 책.  \n",
    "  \n",
    "《미분법 개론 및 〈해석학자〉의 저자의 비평에 대한 수학자들의 변명》(영어: An Introduction to the Doctrine of Fluxions, and a Defence of the Mathematicians Against the Objections of the Author of The Analyst, 1736년)  \n",
    "아이작 뉴턴의 미적분학에 대한 책. 무명으로 출판되었다. 조지 버클리가 출판한 《해석학자》(영어: The Analyst)는 뉴턴의 미적분학을 무한소의 엄밀하지 못한 사용으로 비판하였는데, 베이즈는 이 책에서 뉴턴의 미적분학을 옹호하며, 버클리의 비판을 반박한다.  \n",
    "  \n",
    "베이즈는 말년에 확률론에 관심을 갖게 되었다. 베이즈의 확률론에 대한 원고는 사후 베이즈의 벗 리처드 프라이스에게 전달되었고, 프라이스는 이를 정리하여 1763년에 〈확률론의 한 문제에 대한 에세이〉(영어: An Essay towards solving a Problem in the Doctrine of Chances)라는 제목으로 출판하였다.[1] 베이즈 정리는 이 논문에서 등장한다."
   ]
  },
  {
   "cell_type": "markdown",
   "metadata": {},
   "source": [
    "# 조건부 확률과 베이즈 정리/ 사전확률, 사후확률\n",
    "\n",
    "베이즈 정리는 고등학교 '확률과 통계'시간에 나오는 조건부 확률의 심화개념이라 할 수 있다.\n",
    "조건부 확률이란 어떤 사건이 일어났다고 가정했을 때 다른 사건이 일어날 확률을 말한다. 어떤 사건을 A 다른 사건을 B라고 한다면  A가 일어났을 때 B가 일어날 확률을 P(B| A) 로 나타낸다.\n",
    "계산방법은 P(B| A) = P(A∩B)/P(A)이다.\n",
    "\n",
    "사전 확률은 관찰하기 전의 확률을 말하고 \n",
    "사후 확률은 어떤 사건이 일어났을 때의 변한 확률을 말한다.\n",
    "\n",
    "즉, 사전확률은 관찰을 통해 값이 변해 사후확률이 된다. 이 과정이 베이즈 통계학의 추론 과정인데, 현재까지의 관찰 결과를 통해 미래의 확률을 예측하는 것이 베이즈 통계학이기 때문이다.\n",
    " \n",
    "베이즈정리는 P(B| A)의 값을 이용하여 P(A| B) 의 값을 구하는 정리이다. 이에 대해서는 다음에 더 자세히 다뤄보도록 한다."
   ]
  },
  {
   "cell_type": "markdown",
   "metadata": {},
   "source": [
    "# 베이즈 통계학\n",
    "\n",
    " 위에서 언급한 내용들을 이해했다면 베이즈 통계학에 대해 이해할 수 있을 것이다. 베이즈 통계학과 네이만, 피어슨식 통계학과의 차이점을 생각해보자.\n",
    " \n",
    "기존의 통계학이라 할 수 있는 네이만, 피어슨식 통계학은 가설검정과 유의수준을 통한 추정을 한다.\n",
    "가설검정의 프로세스는 다음과 같다. (A또는 B인 경우)\n",
    "\n",
    " ⓐ 검정하려는 가설A설정 : 귀무가설\n",
    "\n",
    " ⓑ A가 아닌 경우인 B를 설정 : 대립가설\n",
    "\n",
    " ⓒ 유의수준 α의 값을 설정 (유의수준은 보통 α=0.05 or α=0.01으로 설정한다. )\n",
    "\n",
    " ⓓ A가 옳을 때 작은 확률 α이하로 나타날 수 있는 현상X를 선정\n",
    "\n",
    " ⓔ X가 관측되면 A가 틀렸으므로 귀무가설을 기각하고 대립가설을 선택, X가 관측되지 않으면 A를 기각 할 수 없어서 귀무가설을 선택\n",
    "\n",
    "관찰한 이후에 가설 둘 중 하나를 기각하므로 추정이 틀릴 확률이 존재한다. 그 확률은 유의수준으로 설정한 값이 된다. (0.01을 유의수준으로 설정하면 1%의 확률로 그 추정이 틀릴 수 있다는 것)\n",
    "다만, 유의수준으로 설정한 값보다 작은 확률로 나타나는 사건을 찾지 못한다면 어떠한 기각과 선택 어떤 결정도 내리지 못하게된다.\n",
    " \n",
    "베이즈 통계학의 추정 방식 (A또는 B인 경우)\n",
    "\n",
    " ⓐ A일 확률과 B일 확률에 대한 정보가 없어 이유불충분의 원리(A나 B가 확률이 높을 이유가 없음) 에 따라 사전확률을 0.5로 설정한다.\n",
    "\n",
    " ⓑ ㄱ : A일 때 X가 일어난다.  ㄴ : A일 때 X가 일어나지 않는다. \n",
    "     ㄷ : B일 때 X가 일어난다.  ㄹ : B일 때 X가 일어나지 않는다. \n",
    "로 4가지 케이스로 분류해 각각의 확률을 구한다. (조건부 확률 문제를 풀 때 표를 이용하는 것과 같은 방법)\n",
    "\n",
    " ⓒX가 일어났는지 관측한다.  \n",
    "\n",
    " ⓓ일어났다면 ㄱ,ㄷ 을 전체로 , 일어나지 않았다면 ㄴ,ㄹ을 전체로 보아 확률을 구한다. ( 조건부확률 계산처럼)\n",
    "\n",
    " ⓔ관측 이후 A B의 확률이 달라진다. 이것이 각각 사후확률이 되고 값에 따라 ‘대체로 A일 것 또는 대체로 B일 것’ 이라는 결론을 내린다.\n",
    " \n",
    "베이즈 통계학에서는 표준 통계학과는 다르게 유의수준을 설정하지 않는다. 그래서 어떠한 상황에서도 추정을 할 수 있다. 그리고 최종적인 결론을 ‘~일 확률이 더 높다’의 방식을 취하므로 통계분석가의 역량이 더 중요할 것이다. \n",
    "또한 축차합리성이라는 개념이 성립한다. 이는 관측을 통해 사후확률이 바뀌었을 때 다음 관측에서 사후확률을 사전확률로 설정해도 이전의 확률을 반영한다는 개념이다.\n",
    "\n",
    "![텍스트](https://post-phinf.pstatic.net/MjAxODA4MTlfODcg/MDAxNTM0Njg4MjE5NzEx.mC32_Yu_UQKWqI1j74Sm2HLJZCg0WEhMRRIl_jswDcMg.7FoyOw2GiTp4ZyOmFGlwVvbEzEP7KI2yt9DGpJj5BDUg.GIF/image.gif?type=w1200)\n",
    " \n",
    "따라서 관측결과는 계속해서 사후확률에 영향을 미치고 이것이 계속 축적되어 추정의 신뢰성이 높아지게 된다."
   ]
  }
 ],
 "metadata": {
  "kernelspec": {
   "display_name": "Python 3",
   "language": "python",
   "name": "python3"
  },
  "language_info": {
   "codemirror_mode": {
    "name": "ipython",
    "version": 3
   },
   "file_extension": ".py",
   "mimetype": "text/x-python",
   "name": "python",
   "nbconvert_exporter": "python",
   "pygments_lexer": "ipython3",
   "version": "3.7.2"
  },
  "toc": {
   "base_numbering": 1,
   "nav_menu": {},
   "number_sections": true,
   "sideBar": true,
   "skip_h1_title": false,
   "title_cell": "Table of Contents",
   "title_sidebar": "Contents",
   "toc_cell": false,
   "toc_position": {},
   "toc_section_display": true,
   "toc_window_display": true
  }
 },
 "nbformat": 4,
 "nbformat_minor": 2
}
