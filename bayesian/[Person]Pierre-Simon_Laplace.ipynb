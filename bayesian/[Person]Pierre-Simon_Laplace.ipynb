{
 "cells": [
  {
   "cell_type": "markdown",
   "metadata": {},
   "source": [
    "![Pierre-Simon Laplace](https://w.namu.la/s/85aeea1fdadae8f032ff20f250f17b0699784ba5f6a9a3253bfe732163e77fac68d1d2b6d900965877db73d5ffaa9d0e1a70d5708d19e477313216446507fed07c2db7d75d22acd68874d14e8c7229b27f5684ed4053c1a26bd972d405f29c58)\n",
    "                           Pierre-Simon Laplace  \n",
    "                           1749년 3월 23일 ~ 1827년 3월 5일"
   ]
  },
  {
   "cell_type": "markdown",
   "metadata": {},
   "source": [
    "# 개요\n",
    "프랑스의 수학자. 선형대수·확률론·해석학 등을 연구하였다. 앙투안 로렌 라부아지에의 친구기도 하여, 라부아지에가 그와의 공동연구를 통해 \"화학 혁명\"의 근본이 되는 수학적(정량적) 방법론의 중요성을 깨닫게 하기도 하였다."
   ]
  },
  {
   "cell_type": "markdown",
   "metadata": {},
   "source": [
    "# 행적\n",
    "나폴레옹 보나파르트와도 친분이 있어, 나폴레옹 1세 시절에 내무장관직을 6주간 맡았다. 그러나 이내 곧 그의 행정능력이 꽝이라는 걸 안 나폴레옹이 그를 해임시켰다. 하지만 이후에도 친분은 계속 이어져 나폴레옹 집권기의 프랑스에서 상원의원이 되고 후작 작위를 받는 등 좋은 시절을 보냈다.\n",
    "\n",
    "그의 주요한 두 저작인 《확률에 대한 철학적 시론》과 《천체 역학론》에는 에피소드가 하나씩 있다.\n",
    "\n",
    "《확률에 대한 철학적 시론》에서는 \"불확실한 것은 아무것도 없을 것이며, 과거와 마찬가지로 미래가 그의 눈 앞에 나타날 것이다.\"라고 하였는데, 여기서 \"그\"는 소위 (뉴턴의 기계론적 결정론의 결정체인) 라플라스의 악마라 불린다.\n",
    "\n",
    "그에게 프랑스의 아이작 뉴턴이란 별명을 붙여준 논문 \"천체 역학론\"에 대해 나폴레옹이 \"라플라스 경, 사람들이 말하길, 당신이 우주에 대해 방대한 책을 썼으면서도, 창조주에 관한 이야기를 한마디도 쓰지 않았다고 하오.\"라고 하자, \"폐하, 제게는 그런 가정이 필요하지 않습니다.\"라고 답한 일화가 유명하다."
   ]
  },
  {
   "cell_type": "markdown",
   "metadata": {},
   "source": [
    "# 업적\n",
    "\n",
    "## 천문학\n",
    "잘 알려져 있지 않지만 이마누엘 칸트와 더불어 오늘날 받아들여지는 태양계의 형성 과정인 성운설을 최초로 주장한 사람들 중 하나다."
   ]
  },
  {
   "cell_type": "markdown",
   "metadata": {},
   "source": [
    "## 라플라시안\n",
    "## 라플라시 변환"
   ]
  },
  {
   "cell_type": "markdown",
   "metadata": {},
   "source": [
    "## 베이즈 정리에 대한 수식화\n",
    "역확률에 대해 독자 연구 하던 중 영국 철학자 프라이스가 가져온 베이즈의 베이즈 정리에 대해 듣고 좀더 확신을 갖고 연구를 하였다.\n",
    "\n",
    "##### P(A∣B)= P(B)P(B|A)/P(B)"
   ]
  },
  {
   "cell_type": "markdown",
   "metadata": {},
   "source": [
    "<참고사이트> 나무위키, https://namu.wiki/w/피에르시몽%20라플라스"
   ]
  }
 ],
 "metadata": {
  "kernelspec": {
   "display_name": "Python 3",
   "language": "python",
   "name": "python3"
  },
  "language_info": {
   "codemirror_mode": {
    "name": "ipython",
    "version": 3
   },
   "file_extension": ".py",
   "mimetype": "text/x-python",
   "name": "python",
   "nbconvert_exporter": "python",
   "pygments_lexer": "ipython3",
   "version": "3.7.2"
  },
  "toc": {
   "base_numbering": 1,
   "nav_menu": {},
   "number_sections": true,
   "sideBar": true,
   "skip_h1_title": false,
   "title_cell": "Table of Contents",
   "title_sidebar": "Contents",
   "toc_cell": false,
   "toc_position": {},
   "toc_section_display": true,
   "toc_window_display": true
  }
 },
 "nbformat": 4,
 "nbformat_minor": 2
}
